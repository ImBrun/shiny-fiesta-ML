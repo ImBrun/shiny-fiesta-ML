{
 "cells": [
  {
   "cell_type": "code",
   "execution_count": 107,
   "id": "0898dea5",
   "metadata": {},
   "outputs": [],
   "source": [
    "#-------------Imports--------------\n",
    "import numpy as np\n",
    "import matplotlib.pyplot as plt\n",
    "import scipy.stats as stats\n",
    "import scipy.optimize as optimize\n",
    "from sklearn.preprocessing import StandardScaler\n",
    "from sklearn.neighbors import KNeighborsClassifier\n",
    "from sklearn.naive_bayes import GaussianNB\n",
    "from sklearn.naive_bayes import CategoricalNB\n",
    "from sklearn.metrics import accuracy_score\n",
    "from sklearn.model_selection import GridSearchCV\n",
    "from sklearn.pipeline import make_pipeline\n",
    "from sklearn.svm import SVC\n",
    "import warnings\n",
    "import math"
   ]
  },
  {
   "cell_type": "code",
   "execution_count": 46,
   "id": "fc08ec76",
   "metadata": {},
   "outputs": [],
   "source": [
    "# ignore some warnings about some scipy function getting changed in the next update\n",
    "warnings.simplefilter(action='ignore', category=FutureWarning)"
   ]
  },
  {
   "cell_type": "code",
   "execution_count": 2,
   "id": "0dad5253",
   "metadata": {},
   "outputs": [
    {
     "name": "stdout",
     "output_type": "stream",
     "text": [
      "(10000, 784)\n",
      "(10000,)\n",
      "(5000, 784)\n",
      "(5000,)\n"
     ]
    }
   ],
   "source": [
    "#-----------Load Dataset-----------\n",
    "\n",
    "path_train = \"fashion_train.npy\"\n",
    "path_test = \"fashion_test.npy\"\n",
    "\n",
    "train = np.load(path_train)\n",
    "test = np.load(path_test)\n",
    "\n",
    "#Split the training and test data into features and labels\n",
    "X_train = train[:,:784]\n",
    "y_train = train[:,784]\n",
    "\n",
    "X_test = test[:,:784]\n",
    "y_test = test[:,784]\n",
    "\n",
    "print(X_train.shape)\n",
    "print(y_train.shape)\n",
    "print(X_test.shape)\n",
    "print(y_test.shape)"
   ]
  },
  {
   "cell_type": "markdown",
   "id": "05a32b17",
   "metadata": {},
   "source": [
    "## LDA"
   ]
  },
  {
   "cell_type": "markdown",
   "id": "a8e60dfd",
   "metadata": {},
   "source": [
    "(will use first 2 linear discriminant variables as features with some of the classifiers)"
   ]
  },
  {
   "cell_type": "code",
   "execution_count": 3,
   "id": "b11e62f1",
   "metadata": {},
   "outputs": [],
   "source": [
    "def get_LDA_components(X,y):\n",
    "    \n",
    "    def get_Sw(X, y):\n",
    "    \n",
    "        N = X.shape[1] #number of features\n",
    "        S_w = np.zeros((N,N))\n",
    "        class_labels = np.unique(y)\n",
    "        c = class_labels.shape[0] #number of classes\n",
    "\n",
    "        #calculate scatter matrix for each class\n",
    "        for class_ in range(c):\n",
    "\n",
    "            S_i = np.zeros((N,N))\n",
    "            class_subset = X[y == class_] #get rows which are a part of the current class\n",
    "            mean_vector = (np.mean(class_subset, axis=0)).reshape(N, 1) #vector m_i containing\n",
    "            #means of all features in class i\n",
    "\n",
    "            for row_idx in range(class_subset.shape[0]):\n",
    "\n",
    "                x = (class_subset[row_idx, :]).reshape(N, 1)\n",
    "                S_i += (np.dot((x - mean_vector), np.transpose(x - mean_vector))) #apply formula for within class scatter matrix\n",
    "\n",
    "            S_w += S_i\n",
    "\n",
    "        return S_w\n",
    "    #--------------Compute Between Class Scatter Matrix---------------\n",
    "    def get_Sb(X, y):\n",
    "    \n",
    "        N = X.shape[1] #number of features\n",
    "        m = (np.mean(X, axis=0)).reshape(N,1) #overall mean\n",
    "        S_b = np.zeros((N,N))\n",
    "        class_labels = np.unique(y)\n",
    "        c = class_labels.shape[0] #number of classes\n",
    "\n",
    "        for class_ in range(c):\n",
    "\n",
    "            class_subset = X[y == class_]\n",
    "            n_rows = class_subset.shape[0] #get number of rows which are a part of the current class\n",
    "            mean_vector = (np.mean(class_subset, axis=0)).reshape(N, 1) #vector m_i containing\n",
    "            #means of all features in class i\n",
    "            S_b += n_rows * ((mean_vector - m).dot((mean_vector - m).T)) #apply formula for between class scatter matrix\n",
    "\n",
    "        return S_b\n",
    "    \n",
    "    def get_linear_discriminants(S_w, S_b):\n",
    "    \n",
    "        # calculate the eigenvectors and eigenvalues of the matrix ((S_w)^-1)(S_b)\n",
    "        eig_vals, eig_vecs = np.linalg.eig((np.linalg.inv(S_w)).dot(S_b))\n",
    "\n",
    "        eig_pairs = [(np.abs(eig_vals[i]), eig_vecs[:,i]) for i in range(len(eig_vals))] #create a list of corresponding\n",
    "        #eigenvectors and eigenvalues\n",
    "        eig_pairs = sorted(eig_pairs, key=lambda k: k[0], reverse=True)\n",
    "        #sort the list by the eigenvalues in decreasing order\n",
    "\n",
    "        return eig_pairs\n",
    "    \n",
    "    N = X.shape[1] #get number of features\n",
    "    S_w = get_Sw(X, y) #get within class scatter matrix\n",
    "    S_b = get_Sb(X, y) #get between class scatter matrix\n",
    "    \n",
    "    sorted_eigenvecs = get_linear_discriminants(S_w, S_b) #get linear discriminants sorted by\n",
    "    #variance explained in descending order (most descriptive first)\n",
    "    \n",
    "    #get first 2 linear discriminants\n",
    "    W = np.hstack((sorted_eigenvecs[0][1].reshape(N,1), sorted_eigenvecs[1][1].reshape(N,1)))\n",
    "    \n",
    "    #transform the samples onto the new subspace\n",
    "    #transformed = X.dot(W)\n",
    "    \n",
    "    return W"
   ]
  },
  {
   "cell_type": "code",
   "execution_count": 4,
   "id": "36246995",
   "metadata": {},
   "outputs": [],
   "source": [
    "W = get_LDA_components(X_train,y_train)"
   ]
  },
  {
   "cell_type": "code",
   "execution_count": 5,
   "id": "7eee193d",
   "metadata": {},
   "outputs": [],
   "source": [
    "X_lda = X_train.dot(W)"
   ]
  },
  {
   "cell_type": "code",
   "execution_count": 10,
   "id": "5ba3fa0f",
   "metadata": {},
   "outputs": [],
   "source": [
    "X_lda = X_lda.real"
   ]
  },
  {
   "cell_type": "code",
   "execution_count": 55,
   "id": "c2f61d45",
   "metadata": {},
   "outputs": [],
   "source": [
    "scaler = StandardScaler()\n",
    "X_lda_std = scaler.fit_transform(X_lda)"
   ]
  },
  {
   "cell_type": "markdown",
   "id": "b90bdb61",
   "metadata": {},
   "source": [
    "## KNN"
   ]
  },
  {
   "cell_type": "markdown",
   "id": "53f39bdc",
   "metadata": {},
   "source": [
    "### Train and predict using different hyperparameters"
   ]
  },
  {
   "cell_type": "markdown",
   "id": "73933f3d",
   "metadata": {},
   "source": [
    "5 neighbours"
   ]
  },
  {
   "cell_type": "code",
   "execution_count": 47,
   "id": "abadbf64",
   "metadata": {},
   "outputs": [
    {
     "data": {
      "text/plain": [
       "KNeighborsClassifier()"
      ]
     },
     "execution_count": 47,
     "metadata": {},
     "output_type": "execute_result"
    }
   ],
   "source": [
    "neigh = KNeighborsClassifier(n_neighbors=5)\n",
    "neigh.fit(X_lda, y_train)"
   ]
  },
  {
   "cell_type": "code",
   "execution_count": 48,
   "id": "8c99a811",
   "metadata": {},
   "outputs": [],
   "source": [
    "pred_knn = neigh.predict(X_lda)"
   ]
  },
  {
   "cell_type": "markdown",
   "id": "7c8667e7",
   "metadata": {},
   "source": [
    "3 neighbours"
   ]
  },
  {
   "cell_type": "code",
   "execution_count": 49,
   "id": "8896325f",
   "metadata": {},
   "outputs": [
    {
     "data": {
      "text/plain": [
       "KNeighborsClassifier(n_neighbors=3)"
      ]
     },
     "execution_count": 49,
     "metadata": {},
     "output_type": "execute_result"
    }
   ],
   "source": [
    "neigh3 = KNeighborsClassifier(n_neighbors=3)\n",
    "neigh3.fit(X_lda, y_train)"
   ]
  },
  {
   "cell_type": "code",
   "execution_count": 50,
   "id": "c731096b",
   "metadata": {},
   "outputs": [],
   "source": [
    "pred_3n = neigh3.predict(X_lda)"
   ]
  },
  {
   "cell_type": "markdown",
   "id": "40b3b163",
   "metadata": {},
   "source": [
    "### Try the same for the standardized features"
   ]
  },
  {
   "cell_type": "code",
   "execution_count": 57,
   "id": "e40e7f02",
   "metadata": {},
   "outputs": [],
   "source": [
    "neigh5_std = KNeighborsClassifier(n_neighbors=5)\n",
    "neigh5_std.fit(X_lda_std, y_train)\n",
    "pred5_std = neigh5_std.predict(X_lda_std)"
   ]
  },
  {
   "cell_type": "code",
   "execution_count": 58,
   "id": "c411f18d",
   "metadata": {},
   "outputs": [],
   "source": [
    "neigh3_std = KNeighborsClassifier(n_neighbors=3)\n",
    "neigh3_std.fit(X_lda_std, y_train)\n",
    "pred3_std = neigh3_std.predict(X_lda_std)"
   ]
  },
  {
   "cell_type": "markdown",
   "id": "01d939f8",
   "metadata": {},
   "source": [
    "### Try to find optimal parameters using grid search"
   ]
  },
  {
   "cell_type": "code",
   "execution_count": 51,
   "id": "7fcb5ecb",
   "metadata": {},
   "outputs": [
    {
     "name": "stdout",
     "output_type": "stream",
     "text": [
      "Best k value: 16\n",
      "Best Score: 0.7734\n"
     ]
    }
   ],
   "source": [
    "clf = KNeighborsClassifier(n_neighbors = 5)\n",
    "\n",
    "param_grid = {'n_neighbors': [1,2,3,4,5,6,7,8,9,10,11,12,13,14,15,16,17]}\n",
    "grid_search = GridSearchCV(clf, param_grid, cv=5, scoring=\"accuracy\")\n",
    "grid_search.fit(X_lda, y_train)\n",
    "\n",
    "print(\"Best k value:\", grid_search.best_params_['n_neighbors'])\n",
    "print(\"Best Score:\", grid_search.best_score_)"
   ]
  },
  {
   "cell_type": "markdown",
   "id": "12659322",
   "metadata": {},
   "source": [
    "### Training accuracy\n",
    "\n",
    "5 neighbors"
   ]
  },
  {
   "cell_type": "code",
   "execution_count": 16,
   "id": "39fe5519",
   "metadata": {},
   "outputs": [
    {
     "data": {
      "text/plain": [
       "0.8147"
      ]
     },
     "execution_count": 16,
     "metadata": {},
     "output_type": "execute_result"
    }
   ],
   "source": [
    "train_acc = accuracy_score(pred_knn, y_train)\n",
    "train_acc"
   ]
  },
  {
   "cell_type": "markdown",
   "id": "2d2dfa3e",
   "metadata": {},
   "source": [
    "3 neighbours"
   ]
  },
  {
   "cell_type": "code",
   "execution_count": 28,
   "id": "3a327045",
   "metadata": {},
   "outputs": [
    {
     "data": {
      "text/plain": [
       "0.8349"
      ]
     },
     "execution_count": 28,
     "metadata": {},
     "output_type": "execute_result"
    }
   ],
   "source": [
    "train_acc3 = accuracy_score(pred_3n, y_train)\n",
    "train_acc3"
   ]
  },
  {
   "cell_type": "markdown",
   "id": "5e6d57d8",
   "metadata": {},
   "source": [
    "16 neighbors (suggested by grid search)"
   ]
  },
  {
   "cell_type": "code",
   "execution_count": 52,
   "id": "372440c1",
   "metadata": {
    "scrolled": true
   },
   "outputs": [
    {
     "data": {
      "text/plain": [
       "KNeighborsClassifier(n_neighbors=16)"
      ]
     },
     "execution_count": 52,
     "metadata": {},
     "output_type": "execute_result"
    }
   ],
   "source": [
    "best_neigh = KNeighborsClassifier(n_neighbors=16)\n",
    "best_neigh.fit(X_lda, y_train)"
   ]
  },
  {
   "cell_type": "code",
   "execution_count": 53,
   "id": "f21b3078",
   "metadata": {},
   "outputs": [],
   "source": [
    "pred_ = best_neigh.predict(X_lda)"
   ]
  },
  {
   "cell_type": "code",
   "execution_count": 54,
   "id": "e2ed1131",
   "metadata": {},
   "outputs": [
    {
     "data": {
      "text/plain": [
       "0.7919"
      ]
     },
     "execution_count": 54,
     "metadata": {},
     "output_type": "execute_result"
    }
   ],
   "source": [
    "accuracy_score(pred_, y_train)"
   ]
  },
  {
   "cell_type": "markdown",
   "id": "abdc350b",
   "metadata": {},
   "source": [
    "### Same for standardized features"
   ]
  },
  {
   "cell_type": "markdown",
   "id": "d6e19250",
   "metadata": {},
   "source": [
    "Very slightly better with the standardized features"
   ]
  },
  {
   "cell_type": "code",
   "execution_count": 59,
   "id": "8d80fe41",
   "metadata": {},
   "outputs": [
    {
     "data": {
      "text/plain": [
       "0.8364"
      ]
     },
     "execution_count": 59,
     "metadata": {},
     "output_type": "execute_result"
    }
   ],
   "source": [
    "train_acc3_std = accuracy_score(pred3_std, y_train)\n",
    "train_acc3_std"
   ]
  },
  {
   "cell_type": "code",
   "execution_count": 60,
   "id": "bcf78f65",
   "metadata": {},
   "outputs": [
    {
     "data": {
      "text/plain": [
       "0.8169"
      ]
     },
     "execution_count": 60,
     "metadata": {},
     "output_type": "execute_result"
    }
   ],
   "source": [
    "train_acc5_std = accuracy_score(pred5_std, y_train)\n",
    "train_acc5_std"
   ]
  },
  {
   "cell_type": "markdown",
   "id": "4f766159",
   "metadata": {},
   "source": [
    "## Test accuracy for chosen model - 5 neighbours\n",
    "\n",
    "(with standardized features)"
   ]
  },
  {
   "cell_type": "code",
   "execution_count": 42,
   "id": "649ce7cd",
   "metadata": {},
   "outputs": [],
   "source": [
    "X_lda_test = X_test.dot(W)\n",
    "X_lda_test = X_lda_test.real"
   ]
  },
  {
   "cell_type": "code",
   "execution_count": 61,
   "id": "c5b47022",
   "metadata": {},
   "outputs": [],
   "source": [
    "scaler2 = StandardScaler()\n",
    "X_lda_test_std = scaler2.fit_transform(X_lda_test)"
   ]
  },
  {
   "cell_type": "code",
   "execution_count": 64,
   "id": "04312261",
   "metadata": {},
   "outputs": [],
   "source": [
    "pred_test = neigh5_std.predict(X_lda_test_std)"
   ]
  },
  {
   "cell_type": "code",
   "execution_count": 65,
   "id": "875371a5",
   "metadata": {},
   "outputs": [
    {
     "data": {
      "text/plain": [
       "0.7126"
      ]
     },
     "execution_count": 65,
     "metadata": {},
     "output_type": "execute_result"
    }
   ],
   "source": [
    "accuracy_score(pred_test, y_test)"
   ]
  },
  {
   "cell_type": "markdown",
   "id": "7f4ee3a6",
   "metadata": {},
   "source": [
    "## SVM"
   ]
  },
  {
   "cell_type": "markdown",
   "id": "3dfedeab",
   "metadata": {},
   "source": [
    "First standardize the features, then fit the SVM"
   ]
  },
  {
   "cell_type": "markdown",
   "id": "47039c51",
   "metadata": {},
   "source": [
    "RBF kernel"
   ]
  },
  {
   "cell_type": "code",
   "execution_count": 84,
   "id": "bd63d5dc",
   "metadata": {},
   "outputs": [
    {
     "data": {
      "text/plain": [
       "Pipeline(steps=[('standardscaler', StandardScaler()),\n",
       "                ('svc', SVC(gamma='auto'))])"
      ]
     },
     "execution_count": 84,
     "metadata": {},
     "output_type": "execute_result"
    }
   ],
   "source": [
    "svm_1 = make_pipeline(StandardScaler(), SVC(gamma='auto'))\n",
    "svm_1.fit(X_lda, y_train)"
   ]
  },
  {
   "cell_type": "code",
   "execution_count": 85,
   "id": "b9978f6a",
   "metadata": {},
   "outputs": [],
   "source": [
    "pred_svm_1 = svm_1.predict(X_lda)"
   ]
  },
  {
   "cell_type": "code",
   "execution_count": 86,
   "id": "d075a492",
   "metadata": {},
   "outputs": [
    {
     "data": {
      "text/plain": [
       "0.7803"
      ]
     },
     "execution_count": 86,
     "metadata": {},
     "output_type": "execute_result"
    }
   ],
   "source": [
    "accuracy_score(pred_svm_1, y_train)"
   ]
  },
  {
   "cell_type": "markdown",
   "id": "4d04ad7f",
   "metadata": {},
   "source": [
    "Polynomial kernel"
   ]
  },
  {
   "cell_type": "code",
   "execution_count": 90,
   "id": "a1ccb22d",
   "metadata": {},
   "outputs": [
    {
     "data": {
      "text/plain": [
       "Pipeline(steps=[('standardscaler', StandardScaler()),\n",
       "                ('svc', SVC(gamma='auto', kernel='poly'))])"
      ]
     },
     "execution_count": 90,
     "metadata": {},
     "output_type": "execute_result"
    }
   ],
   "source": [
    "svm_2 = make_pipeline(StandardScaler(), SVC(gamma='auto', kernel = 'poly', degree = 3))\n",
    "svm_2.fit(X_lda, y_train)"
   ]
  },
  {
   "cell_type": "code",
   "execution_count": 91,
   "id": "6bc36e82",
   "metadata": {},
   "outputs": [],
   "source": [
    "pred_svm_2 = svm_2.predict(X_lda)"
   ]
  },
  {
   "cell_type": "code",
   "execution_count": 92,
   "id": "ddeba834",
   "metadata": {},
   "outputs": [
    {
     "data": {
      "text/plain": [
       "0.7458"
      ]
     },
     "execution_count": 92,
     "metadata": {},
     "output_type": "execute_result"
    }
   ],
   "source": [
    "accuracy_score(pred_svm_2, y_train)"
   ]
  },
  {
   "cell_type": "markdown",
   "id": "ec2a195e",
   "metadata": {},
   "source": [
    "### Try to find optimal parameters using grid search"
   ]
  },
  {
   "cell_type": "code",
   "execution_count": 95,
   "id": "2e3a44c2",
   "metadata": {},
   "outputs": [
    {
     "name": "stdout",
     "output_type": "stream",
     "text": [
      "Best gamma value: auto\n",
      "Best kernel value: linear\n",
      "Best Score: 0.7809999999999999\n"
     ]
    }
   ],
   "source": [
    "clf_svm = SVC(gamma='auto')\n",
    "\n",
    "param_grid_svm = {'gamma': ['auto', 'scale'], 'kernel': ['linear', 'poly', 'rbf', 'sigmoid']}\n",
    "grid_search_svm = GridSearchCV(clf_svm, param_grid_svm, cv=5, scoring=\"accuracy\")\n",
    "grid_search_svm.fit(X_lda_std, y_train)\n",
    "\n",
    "print(\"Best gamma value:\", grid_search_svm.best_params_['gamma'])\n",
    "print(\"Best kernel value:\", grid_search_svm.best_params_['kernel'])\n",
    "print(\"Best Score:\", grid_search_svm.best_score_)"
   ]
  },
  {
   "cell_type": "markdown",
   "id": "fbd6e6d2",
   "metadata": {},
   "source": [
    "### Training accuracy with parameters suggested by grid search"
   ]
  },
  {
   "cell_type": "code",
   "execution_count": 96,
   "id": "d8e7f834",
   "metadata": {},
   "outputs": [
    {
     "data": {
      "text/plain": [
       "Pipeline(steps=[('standardscaler', StandardScaler()),\n",
       "                ('svc', SVC(gamma='auto', kernel='linear'))])"
      ]
     },
     "execution_count": 96,
     "metadata": {},
     "output_type": "execute_result"
    }
   ],
   "source": [
    "best_svm = make_pipeline(StandardScaler(), SVC(gamma='auto', kernel = 'linear'))\n",
    "best_svm.fit(X_lda, y_train)"
   ]
  },
  {
   "cell_type": "code",
   "execution_count": 97,
   "id": "d0a7fe10",
   "metadata": {},
   "outputs": [],
   "source": [
    "best_svm_pred = best_svm.predict(X_lda) "
   ]
  },
  {
   "cell_type": "code",
   "execution_count": 98,
   "id": "761f2202",
   "metadata": {},
   "outputs": [
    {
     "data": {
      "text/plain": [
       "0.7812"
      ]
     },
     "execution_count": 98,
     "metadata": {},
     "output_type": "execute_result"
    }
   ],
   "source": [
    "accuracy_score(best_svm_pred, y_train)"
   ]
  },
  {
   "cell_type": "markdown",
   "id": "11fe1831",
   "metadata": {},
   "source": [
    "## Test accuracy for chosen model - SVM with rbf kernel\n",
    "\n",
    "(and feature scaling)"
   ]
  },
  {
   "cell_type": "code",
   "execution_count": 93,
   "id": "beca171a",
   "metadata": {},
   "outputs": [],
   "source": [
    "pred_svm_test = svm_1.predict(X_lda_test)"
   ]
  },
  {
   "cell_type": "code",
   "execution_count": 94,
   "id": "c2de5cc4",
   "metadata": {},
   "outputs": [
    {
     "data": {
      "text/plain": [
       "0.731"
      ]
     },
     "execution_count": 94,
     "metadata": {},
     "output_type": "execute_result"
    }
   ],
   "source": [
    "accuracy_score(pred_svm_test, y_test)"
   ]
  },
  {
   "cell_type": "markdown",
   "id": "8d83b81c",
   "metadata": {},
   "source": [
    "## Naive Bayes from sklearn"
   ]
  },
  {
   "cell_type": "markdown",
   "id": "d9e6150b",
   "metadata": {},
   "source": [
    "### Gaussian Naive Bayes"
   ]
  },
  {
   "cell_type": "code",
   "execution_count": 102,
   "id": "c16df2c3",
   "metadata": {},
   "outputs": [
    {
     "data": {
      "text/plain": [
       "GaussianNB()"
      ]
     },
     "execution_count": 102,
     "metadata": {},
     "output_type": "execute_result"
    }
   ],
   "source": [
    "gaussian_nb_1 = GaussianNB()\n",
    "gaussian_nb_1.fit(X_lda, y_train)"
   ]
  },
  {
   "cell_type": "markdown",
   "id": "acb9713b",
   "metadata": {},
   "source": [
    "### Training accuracy"
   ]
  },
  {
   "cell_type": "code",
   "execution_count": 103,
   "id": "76116d9f",
   "metadata": {},
   "outputs": [],
   "source": [
    "pred_gnb = gaussian_nb_1.predict(X_lda)"
   ]
  },
  {
   "cell_type": "code",
   "execution_count": 104,
   "id": "d82a70f1",
   "metadata": {},
   "outputs": [
    {
     "data": {
      "text/plain": [
       "0.7722"
      ]
     },
     "execution_count": 104,
     "metadata": {},
     "output_type": "execute_result"
    }
   ],
   "source": [
    "accuracy_score(pred_gnb, y_train)"
   ]
  },
  {
   "cell_type": "markdown",
   "id": "d8f4f070",
   "metadata": {},
   "source": [
    "### Test accuracy"
   ]
  },
  {
   "cell_type": "code",
   "execution_count": 105,
   "id": "5d0df39b",
   "metadata": {},
   "outputs": [],
   "source": [
    "pred_gnb_test = gaussian_nb_1.predict(X_lda_test)"
   ]
  },
  {
   "cell_type": "code",
   "execution_count": 106,
   "id": "b5683c30",
   "metadata": {},
   "outputs": [
    {
     "data": {
      "text/plain": [
       "0.7238"
      ]
     },
     "execution_count": 106,
     "metadata": {},
     "output_type": "execute_result"
    }
   ],
   "source": [
    "accuracy_score(pred_gnb_test, y_test)"
   ]
  }
 ],
 "metadata": {
  "kernelspec": {
   "display_name": "Python 3 (ipykernel)",
   "language": "python",
   "name": "python3"
  },
  "language_info": {
   "codemirror_mode": {
    "name": "ipython",
    "version": 3
   },
   "file_extension": ".py",
   "mimetype": "text/x-python",
   "name": "python",
   "nbconvert_exporter": "python",
   "pygments_lexer": "ipython3",
   "version": "3.9.13"
  }
 },
 "nbformat": 4,
 "nbformat_minor": 5
}
