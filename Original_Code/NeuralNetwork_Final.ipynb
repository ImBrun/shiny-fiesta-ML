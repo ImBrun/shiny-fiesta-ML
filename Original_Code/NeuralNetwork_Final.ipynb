{
 "cells": [
  {
   "cell_type": "code",
   "execution_count": 1,
   "id": "e27ea0d2",
   "metadata": {},
   "outputs": [],
   "source": [
    "#-------------Imports--------------\n",
    "import numpy as np\n",
    "import pandas as pd\n",
    "import matplotlib.pyplot as plt\n",
    "import tensorflow as tf\n",
    "from tensorflow.keras.callbacks import EarlyStopping\n",
    "from tensorflow.keras import Sequential\n",
    "from tensorflow.keras.layers import Dense\n",
    "from tensorflow.keras.layers import Dropout\n",
    "from tensorflow.keras.losses import SparseCategoricalCrossentropy\n",
    "from tensorflow.keras.optimizers import Adam\n",
    "from sklearn.metrics import accuracy_score"
   ]
  },
  {
   "cell_type": "code",
   "execution_count": 2,
   "id": "b3b7d63b",
   "metadata": {},
   "outputs": [
    {
     "name": "stdout",
     "output_type": "stream",
     "text": [
      "(10000, 784)\n",
      "(10000,)\n",
      "(5000, 784)\n",
      "(5000,)\n"
     ]
    }
   ],
   "source": [
    "#-----------Load Dataset-----------\n",
    "\n",
    "path_train = \"fashion_train.npy\"\n",
    "path_test = \"fashion_test.npy\"\n",
    "\n",
    "train = np.load(path_train)\n",
    "test = np.load(path_test)\n",
    "\n",
    "#Split the training and test data into features and labels\n",
    "X = train[:,:784]\n",
    "y = train[:,784]\n",
    "\n",
    "X = X / 255\n",
    "\n",
    "X_test = test[:,:784]\n",
    "y_test = test[:,784]\n",
    "\n",
    "X_test = X_test / 255\n",
    "\n",
    "print(X.shape)\n",
    "print(y.shape)\n",
    "print(X_test.shape)\n",
    "print(y_test.shape)"
   ]
  },
  {
   "cell_type": "markdown",
   "id": "a5f801c8",
   "metadata": {},
   "source": [
    "### Split training set into training and validation set"
   ]
  },
  {
   "cell_type": "code",
   "execution_count": 3,
   "id": "35cea56d",
   "metadata": {},
   "outputs": [
    {
     "name": "stdout",
     "output_type": "stream",
     "text": [
      "(7000, 784)\n",
      "(7000,)\n",
      "(3000, 784)\n",
      "(3000,)\n"
     ]
    }
   ],
   "source": [
    "train_percentage = int((X.shape[0]) * 0.7)\n",
    "train_percentage\n",
    "\n",
    "X_train = X[:train_percentage, :]\n",
    "y_train = y[:train_percentage]\n",
    "\n",
    "print(X_train.shape)\n",
    "print(y_train.shape)\n",
    "\n",
    "X_val = X[train_percentage:, :]\n",
    "y_val = y[train_percentage:]\n",
    "\n",
    "print(X_val.shape)\n",
    "print(y_val.shape)"
   ]
  },
  {
   "cell_type": "markdown",
   "id": "cc5fa9d8",
   "metadata": {},
   "source": [
    "### Final chosen model"
   ]
  },
  {
   "cell_type": "code",
   "execution_count": 31,
   "id": "d8f6a3a5",
   "metadata": {},
   "outputs": [],
   "source": [
    "model = Sequential([\n",
    "    Dense(units=100, activation=\"relu\"),\n",
    "    Dropout(0.2),\n",
    "    Dense(units=50, activation=\"relu\"),\n",
    "    Dropout(0.2),\n",
    "    Dense(units=25, activation=\"relu\"),\n",
    "    Dropout(0.2),\n",
    "    Dense(units=5, activation=\"linear\")\n",
    "])\n",
    "\n",
    "model.compile(loss=SparseCategoricalCrossentropy(from_logits=True),\n",
    "              optimizer=Adam(learning_rate=(1e-5)*3),\n",
    "              metrics=[\"accuracy\"]\n",
    "             )"
   ]
  },
  {
   "cell_type": "code",
   "execution_count": 32,
   "id": "01545436",
   "metadata": {},
   "outputs": [],
   "source": [
    "callbacks = [EarlyStopping(patience=3, monitor=\"val_loss\", restore_best_weights=True)]"
   ]
  },
  {
   "cell_type": "code",
   "execution_count": 33,
   "id": "9ea0442e",
   "metadata": {},
   "outputs": [
    {
     "name": "stdout",
     "output_type": "stream",
     "text": [
      "Epoch 1/100\n",
      "219/219 [==============================] - 1s 2ms/step - loss: 1.4839 - accuracy: 0.3570 - val_loss: 1.2433 - val_accuracy: 0.6893\n",
      "Epoch 2/100\n",
      "219/219 [==============================] - 1s 2ms/step - loss: 1.2108 - accuracy: 0.5440 - val_loss: 0.9735 - val_accuracy: 0.7093\n",
      "Epoch 3/100\n",
      "219/219 [==============================] - 0s 2ms/step - loss: 1.0607 - accuracy: 0.6047 - val_loss: 0.8452 - val_accuracy: 0.7263\n",
      "Epoch 4/100\n",
      "219/219 [==============================] - 0s 2ms/step - loss: 0.9566 - accuracy: 0.6431 - val_loss: 0.7645 - val_accuracy: 0.7320\n",
      "Epoch 5/100\n",
      "219/219 [==============================] - 0s 2ms/step - loss: 0.8923 - accuracy: 0.6703 - val_loss: 0.7178 - val_accuracy: 0.7423\n",
      "Epoch 6/100\n",
      "219/219 [==============================] - 0s 2ms/step - loss: 0.8458 - accuracy: 0.6826 - val_loss: 0.6822 - val_accuracy: 0.7473\n",
      "Epoch 7/100\n",
      "219/219 [==============================] - 0s 2ms/step - loss: 0.8032 - accuracy: 0.6994 - val_loss: 0.6532 - val_accuracy: 0.7650\n",
      "Epoch 8/100\n",
      "219/219 [==============================] - 0s 2ms/step - loss: 0.7774 - accuracy: 0.7106 - val_loss: 0.6356 - val_accuracy: 0.7723\n",
      "Epoch 9/100\n",
      "219/219 [==============================] - 0s 2ms/step - loss: 0.7481 - accuracy: 0.7284 - val_loss: 0.6163 - val_accuracy: 0.7790\n",
      "Epoch 10/100\n",
      "219/219 [==============================] - 1s 2ms/step - loss: 0.7216 - accuracy: 0.7281 - val_loss: 0.5982 - val_accuracy: 0.7857\n",
      "Epoch 11/100\n",
      "219/219 [==============================] - 1s 2ms/step - loss: 0.7030 - accuracy: 0.7450 - val_loss: 0.5846 - val_accuracy: 0.7920\n",
      "Epoch 12/100\n",
      "219/219 [==============================] - 0s 2ms/step - loss: 0.6957 - accuracy: 0.7400 - val_loss: 0.5814 - val_accuracy: 0.7870\n",
      "Epoch 13/100\n",
      "219/219 [==============================] - 0s 2ms/step - loss: 0.6786 - accuracy: 0.7486 - val_loss: 0.5656 - val_accuracy: 0.7990\n",
      "Epoch 14/100\n",
      "219/219 [==============================] - 0s 2ms/step - loss: 0.6549 - accuracy: 0.7556 - val_loss: 0.5564 - val_accuracy: 0.8013\n",
      "Epoch 15/100\n",
      "219/219 [==============================] - 0s 2ms/step - loss: 0.6486 - accuracy: 0.7647 - val_loss: 0.5488 - val_accuracy: 0.8007\n",
      "Epoch 16/100\n",
      "219/219 [==============================] - 1s 3ms/step - loss: 0.6453 - accuracy: 0.7669 - val_loss: 0.5422 - val_accuracy: 0.8057\n",
      "Epoch 17/100\n",
      "219/219 [==============================] - 0s 2ms/step - loss: 0.6255 - accuracy: 0.7691 - val_loss: 0.5320 - val_accuracy: 0.8070\n",
      "Epoch 18/100\n",
      "219/219 [==============================] - 0s 2ms/step - loss: 0.6148 - accuracy: 0.7729 - val_loss: 0.5270 - val_accuracy: 0.8120\n",
      "Epoch 19/100\n",
      "219/219 [==============================] - 0s 2ms/step - loss: 0.6035 - accuracy: 0.7790 - val_loss: 0.5226 - val_accuracy: 0.8130\n",
      "Epoch 20/100\n",
      "219/219 [==============================] - 0s 2ms/step - loss: 0.6002 - accuracy: 0.7783 - val_loss: 0.5142 - val_accuracy: 0.8163\n",
      "Epoch 21/100\n",
      "219/219 [==============================] - 1s 2ms/step - loss: 0.5951 - accuracy: 0.7877 - val_loss: 0.5083 - val_accuracy: 0.8170\n",
      "Epoch 22/100\n",
      "219/219 [==============================] - 1s 3ms/step - loss: 0.5887 - accuracy: 0.7933 - val_loss: 0.5043 - val_accuracy: 0.8200\n",
      "Epoch 23/100\n",
      "219/219 [==============================] - 0s 2ms/step - loss: 0.5712 - accuracy: 0.7911 - val_loss: 0.4976 - val_accuracy: 0.8187\n",
      "Epoch 24/100\n",
      "219/219 [==============================] - 0s 2ms/step - loss: 0.5697 - accuracy: 0.7920 - val_loss: 0.4919 - val_accuracy: 0.8183\n",
      "Epoch 25/100\n",
      "219/219 [==============================] - 0s 2ms/step - loss: 0.5640 - accuracy: 0.7904 - val_loss: 0.4892 - val_accuracy: 0.8217\n",
      "Epoch 26/100\n",
      "219/219 [==============================] - 0s 2ms/step - loss: 0.5561 - accuracy: 0.7983 - val_loss: 0.4856 - val_accuracy: 0.8227\n",
      "Epoch 27/100\n",
      "219/219 [==============================] - 1s 2ms/step - loss: 0.5458 - accuracy: 0.8009 - val_loss: 0.4796 - val_accuracy: 0.8270\n",
      "Epoch 28/100\n",
      "219/219 [==============================] - 1s 3ms/step - loss: 0.5460 - accuracy: 0.8016 - val_loss: 0.4775 - val_accuracy: 0.8260\n",
      "Epoch 29/100\n",
      "219/219 [==============================] - 0s 2ms/step - loss: 0.5387 - accuracy: 0.8086 - val_loss: 0.4730 - val_accuracy: 0.8273\n",
      "Epoch 30/100\n",
      "219/219 [==============================] - 0s 2ms/step - loss: 0.5337 - accuracy: 0.8133 - val_loss: 0.4702 - val_accuracy: 0.8290\n",
      "Epoch 31/100\n",
      "219/219 [==============================] - 0s 2ms/step - loss: 0.5300 - accuracy: 0.8110 - val_loss: 0.4643 - val_accuracy: 0.8303\n",
      "Epoch 32/100\n",
      "219/219 [==============================] - 0s 2ms/step - loss: 0.5254 - accuracy: 0.8151 - val_loss: 0.4610 - val_accuracy: 0.8297\n",
      "Epoch 33/100\n",
      "219/219 [==============================] - 0s 2ms/step - loss: 0.5199 - accuracy: 0.8159 - val_loss: 0.4580 - val_accuracy: 0.8317\n",
      "Epoch 34/100\n",
      "219/219 [==============================] - 0s 2ms/step - loss: 0.5190 - accuracy: 0.8114 - val_loss: 0.4567 - val_accuracy: 0.8353\n",
      "Epoch 35/100\n",
      "219/219 [==============================] - 0s 2ms/step - loss: 0.5081 - accuracy: 0.8160 - val_loss: 0.4510 - val_accuracy: 0.8337\n",
      "Epoch 36/100\n",
      "219/219 [==============================] - 0s 2ms/step - loss: 0.5061 - accuracy: 0.8147 - val_loss: 0.4491 - val_accuracy: 0.8347\n",
      "Epoch 37/100\n",
      "219/219 [==============================] - 0s 2ms/step - loss: 0.5026 - accuracy: 0.8161 - val_loss: 0.4481 - val_accuracy: 0.8357\n",
      "Epoch 38/100\n",
      "219/219 [==============================] - 0s 2ms/step - loss: 0.5001 - accuracy: 0.8191 - val_loss: 0.4447 - val_accuracy: 0.8383\n",
      "Epoch 39/100\n",
      "219/219 [==============================] - 0s 2ms/step - loss: 0.4882 - accuracy: 0.8223 - val_loss: 0.4407 - val_accuracy: 0.8360\n",
      "Epoch 40/100\n",
      "219/219 [==============================] - 1s 2ms/step - loss: 0.4963 - accuracy: 0.8274 - val_loss: 0.4406 - val_accuracy: 0.8397\n",
      "Epoch 41/100\n",
      "219/219 [==============================] - 0s 2ms/step - loss: 0.4851 - accuracy: 0.8260 - val_loss: 0.4376 - val_accuracy: 0.8393\n",
      "Epoch 42/100\n",
      "219/219 [==============================] - 0s 2ms/step - loss: 0.4730 - accuracy: 0.8279 - val_loss: 0.4343 - val_accuracy: 0.8413\n",
      "Epoch 43/100\n",
      "219/219 [==============================] - 0s 2ms/step - loss: 0.4824 - accuracy: 0.8267 - val_loss: 0.4324 - val_accuracy: 0.8387\n",
      "Epoch 44/100\n",
      "219/219 [==============================] - 0s 2ms/step - loss: 0.4745 - accuracy: 0.8300 - val_loss: 0.4332 - val_accuracy: 0.8443\n",
      "Epoch 45/100\n",
      "219/219 [==============================] - 0s 2ms/step - loss: 0.4819 - accuracy: 0.8269 - val_loss: 0.4295 - val_accuracy: 0.8430\n",
      "Epoch 46/100\n",
      "219/219 [==============================] - 0s 2ms/step - loss: 0.4597 - accuracy: 0.8343 - val_loss: 0.4278 - val_accuracy: 0.8460\n",
      "Epoch 47/100\n",
      "219/219 [==============================] - 0s 2ms/step - loss: 0.4643 - accuracy: 0.8337 - val_loss: 0.4255 - val_accuracy: 0.8443\n",
      "Epoch 48/100\n",
      "219/219 [==============================] - 0s 2ms/step - loss: 0.4617 - accuracy: 0.8386 - val_loss: 0.4227 - val_accuracy: 0.8450\n",
      "Epoch 49/100\n",
      "219/219 [==============================] - 0s 2ms/step - loss: 0.4630 - accuracy: 0.8346 - val_loss: 0.4228 - val_accuracy: 0.8427\n",
      "Epoch 50/100\n",
      "219/219 [==============================] - 0s 2ms/step - loss: 0.4569 - accuracy: 0.8357 - val_loss: 0.4205 - val_accuracy: 0.8470\n",
      "Epoch 51/100\n",
      "219/219 [==============================] - 0s 2ms/step - loss: 0.4470 - accuracy: 0.8387 - val_loss: 0.4208 - val_accuracy: 0.8447\n",
      "Epoch 52/100\n",
      "219/219 [==============================] - 0s 2ms/step - loss: 0.4533 - accuracy: 0.8369 - val_loss: 0.4164 - val_accuracy: 0.8467\n",
      "Epoch 53/100\n",
      "219/219 [==============================] - 0s 2ms/step - loss: 0.4435 - accuracy: 0.8409 - val_loss: 0.4156 - val_accuracy: 0.8447\n",
      "Epoch 54/100\n",
      "219/219 [==============================] - 0s 2ms/step - loss: 0.4421 - accuracy: 0.8384 - val_loss: 0.4162 - val_accuracy: 0.8447\n",
      "Epoch 55/100\n",
      "219/219 [==============================] - 0s 2ms/step - loss: 0.4378 - accuracy: 0.8383 - val_loss: 0.4137 - val_accuracy: 0.8473\n",
      "Epoch 56/100\n",
      "219/219 [==============================] - 1s 2ms/step - loss: 0.4364 - accuracy: 0.8416 - val_loss: 0.4115 - val_accuracy: 0.8463\n",
      "Epoch 57/100\n",
      "219/219 [==============================] - 0s 2ms/step - loss: 0.4341 - accuracy: 0.8401 - val_loss: 0.4102 - val_accuracy: 0.8480\n",
      "Epoch 58/100\n",
      "219/219 [==============================] - 1s 2ms/step - loss: 0.4384 - accuracy: 0.8441 - val_loss: 0.4099 - val_accuracy: 0.8460\n",
      "Epoch 59/100\n",
      "219/219 [==============================] - 0s 2ms/step - loss: 0.4265 - accuracy: 0.8473 - val_loss: 0.4074 - val_accuracy: 0.8460\n",
      "Epoch 60/100\n",
      "219/219 [==============================] - 0s 2ms/step - loss: 0.4286 - accuracy: 0.8480 - val_loss: 0.4068 - val_accuracy: 0.8470\n",
      "Epoch 61/100\n",
      "219/219 [==============================] - 0s 2ms/step - loss: 0.4257 - accuracy: 0.8463 - val_loss: 0.4060 - val_accuracy: 0.8470\n",
      "Epoch 62/100\n",
      "219/219 [==============================] - 0s 2ms/step - loss: 0.4232 - accuracy: 0.8497 - val_loss: 0.4033 - val_accuracy: 0.8447\n",
      "Epoch 63/100\n",
      "219/219 [==============================] - 0s 2ms/step - loss: 0.4232 - accuracy: 0.8476 - val_loss: 0.4103 - val_accuracy: 0.8513\n",
      "Epoch 64/100\n",
      "219/219 [==============================] - 0s 2ms/step - loss: 0.4163 - accuracy: 0.8503 - val_loss: 0.4014 - val_accuracy: 0.8487\n",
      "Epoch 65/100\n",
      "219/219 [==============================] - 0s 2ms/step - loss: 0.4149 - accuracy: 0.8501 - val_loss: 0.4010 - val_accuracy: 0.8460\n",
      "Epoch 66/100\n",
      "219/219 [==============================] - 0s 2ms/step - loss: 0.4116 - accuracy: 0.8534 - val_loss: 0.4003 - val_accuracy: 0.8497\n",
      "Epoch 67/100\n",
      "219/219 [==============================] - 0s 2ms/step - loss: 0.4095 - accuracy: 0.8534 - val_loss: 0.4034 - val_accuracy: 0.8507\n",
      "Epoch 68/100\n",
      "219/219 [==============================] - 0s 2ms/step - loss: 0.4069 - accuracy: 0.8520 - val_loss: 0.3983 - val_accuracy: 0.8473\n",
      "Epoch 69/100\n",
      "219/219 [==============================] - 0s 2ms/step - loss: 0.4073 - accuracy: 0.8511 - val_loss: 0.3974 - val_accuracy: 0.8477\n",
      "Epoch 70/100\n",
      "219/219 [==============================] - 0s 2ms/step - loss: 0.4070 - accuracy: 0.8574 - val_loss: 0.3982 - val_accuracy: 0.8487\n",
      "Epoch 71/100\n",
      "219/219 [==============================] - 0s 2ms/step - loss: 0.4060 - accuracy: 0.8474 - val_loss: 0.3991 - val_accuracy: 0.8557\n",
      "Epoch 72/100\n",
      "219/219 [==============================] - 0s 2ms/step - loss: 0.3983 - accuracy: 0.8543 - val_loss: 0.3952 - val_accuracy: 0.8510\n",
      "Epoch 73/100\n",
      "219/219 [==============================] - 0s 2ms/step - loss: 0.3970 - accuracy: 0.8534 - val_loss: 0.3936 - val_accuracy: 0.8493\n",
      "Epoch 74/100\n",
      "219/219 [==============================] - 0s 2ms/step - loss: 0.3976 - accuracy: 0.8557 - val_loss: 0.3921 - val_accuracy: 0.8497\n",
      "Epoch 75/100\n",
      "219/219 [==============================] - 0s 2ms/step - loss: 0.3973 - accuracy: 0.8569 - val_loss: 0.3925 - val_accuracy: 0.8483\n",
      "Epoch 76/100\n",
      "219/219 [==============================] - 0s 2ms/step - loss: 0.3906 - accuracy: 0.8567 - val_loss: 0.3917 - val_accuracy: 0.8500\n",
      "Epoch 77/100\n",
      "219/219 [==============================] - 0s 2ms/step - loss: 0.3872 - accuracy: 0.8616 - val_loss: 0.3901 - val_accuracy: 0.8507\n",
      "Epoch 78/100\n",
      "219/219 [==============================] - 0s 2ms/step - loss: 0.3834 - accuracy: 0.8649 - val_loss: 0.3903 - val_accuracy: 0.8540\n",
      "Epoch 79/100\n",
      "219/219 [==============================] - 0s 2ms/step - loss: 0.3884 - accuracy: 0.8581 - val_loss: 0.3899 - val_accuracy: 0.8537\n",
      "Epoch 80/100\n",
      "219/219 [==============================] - 0s 2ms/step - loss: 0.3910 - accuracy: 0.8586 - val_loss: 0.3895 - val_accuracy: 0.8530\n",
      "Epoch 81/100\n",
      "219/219 [==============================] - 0s 2ms/step - loss: 0.3878 - accuracy: 0.8591 - val_loss: 0.3868 - val_accuracy: 0.8523\n",
      "Epoch 82/100\n",
      "219/219 [==============================] - 0s 2ms/step - loss: 0.3857 - accuracy: 0.8620 - val_loss: 0.3890 - val_accuracy: 0.8527\n",
      "Epoch 83/100\n",
      "219/219 [==============================] - 0s 2ms/step - loss: 0.3791 - accuracy: 0.8651 - val_loss: 0.3874 - val_accuracy: 0.8523\n",
      "Epoch 84/100\n",
      "219/219 [==============================] - 0s 2ms/step - loss: 0.3831 - accuracy: 0.8596 - val_loss: 0.3875 - val_accuracy: 0.8537\n"
     ]
    }
   ],
   "source": [
    "history = model.fit(X_train, y_train, epochs=100, validation_data=(X_val, y_val), callbacks=callbacks)"
   ]
  },
  {
   "cell_type": "code",
   "execution_count": 34,
   "id": "8f92f420",
   "metadata": {},
   "outputs": [],
   "source": [
    "metrics_df = pd.DataFrame(history.history)"
   ]
  },
  {
   "cell_type": "code",
   "execution_count": 36,
   "id": "c3b7002a",
   "metadata": {},
   "outputs": [
    {
     "data": {
      "image/png": "[encoded data removed]",
      "text/plain": [
       "<Figure size 640x480 with 1 Axes>"
      ]
     },
     "metadata": {},
     "output_type": "display_data"
    }
   ],
   "source": [
    "metrics_df[[\"loss\",\"val_loss\"]].plot()\n",
    "plt.xticks(list(range(1,85,6)))\n",
    "plt.xlabel(\"Epoch\")\n",
    "plt.ylabel(\"Loss\")\n",
    "plt.title(\"Training loss VS Validation loss\");"
   ]
  },
  {
   "cell_type": "markdown",
   "id": "9df0b076",
   "metadata": {},
   "source": [
    "### Make predictions and test accuracy on training set"
   ]
  },
  {
   "cell_type": "code",
   "execution_count": 37,
   "id": "bef0a05a",
   "metadata": {},
   "outputs": [
    {
     "data": {
      "text/plain": [
       "0.8864285714285715"
      ]
     },
     "execution_count": 37,
     "metadata": {},
     "output_type": "execute_result"
    }
   ],
   "source": [
    "logits_train2 = model(X_train)\n",
    "probs_train2 = tf.nn.softmax(logits_train2)\n",
    "probs_train2 = tf.make_tensor_proto(probs_train2)\n",
    "probs_np2 = tf.make_ndarray(probs_train2)\n",
    "y_pred2 = np.argmax(probs_np2, axis=1)\n",
    "accuracy_score(y_pred2, y_train)"
   ]
  },
  {
   "cell_type": "markdown",
   "id": "0594d561",
   "metadata": {},
   "source": [
    "### Make predictions and test accuracy on validation set"
   ]
  },
  {
   "cell_type": "code",
   "execution_count": 38,
   "id": "435b8c0f",
   "metadata": {},
   "outputs": [
    {
     "data": {
      "text/plain": [
       "0.8523333333333334"
      ]
     },
     "execution_count": 38,
     "metadata": {},
     "output_type": "execute_result"
    }
   ],
   "source": [
    "logits_val2 = model(X_val)\n",
    "probs_val2 = tf.nn.softmax(logits_val2)\n",
    "probs_val2 = tf.make_tensor_proto(probs_val2)\n",
    "probs_np_val2 = tf.make_ndarray(probs_val2)\n",
    "y_pred_val2 = np.argmax(probs_np_val2, axis=1)\n",
    "accuracy_score(y_pred_val2, y_val)"
   ]
  },
  {
   "cell_type": "markdown",
   "id": "44f93a46",
   "metadata": {},
   "source": [
    "### Final test on the test set"
   ]
  },
  {
   "cell_type": "code",
   "execution_count": 39,
   "id": "a62fbbdf",
   "metadata": {},
   "outputs": [
    {
     "data": {
      "text/plain": [
       "0.8418"
      ]
     },
     "execution_count": 39,
     "metadata": {},
     "output_type": "execute_result"
    }
   ],
   "source": [
    "logits_test2 = model(X_test)\n",
    "probs_test2 = tf.nn.softmax(logits_test2)\n",
    "probs_test2 = tf.make_tensor_proto(probs_test2)\n",
    "probs_np_test2 = tf.make_ndarray(probs_test2)\n",
    "y_pred_test2 = np.argmax(probs_np_test2, axis=1)\n",
    "accuracy_score(y_pred_test2, y_test)"
   ]
  }
 ],
 "metadata": {
  "kernelspec": {
   "display_name": "Python 3 (ipykernel)",
   "language": "python",
   "name": "python3"
  },
  "language_info": {
   "codemirror_mode": {
    "name": "ipython",
    "version": 3
   },
   "file_extension": ".py",
   "mimetype": "text/x-python",
   "name": "python",
   "nbconvert_exporter": "python",
   "pygments_lexer": "ipython3",
   "version": "3.9.18"
  }
 },
 "nbformat": 4,
 "nbformat_minor": 5
}
