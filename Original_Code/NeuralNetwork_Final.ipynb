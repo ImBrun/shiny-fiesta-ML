{
 "cells": [
  {
   "cell_type": "code",
   "execution_count": 1,
   "id": "e27ea0d2",
   "metadata": {},
   "outputs": [],
   "source": [
    "#-------------Imports--------------\n",
    "import numpy as np\n",
    "import matplotlib.pyplot as plt\n",
    "import tensorflow as tf\n",
    "from tensorflow.keras.callbacks import EarlyStopping\n",
    "from tensorflow.keras import Sequential\n",
    "from tensorflow.keras.layers import Dense\n",
    "from tensorflow.keras.layers import Dropout\n",
    "from tensorflow.keras.losses import SparseCategoricalCrossentropy\n",
    "from tensorflow.keras.optimizers import Adam\n",
    "from sklearn.metrics import accuracy_score"
   ]
  },
  {
   "cell_type": "code",
   "execution_count": 2,
   "id": "b3b7d63b",
   "metadata": {},
   "outputs": [
    {
     "name": "stdout",
     "output_type": "stream",
     "text": [
      "(10000, 784)\n",
      "(10000,)\n",
      "(5000, 784)\n",
      "(5000,)\n"
     ]
    }
   ],
   "source": [
    "#-----------Load Dataset-----------\n",
    "\n",
    "path_train = \"fashion_train.npy\"\n",
    "path_test = \"fashion_test.npy\"\n",
    "\n",
    "train = np.load(path_train)\n",
    "test = np.load(path_test)\n",
    "\n",
    "#Split the training and test data into features and labels\n",
    "X = train[:,:784]\n",
    "y = train[:,784]\n",
    "\n",
    "X = X / 255\n",
    "\n",
    "X_test = test[:,:784]\n",
    "y_test = test[:,784]\n",
    "\n",
    "X_test = X_test / 255\n",
    "\n",
    "print(X.shape)\n",
    "print(y.shape)\n",
    "print(X_test.shape)\n",
    "print(y_test.shape)"
   ]
  },
  {
   "cell_type": "markdown",
   "id": "a5f801c8",
   "metadata": {},
   "source": [
    "### Split training set into training and validation set"
   ]
  },
  {
   "cell_type": "code",
   "execution_count": 3,
   "id": "35cea56d",
   "metadata": {},
   "outputs": [
    {
     "name": "stdout",
     "output_type": "stream",
     "text": [
      "(7000, 784)\n",
      "(7000,)\n",
      "(3000, 784)\n",
      "(3000,)\n"
     ]
    }
   ],
   "source": [
    "train_percentage = int((X.shape[0]) * 0.7)\n",
    "train_percentage\n",
    "\n",
    "X_train = X[:train_percentage, :]\n",
    "y_train = y[:train_percentage]\n",
    "\n",
    "print(X_train.shape)\n",
    "print(y_train.shape)\n",
    "\n",
    "X_val = X[train_percentage:, :]\n",
    "y_val = y[train_percentage:]\n",
    "\n",
    "print(X_val.shape)\n",
    "print(y_val.shape)"
   ]
  },
  {
   "cell_type": "markdown",
   "id": "cc5fa9d8",
   "metadata": {},
   "source": [
    "### Final chosen model"
   ]
  },
  {
   "cell_type": "code",
   "execution_count": 4,
   "id": "d8f6a3a5",
   "metadata": {},
   "outputs": [
    {
     "name": "stdout",
     "output_type": "stream",
     "text": [
      "Epoch 1/100\n",
      "219/219 [==============================] - 2s 4ms/step - loss: 0.9061 - accuracy: 0.6304 - val_loss: 0.5642 - val_accuracy: 0.7947\n",
      "Epoch 2/100\n",
      "219/219 [==============================] - 1s 3ms/step - loss: 0.5948 - accuracy: 0.7817 - val_loss: 0.5003 - val_accuracy: 0.8250\n",
      "Epoch 3/100\n",
      "219/219 [==============================] - 1s 3ms/step - loss: 0.5301 - accuracy: 0.8043 - val_loss: 0.4399 - val_accuracy: 0.8363\n",
      "Epoch 4/100\n",
      "219/219 [==============================] - 1s 3ms/step - loss: 0.4776 - accuracy: 0.8257 - val_loss: 0.4141 - val_accuracy: 0.8417\n",
      "Epoch 5/100\n",
      "219/219 [==============================] - 1s 2ms/step - loss: 0.4458 - accuracy: 0.8323 - val_loss: 0.4202 - val_accuracy: 0.8333\n",
      "Epoch 6/100\n",
      "219/219 [==============================] - 1s 2ms/step - loss: 0.4383 - accuracy: 0.8381 - val_loss: 0.4074 - val_accuracy: 0.8497\n",
      "Epoch 7/100\n",
      "219/219 [==============================] - 1s 2ms/step - loss: 0.4186 - accuracy: 0.8499 - val_loss: 0.4020 - val_accuracy: 0.8413\n",
      "Epoch 8/100\n",
      "219/219 [==============================] - 1s 2ms/step - loss: 0.4160 - accuracy: 0.8434 - val_loss: 0.3838 - val_accuracy: 0.8503\n",
      "Epoch 9/100\n",
      "219/219 [==============================] - 1s 3ms/step - loss: 0.3993 - accuracy: 0.8481 - val_loss: 0.3849 - val_accuracy: 0.8490\n",
      "Epoch 10/100\n",
      "219/219 [==============================] - 1s 3ms/step - loss: 0.3907 - accuracy: 0.8561 - val_loss: 0.4077 - val_accuracy: 0.8503\n",
      "Epoch 11/100\n",
      "219/219 [==============================] - 1s 3ms/step - loss: 0.3749 - accuracy: 0.8601 - val_loss: 0.3901 - val_accuracy: 0.8487\n",
      "Epoch 12/100\n",
      "219/219 [==============================] - 1s 3ms/step - loss: 0.3688 - accuracy: 0.8571 - val_loss: 0.3919 - val_accuracy: 0.8523\n",
      "Epoch 13/100\n",
      "219/219 [==============================] - 1s 3ms/step - loss: 0.3523 - accuracy: 0.8671 - val_loss: 0.3791 - val_accuracy: 0.8507\n",
      "Epoch 14/100\n",
      "219/219 [==============================] - 1s 3ms/step - loss: 0.3484 - accuracy: 0.8697 - val_loss: 0.3948 - val_accuracy: 0.8467\n",
      "Epoch 15/100\n",
      "219/219 [==============================] - 1s 3ms/step - loss: 0.3451 - accuracy: 0.8709 - val_loss: 0.3762 - val_accuracy: 0.8573\n",
      "Epoch 16/100\n",
      "219/219 [==============================] - 1s 3ms/step - loss: 0.3372 - accuracy: 0.8700 - val_loss: 0.3776 - val_accuracy: 0.8547\n",
      "Epoch 17/100\n",
      "219/219 [==============================] - 1s 3ms/step - loss: 0.3217 - accuracy: 0.8817 - val_loss: 0.3733 - val_accuracy: 0.8637\n",
      "Epoch 18/100\n",
      "219/219 [==============================] - 1s 3ms/step - loss: 0.3216 - accuracy: 0.8800 - val_loss: 0.4026 - val_accuracy: 0.8443\n",
      "Epoch 19/100\n",
      "219/219 [==============================] - 1s 3ms/step - loss: 0.3180 - accuracy: 0.8811 - val_loss: 0.3893 - val_accuracy: 0.8563\n",
      "Epoch 20/100\n",
      "219/219 [==============================] - 1s 3ms/step - loss: 0.3012 - accuracy: 0.8820 - val_loss: 0.4198 - val_accuracy: 0.8587\n",
      "Epoch 21/100\n",
      "219/219 [==============================] - 1s 3ms/step - loss: 0.3068 - accuracy: 0.8839 - val_loss: 0.4097 - val_accuracy: 0.8547\n",
      "Epoch 22/100\n",
      "219/219 [==============================] - 1s 3ms/step - loss: 0.3063 - accuracy: 0.8831 - val_loss: 0.3908 - val_accuracy: 0.8570\n",
      "Epoch 23/100\n",
      "219/219 [==============================] - 1s 4ms/step - loss: 0.3040 - accuracy: 0.8851 - val_loss: 0.3929 - val_accuracy: 0.8567\n",
      "Epoch 24/100\n",
      "219/219 [==============================] - 1s 3ms/step - loss: 0.3003 - accuracy: 0.8843 - val_loss: 0.3839 - val_accuracy: 0.8610\n",
      "Epoch 25/100\n",
      "219/219 [==============================] - 1s 3ms/step - loss: 0.2922 - accuracy: 0.8874 - val_loss: 0.3977 - val_accuracy: 0.8560\n",
      "Epoch 26/100\n",
      "219/219 [==============================] - 1s 3ms/step - loss: 0.2880 - accuracy: 0.8869 - val_loss: 0.3987 - val_accuracy: 0.8647\n",
      "Epoch 27/100\n",
      "219/219 [==============================] - 1s 3ms/step - loss: 0.2711 - accuracy: 0.8959 - val_loss: 0.4115 - val_accuracy: 0.8600\n",
      "Epoch 28/100\n",
      "219/219 [==============================] - 1s 3ms/step - loss: 0.2797 - accuracy: 0.8866 - val_loss: 0.4024 - val_accuracy: 0.8600\n",
      "Epoch 29/100\n",
      "219/219 [==============================] - 1s 3ms/step - loss: 0.2784 - accuracy: 0.8966 - val_loss: 0.4123 - val_accuracy: 0.8680\n",
      "Epoch 30/100\n",
      "219/219 [==============================] - 1s 3ms/step - loss: 0.2694 - accuracy: 0.8969 - val_loss: 0.4077 - val_accuracy: 0.8560\n",
      "Epoch 31/100\n",
      "219/219 [==============================] - 1s 3ms/step - loss: 0.2655 - accuracy: 0.8989 - val_loss: 0.4040 - val_accuracy: 0.8620\n",
      "Epoch 32/100\n",
      "219/219 [==============================] - 1s 4ms/step - loss: 0.2500 - accuracy: 0.9006 - val_loss: 0.3871 - val_accuracy: 0.8587\n",
      "Epoch 33/100\n",
      "219/219 [==============================] - 1s 3ms/step - loss: 0.2659 - accuracy: 0.8951 - val_loss: 0.3758 - val_accuracy: 0.8650\n",
      "Epoch 34/100\n",
      "219/219 [==============================] - 1s 3ms/step - loss: 0.2591 - accuracy: 0.9009 - val_loss: 0.3975 - val_accuracy: 0.8630\n",
      "Epoch 35/100\n",
      "219/219 [==============================] - 1s 4ms/step - loss: 0.2532 - accuracy: 0.9009 - val_loss: 0.3928 - val_accuracy: 0.8637\n",
      "Epoch 36/100\n",
      "219/219 [==============================] - 1s 3ms/step - loss: 0.2555 - accuracy: 0.9006 - val_loss: 0.4054 - val_accuracy: 0.8687\n",
      "Epoch 37/100\n",
      "219/219 [==============================] - 1s 4ms/step - loss: 0.2466 - accuracy: 0.9054 - val_loss: 0.4097 - val_accuracy: 0.8620\n",
      "Epoch 38/100\n",
      "219/219 [==============================] - 1s 3ms/step - loss: 0.2399 - accuracy: 0.9076 - val_loss: 0.4106 - val_accuracy: 0.8663\n",
      "Epoch 39/100\n",
      "219/219 [==============================] - 1s 3ms/step - loss: 0.2446 - accuracy: 0.9034 - val_loss: 0.4202 - val_accuracy: 0.8693\n",
      "Epoch 40/100\n",
      "219/219 [==============================] - 1s 3ms/step - loss: 0.2468 - accuracy: 0.9084 - val_loss: 0.3948 - val_accuracy: 0.8633\n",
      "Epoch 41/100\n",
      "219/219 [==============================] - 1s 3ms/step - loss: 0.2311 - accuracy: 0.9116 - val_loss: 0.4225 - val_accuracy: 0.8657\n",
      "Epoch 42/100\n",
      "219/219 [==============================] - 1s 3ms/step - loss: 0.2303 - accuracy: 0.9076 - val_loss: 0.4218 - val_accuracy: 0.8673\n",
      "Epoch 43/100\n",
      "219/219 [==============================] - 0s 2ms/step - loss: 0.2333 - accuracy: 0.9110 - val_loss: 0.4624 - val_accuracy: 0.8573\n",
      "Epoch 44/100\n",
      "219/219 [==============================] - 1s 3ms/step - loss: 0.2170 - accuracy: 0.9113 - val_loss: 0.4217 - val_accuracy: 0.8717\n",
      "Epoch 45/100\n",
      "219/219 [==============================] - 1s 3ms/step - loss: 0.2179 - accuracy: 0.9149 - val_loss: 0.4134 - val_accuracy: 0.8670\n",
      "Epoch 46/100\n",
      "219/219 [==============================] - 1s 3ms/step - loss: 0.2220 - accuracy: 0.9144 - val_loss: 0.4352 - val_accuracy: 0.8643\n",
      "Epoch 47/100\n",
      "219/219 [==============================] - 1s 3ms/step - loss: 0.2254 - accuracy: 0.9136 - val_loss: 0.4091 - val_accuracy: 0.8677\n",
      "Epoch 48/100\n",
      "219/219 [==============================] - 1s 3ms/step - loss: 0.2260 - accuracy: 0.9099 - val_loss: 0.4147 - val_accuracy: 0.8707\n",
      "Epoch 49/100\n",
      "219/219 [==============================] - 1s 3ms/step - loss: 0.2226 - accuracy: 0.9114 - val_loss: 0.4812 - val_accuracy: 0.8550\n",
      "Epoch 50/100\n",
      "219/219 [==============================] - 1s 3ms/step - loss: 0.2202 - accuracy: 0.9156 - val_loss: 0.4482 - val_accuracy: 0.8610\n",
      "Epoch 51/100\n",
      "219/219 [==============================] - 1s 3ms/step - loss: 0.2182 - accuracy: 0.9147 - val_loss: 0.4257 - val_accuracy: 0.8717\n",
      "Epoch 52/100\n",
      "219/219 [==============================] - 1s 3ms/step - loss: 0.2394 - accuracy: 0.9076 - val_loss: 0.4437 - val_accuracy: 0.8643\n",
      "Epoch 53/100\n",
      "219/219 [==============================] - 0s 2ms/step - loss: 0.2190 - accuracy: 0.9124 - val_loss: 0.4588 - val_accuracy: 0.8653\n",
      "Epoch 54/100\n",
      "219/219 [==============================] - 1s 2ms/step - loss: 0.2093 - accuracy: 0.9180 - val_loss: 0.4819 - val_accuracy: 0.8540\n",
      "Epoch 55/100\n",
      "219/219 [==============================] - 1s 2ms/step - loss: 0.2044 - accuracy: 0.9176 - val_loss: 0.4789 - val_accuracy: 0.8670\n",
      "Epoch 56/100\n",
      "219/219 [==============================] - 0s 2ms/step - loss: 0.2096 - accuracy: 0.9176 - val_loss: 0.4415 - val_accuracy: 0.8627\n",
      "Epoch 57/100\n",
      "219/219 [==============================] - 1s 3ms/step - loss: 0.2022 - accuracy: 0.9170 - val_loss: 0.4708 - val_accuracy: 0.8680\n",
      "Epoch 58/100\n",
      "219/219 [==============================] - 1s 3ms/step - loss: 0.2039 - accuracy: 0.9239 - val_loss: 0.4384 - val_accuracy: 0.8673\n",
      "Epoch 59/100\n",
      "219/219 [==============================] - 1s 3ms/step - loss: 0.1976 - accuracy: 0.9231 - val_loss: 0.4800 - val_accuracy: 0.8650\n",
      "Epoch 60/100\n",
      "219/219 [==============================] - 1s 3ms/step - loss: 0.1859 - accuracy: 0.9291 - val_loss: 0.4956 - val_accuracy: 0.8657\n",
      "Epoch 61/100\n",
      "219/219 [==============================] - 1s 3ms/step - loss: 0.1817 - accuracy: 0.9276 - val_loss: 0.4779 - val_accuracy: 0.8680\n",
      "Epoch 62/100\n",
      "219/219 [==============================] - 1s 2ms/step - loss: 0.1992 - accuracy: 0.9216 - val_loss: 0.5024 - val_accuracy: 0.8707\n",
      "Epoch 63/100\n",
      "219/219 [==============================] - 1s 4ms/step - loss: 0.1902 - accuracy: 0.9254 - val_loss: 0.4890 - val_accuracy: 0.8740\n",
      "Epoch 64/100\n",
      "219/219 [==============================] - 1s 3ms/step - loss: 0.1884 - accuracy: 0.9260 - val_loss: 0.4993 - val_accuracy: 0.8667\n",
      "Epoch 65/100\n",
      "219/219 [==============================] - 1s 3ms/step - loss: 0.1880 - accuracy: 0.9273 - val_loss: 0.4902 - val_accuracy: 0.8697\n",
      "Epoch 66/100\n",
      "219/219 [==============================] - 1s 2ms/step - loss: 0.1914 - accuracy: 0.9249 - val_loss: 0.4549 - val_accuracy: 0.8673\n",
      "Epoch 67/100\n",
      "219/219 [==============================] - 1s 3ms/step - loss: 0.1824 - accuracy: 0.9293 - val_loss: 0.4876 - val_accuracy: 0.8743\n",
      "Epoch 68/100\n",
      "219/219 [==============================] - 1s 3ms/step - loss: 0.1885 - accuracy: 0.9263 - val_loss: 0.4895 - val_accuracy: 0.8723\n",
      "Epoch 69/100\n",
      "219/219 [==============================] - 1s 3ms/step - loss: 0.1731 - accuracy: 0.9303 - val_loss: 0.4902 - val_accuracy: 0.8670\n",
      "Epoch 70/100\n",
      "219/219 [==============================] - 1s 3ms/step - loss: 0.1775 - accuracy: 0.9313 - val_loss: 0.5145 - val_accuracy: 0.8680\n",
      "Epoch 71/100\n",
      "219/219 [==============================] - 1s 3ms/step - loss: 0.1759 - accuracy: 0.9327 - val_loss: 0.5241 - val_accuracy: 0.8720\n",
      "Epoch 72/100\n",
      "219/219 [==============================] - 1s 2ms/step - loss: 0.1812 - accuracy: 0.9303 - val_loss: 0.4943 - val_accuracy: 0.8630\n",
      "Epoch 73/100\n",
      "219/219 [==============================] - 1s 3ms/step - loss: 0.1855 - accuracy: 0.9303 - val_loss: 0.4883 - val_accuracy: 0.8723\n",
      "Epoch 74/100\n",
      "219/219 [==============================] - 1s 3ms/step - loss: 0.1875 - accuracy: 0.9284 - val_loss: 0.5431 - val_accuracy: 0.8640\n",
      "Epoch 75/100\n",
      "219/219 [==============================] - 1s 3ms/step - loss: 0.1814 - accuracy: 0.9311 - val_loss: 0.4798 - val_accuracy: 0.8640\n",
      "Epoch 76/100\n",
      "219/219 [==============================] - 1s 3ms/step - loss: 0.1683 - accuracy: 0.9383 - val_loss: 0.5157 - val_accuracy: 0.8653\n",
      "Epoch 77/100\n",
      "219/219 [==============================] - 1s 3ms/step - loss: 0.1704 - accuracy: 0.9344 - val_loss: 0.5055 - val_accuracy: 0.8620\n",
      "Epoch 78/100\n",
      "219/219 [==============================] - 1s 3ms/step - loss: 0.1644 - accuracy: 0.9350 - val_loss: 0.4986 - val_accuracy: 0.8643\n",
      "Epoch 79/100\n",
      "219/219 [==============================] - 1s 2ms/step - loss: 0.1605 - accuracy: 0.9390 - val_loss: 0.5258 - val_accuracy: 0.8620\n",
      "Epoch 80/100\n",
      "219/219 [==============================] - 1s 3ms/step - loss: 0.1717 - accuracy: 0.9347 - val_loss: 0.5336 - val_accuracy: 0.8607\n",
      "Epoch 81/100\n",
      "219/219 [==============================] - 1s 2ms/step - loss: 0.1624 - accuracy: 0.9356 - val_loss: 0.5413 - val_accuracy: 0.8630\n",
      "Epoch 82/100\n",
      "219/219 [==============================] - 1s 3ms/step - loss: 0.1574 - accuracy: 0.9404 - val_loss: 0.5273 - val_accuracy: 0.8690\n",
      "Epoch 83/100\n",
      "219/219 [==============================] - 1s 3ms/step - loss: 0.1535 - accuracy: 0.9437 - val_loss: 0.5725 - val_accuracy: 0.8610\n",
      "Epoch 84/100\n",
      "219/219 [==============================] - 1s 3ms/step - loss: 0.1692 - accuracy: 0.9330 - val_loss: 0.5430 - val_accuracy: 0.8673\n",
      "Epoch 85/100\n",
      "219/219 [==============================] - 1s 3ms/step - loss: 0.1575 - accuracy: 0.9393 - val_loss: 0.5279 - val_accuracy: 0.8713\n",
      "Epoch 86/100\n",
      "219/219 [==============================] - 1s 2ms/step - loss: 0.1640 - accuracy: 0.9373 - val_loss: 0.5243 - val_accuracy: 0.8700\n",
      "Epoch 87/100\n",
      "219/219 [==============================] - 1s 3ms/step - loss: 0.1541 - accuracy: 0.9380 - val_loss: 0.5310 - val_accuracy: 0.8633\n",
      "Epoch 88/100\n",
      "219/219 [==============================] - 1s 3ms/step - loss: 0.1590 - accuracy: 0.9401 - val_loss: 0.5064 - val_accuracy: 0.8693\n",
      "Epoch 89/100\n",
      "219/219 [==============================] - 1s 3ms/step - loss: 0.1535 - accuracy: 0.9424 - val_loss: 0.5659 - val_accuracy: 0.8653\n",
      "Epoch 90/100\n",
      "219/219 [==============================] - 1s 2ms/step - loss: 0.1612 - accuracy: 0.9400 - val_loss: 0.5542 - val_accuracy: 0.8613\n",
      "Epoch 91/100\n",
      "219/219 [==============================] - 1s 3ms/step - loss: 0.1603 - accuracy: 0.9394 - val_loss: 0.5142 - val_accuracy: 0.8620\n",
      "Epoch 92/100\n",
      "219/219 [==============================] - 1s 2ms/step - loss: 0.1579 - accuracy: 0.9404 - val_loss: 0.5152 - val_accuracy: 0.8663\n",
      "Epoch 93/100\n",
      "219/219 [==============================] - 1s 3ms/step - loss: 0.1480 - accuracy: 0.9427 - val_loss: 0.6061 - val_accuracy: 0.8530\n",
      "Epoch 94/100\n",
      "219/219 [==============================] - 1s 3ms/step - loss: 0.1747 - accuracy: 0.9347 - val_loss: 0.4909 - val_accuracy: 0.8707\n",
      "Epoch 95/100\n",
      "219/219 [==============================] - 1s 3ms/step - loss: 0.1773 - accuracy: 0.9313 - val_loss: 0.4814 - val_accuracy: 0.8680\n",
      "Epoch 96/100\n",
      "219/219 [==============================] - 1s 2ms/step - loss: 0.1483 - accuracy: 0.9417 - val_loss: 0.5923 - val_accuracy: 0.8680\n",
      "Epoch 97/100\n",
      "219/219 [==============================] - 1s 3ms/step - loss: 0.1550 - accuracy: 0.9383 - val_loss: 0.6211 - val_accuracy: 0.8597\n",
      "Epoch 98/100\n",
      "219/219 [==============================] - 1s 3ms/step - loss: 0.1508 - accuracy: 0.9427 - val_loss: 0.4979 - val_accuracy: 0.8697\n",
      "Epoch 99/100\n",
      "219/219 [==============================] - 1s 3ms/step - loss: 0.1559 - accuracy: 0.9411 - val_loss: 0.5927 - val_accuracy: 0.8613\n",
      "Epoch 100/100\n",
      "219/219 [==============================] - 1s 3ms/step - loss: 0.1633 - accuracy: 0.9387 - val_loss: 0.5139 - val_accuracy: 0.8700\n"
     ]
    },
    {
     "data": {
      "text/plain": [
       "<keras.callbacks.History at 0x1f010c93e20>"
      ]
     },
     "execution_count": 4,
     "metadata": {},
     "output_type": "execute_result"
    }
   ],
   "source": [
    "model = Sequential([\n",
    "    Dense(units=100, activation=\"relu\"),\n",
    "    Dropout(0.2),\n",
    "    Dense(units=50, activation=\"relu\"),\n",
    "    Dropout(0.2),\n",
    "    Dense(units=25, activation=\"relu\"),\n",
    "    Dropout(0.2),\n",
    "    Dense(units=5, activation=\"linear\")\n",
    "])\n",
    "\n",
    "model.compile(loss=SparseCategoricalCrossentropy(from_logits=True),\n",
    "              optimizer=Adam(learning_rate=1e-3),\n",
    "              metrics=[\"accuracy\"]\n",
    "             )\n",
    "\n",
    "model.fit(X_train, y_train, epochs=100, validation_data=(X_val, y_val))"
   ]
  },
  {
   "cell_type": "markdown",
   "id": "9df0b076",
   "metadata": {},
   "source": [
    "### Make predictions and test accuracy on training set"
   ]
  },
  {
   "cell_type": "code",
   "execution_count": 5,
   "id": "bef0a05a",
   "metadata": {},
   "outputs": [
    {
     "data": {
      "text/plain": [
       "0.964"
      ]
     },
     "execution_count": 5,
     "metadata": {},
     "output_type": "execute_result"
    }
   ],
   "source": [
    "logits_train2 = model(X_train)\n",
    "probs_train2 = tf.nn.softmax(logits_train2)\n",
    "probs_train2 = tf.make_tensor_proto(probs_train2)\n",
    "probs_np2 = tf.make_ndarray(probs_train2)\n",
    "y_pred2 = np.argmax(probs_np2, axis=1)\n",
    "accuracy_score(y_pred2, y_train)"
   ]
  },
  {
   "cell_type": "markdown",
   "id": "0594d561",
   "metadata": {},
   "source": [
    "### Make predictions and test accuracy on validation set"
   ]
  },
  {
   "cell_type": "code",
   "execution_count": 6,
   "id": "435b8c0f",
   "metadata": {},
   "outputs": [
    {
     "data": {
      "text/plain": [
       "0.87"
      ]
     },
     "execution_count": 6,
     "metadata": {},
     "output_type": "execute_result"
    }
   ],
   "source": [
    "logits_val2 = model(X_val)\n",
    "probs_val2 = tf.nn.softmax(logits_val2)\n",
    "probs_val2 = tf.make_tensor_proto(probs_val2)\n",
    "probs_np_val2 = tf.make_ndarray(probs_val2)\n",
    "y_pred_val2 = np.argmax(probs_np_val2, axis=1)\n",
    "accuracy_score(y_pred_val2, y_val)"
   ]
  },
  {
   "cell_type": "markdown",
   "id": "44f93a46",
   "metadata": {},
   "source": [
    "### Final test on the test set"
   ]
  },
  {
   "cell_type": "code",
   "execution_count": 7,
   "id": "a62fbbdf",
   "metadata": {},
   "outputs": [
    {
     "data": {
      "text/plain": [
       "0.8546"
      ]
     },
     "execution_count": 7,
     "metadata": {},
     "output_type": "execute_result"
    }
   ],
   "source": [
    "logits_test2 = model(X_test)\n",
    "probs_test2 = tf.nn.softmax(logits_test2)\n",
    "probs_test2 = tf.make_tensor_proto(probs_test2)\n",
    "probs_np_test2 = tf.make_ndarray(probs_test2)\n",
    "y_pred_test2 = np.argmax(probs_np_test2, axis=1)\n",
    "accuracy_score(y_pred_test2, y_test)"
   ]
  }
 ],
 "metadata": {
  "kernelspec": {
   "display_name": "Python 3 (ipykernel)",
   "language": "python",
   "name": "python3"
  },
  "language_info": {
   "codemirror_mode": {
    "name": "ipython",
    "version": 3
   },
   "file_extension": ".py",
   "mimetype": "text/x-python",
   "name": "python",
   "nbconvert_exporter": "python",
   "pygments_lexer": "ipython3",
   "version": "3.9.18"
  }
 },
 "nbformat": 4,
 "nbformat_minor": 5
}
