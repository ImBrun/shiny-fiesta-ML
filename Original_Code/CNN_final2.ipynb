{
 "cells": [
  {
   "cell_type": "code",
   "execution_count": 1,
   "id": "7297ed10",
   "metadata": {},
   "outputs": [],
   "source": [
    "#-------------Imports--------------\n",
    "import numpy as np\n",
    "import matplotlib.pyplot as plt\n",
    "import tensorflow as tf\n",
    "from tensorflow.keras import Sequential\n",
    "from tensorflow.keras.layers import Dense\n",
    "from tensorflow.keras.losses import SparseCategoricalCrossentropy\n",
    "from tensorflow.keras.layers import Conv2D\n",
    "from tensorflow.keras.layers import MaxPooling2D\n",
    "from tensorflow.keras.layers import Flatten\n",
    "from tensorflow.keras.callbacks import EarlyStopping\n",
    "from sklearn.metrics import accuracy_score\n",
    "import pandas as pd"
   ]
  },
  {
   "cell_type": "markdown",
   "id": "f1f6ba42",
   "metadata": {},
   "source": [
    "## Load the dataset and scale images"
   ]
  },
  {
   "cell_type": "code",
   "execution_count": 2,
   "id": "468d57da",
   "metadata": {},
   "outputs": [
    {
     "name": "stdout",
     "output_type": "stream",
     "text": [
      "(10000, 28, 28, 1)\n",
      "(10000,)\n",
      "(5000, 28, 28, 1)\n",
      "(5000,)\n"
     ]
    }
   ],
   "source": [
    "#-----------Load Dataset-----------\n",
    "\n",
    "path_train = \"fashion_train.npy\"\n",
    "path_test = \"fashion_test.npy\"\n",
    "\n",
    "train = np.load(path_train)\n",
    "test = np.load(path_test)\n",
    "\n",
    "#Split the training and test data into features and labels\n",
    "X = train[:,:784]\n",
    "y = train[:,784]\n",
    "\n",
    "X = X / 255 # scale the pixels to be between 0 and 1\n",
    "\n",
    "X_test = test[:,:784]\n",
    "y_test = test[:,784]\n",
    "\n",
    "X_test = X_test / 255 # scale the pixels to be between 0 and 1\n",
    "\n",
    "X = X.reshape((10000, 28, 28, 1))\n",
    "\n",
    "X_test = X_test.reshape((5000, 28, 28, 1))\n",
    "\n",
    "print(X.shape)\n",
    "print(y.shape)\n",
    "print(X_test.shape)\n",
    "print(y_test.shape)"
   ]
  },
  {
   "cell_type": "markdown",
   "id": "1dfe1d96",
   "metadata": {},
   "source": [
    "## Split training set into training and validation sets"
   ]
  },
  {
   "cell_type": "code",
   "execution_count": 3,
   "id": "c53234f1",
   "metadata": {},
   "outputs": [
    {
     "name": "stdout",
     "output_type": "stream",
     "text": [
      "(7000, 28, 28, 1)\n",
      "(7000,)\n",
      "(3000, 28, 28, 1)\n",
      "(3000,)\n"
     ]
    }
   ],
   "source": [
    "train_percentage = int((X.shape[0]) * 0.7)\n",
    "train_percentage\n",
    "\n",
    "X_train = X[:train_percentage, :]\n",
    "y_train = y[:train_percentage]\n",
    "\n",
    "print(X_train.shape)\n",
    "print(y_train.shape)\n",
    "\n",
    "X_val = X[train_percentage:, :]\n",
    "y_val = y[train_percentage:]\n",
    "\n",
    "print(X_val.shape)\n",
    "print(y_val.shape)"
   ]
  },
  {
   "cell_type": "markdown",
   "id": "cd19dbd2",
   "metadata": {},
   "source": [
    "## Model definition"
   ]
  },
  {
   "cell_type": "code",
   "execution_count": 20,
   "id": "f82e854f",
   "metadata": {},
   "outputs": [],
   "source": [
    "CNN = tf.keras.Sequential(\n",
    "    [\n",
    "    tf.keras.layers.Conv2D(32, (3,3), padding='same', activation=\"relu\",input_shape=(28, 28, 1)),\n",
    "    tf.keras.layers.MaxPooling2D((2, 2), strides=2),\n",
    "    tf.keras.layers.Dropout(0.3),\n",
    "\n",
    "    tf.keras.layers.Conv2D(48, (3,3), padding='same', activation=\"relu\"),\n",
    "    tf.keras.layers.MaxPooling2D((2, 2), strides=2),\n",
    "    tf.keras.layers.Dropout(0.2),\n",
    "    \n",
    "    tf.keras.layers.Conv2D(64, (3,3), padding='same', activation=\"relu\"),\n",
    "    tf.keras.layers.MaxPooling2D((2, 2), strides=2),\n",
    "    tf.keras.layers.Dropout(0.2),\n",
    "\n",
    "    tf.keras.layers.Flatten(),\n",
    "    tf.keras.layers.Dense(100, activation=\"relu\"),\n",
    "    tf.keras.layers.Dropout(0.3),\n",
    "    tf.keras.layers.Dense(5, activation=\"linear\")\n",
    "]\n",
    ")\n",
    "\n",
    "CNN.compile(optimizer=tf.keras.optimizers.Adam(learning_rate=1e-4),\n",
    "              loss=tf.keras.losses.SparseCategoricalCrossentropy(from_logits=True),\n",
    "              metrics=['accuracy'])"
   ]
  },
  {
   "cell_type": "markdown",
   "id": "2fbf1fc8",
   "metadata": {},
   "source": [
    "## Model training"
   ]
  },
  {
   "cell_type": "code",
   "execution_count": 21,
   "id": "1638e63d",
   "metadata": {},
   "outputs": [],
   "source": [
    "callbacks = [EarlyStopping(patience=3, monitor=\"val_loss\")]"
   ]
  },
  {
   "cell_type": "code",
   "execution_count": 22,
   "id": "1210efda",
   "metadata": {
    "scrolled": true
   },
   "outputs": [
    {
     "name": "stdout",
     "output_type": "stream",
     "text": [
      "Epoch 1/60\n",
      "219/219 [==============================] - 5s 21ms/step - loss: 1.4128 - accuracy: 0.3821 - val_loss: 1.0821 - val_accuracy: 0.5610\n",
      "Epoch 2/60\n",
      "219/219 [==============================] - 4s 19ms/step - loss: 1.0075 - accuracy: 0.5707 - val_loss: 0.8801 - val_accuracy: 0.6423\n",
      "Epoch 3/60\n",
      "219/219 [==============================] - 4s 20ms/step - loss: 0.8843 - accuracy: 0.6383 - val_loss: 0.7717 - val_accuracy: 0.7097\n",
      "Epoch 4/60\n",
      "219/219 [==============================] - 4s 19ms/step - loss: 0.7940 - accuracy: 0.6813 - val_loss: 0.7020 - val_accuracy: 0.7213\n",
      "Epoch 5/60\n",
      "219/219 [==============================] - 4s 19ms/step - loss: 0.7220 - accuracy: 0.7113 - val_loss: 0.6497 - val_accuracy: 0.7337\n",
      "Epoch 6/60\n",
      "219/219 [==============================] - 4s 19ms/step - loss: 0.6832 - accuracy: 0.7206 - val_loss: 0.6210 - val_accuracy: 0.7470\n",
      "Epoch 7/60\n",
      "219/219 [==============================] - 4s 19ms/step - loss: 0.6498 - accuracy: 0.7369 - val_loss: 0.5925 - val_accuracy: 0.7580\n",
      "Epoch 8/60\n",
      "219/219 [==============================] - 4s 19ms/step - loss: 0.6147 - accuracy: 0.7530 - val_loss: 0.5714 - val_accuracy: 0.7710\n",
      "Epoch 9/60\n",
      "219/219 [==============================] - 4s 19ms/step - loss: 0.6011 - accuracy: 0.7553 - val_loss: 0.5513 - val_accuracy: 0.7803\n",
      "Epoch 10/60\n",
      "219/219 [==============================] - 4s 19ms/step - loss: 0.5819 - accuracy: 0.7624 - val_loss: 0.5341 - val_accuracy: 0.7883\n",
      "Epoch 11/60\n",
      "219/219 [==============================] - 4s 19ms/step - loss: 0.5748 - accuracy: 0.7693 - val_loss: 0.5239 - val_accuracy: 0.7930\n",
      "Epoch 12/60\n",
      "219/219 [==============================] - 4s 20ms/step - loss: 0.5509 - accuracy: 0.7806 - val_loss: 0.5094 - val_accuracy: 0.7957\n",
      "Epoch 13/60\n",
      "219/219 [==============================] - 4s 20ms/step - loss: 0.5454 - accuracy: 0.7809 - val_loss: 0.4980 - val_accuracy: 0.8050\n",
      "Epoch 14/60\n",
      "219/219 [==============================] - 4s 20ms/step - loss: 0.5262 - accuracy: 0.7901 - val_loss: 0.4889 - val_accuracy: 0.8093\n",
      "Epoch 15/60\n",
      "219/219 [==============================] - 4s 20ms/step - loss: 0.5139 - accuracy: 0.7989 - val_loss: 0.4849 - val_accuracy: 0.8090\n",
      "Epoch 16/60\n",
      "219/219 [==============================] - 4s 19ms/step - loss: 0.5019 - accuracy: 0.8056 - val_loss: 0.4708 - val_accuracy: 0.8103\n",
      "Epoch 17/60\n",
      "219/219 [==============================] - 4s 19ms/step - loss: 0.5002 - accuracy: 0.8089 - val_loss: 0.4641 - val_accuracy: 0.8120\n",
      "Epoch 18/60\n",
      "219/219 [==============================] - 4s 20ms/step - loss: 0.4931 - accuracy: 0.8130 - val_loss: 0.4579 - val_accuracy: 0.8183\n",
      "Epoch 19/60\n",
      "219/219 [==============================] - 4s 19ms/step - loss: 0.4784 - accuracy: 0.8130 - val_loss: 0.4493 - val_accuracy: 0.8213\n",
      "Epoch 20/60\n",
      "219/219 [==============================] - 4s 19ms/step - loss: 0.4723 - accuracy: 0.8180 - val_loss: 0.4444 - val_accuracy: 0.8230\n",
      "Epoch 21/60\n",
      "219/219 [==============================] - 4s 20ms/step - loss: 0.4695 - accuracy: 0.8210 - val_loss: 0.4368 - val_accuracy: 0.8247\n",
      "Epoch 22/60\n",
      "219/219 [==============================] - 4s 20ms/step - loss: 0.4581 - accuracy: 0.8237 - val_loss: 0.4321 - val_accuracy: 0.8277\n",
      "Epoch 23/60\n",
      "219/219 [==============================] - 4s 18ms/step - loss: 0.4581 - accuracy: 0.8256 - val_loss: 0.4231 - val_accuracy: 0.8290\n",
      "Epoch 24/60\n",
      "219/219 [==============================] - 4s 20ms/step - loss: 0.4413 - accuracy: 0.8319 - val_loss: 0.4233 - val_accuracy: 0.8290\n",
      "Epoch 25/60\n",
      "219/219 [==============================] - 4s 19ms/step - loss: 0.4348 - accuracy: 0.8333 - val_loss: 0.4138 - val_accuracy: 0.8337\n",
      "Epoch 26/60\n",
      "219/219 [==============================] - 4s 19ms/step - loss: 0.4381 - accuracy: 0.8306 - val_loss: 0.4108 - val_accuracy: 0.8327\n",
      "Epoch 27/60\n",
      "219/219 [==============================] - 4s 19ms/step - loss: 0.4200 - accuracy: 0.8387 - val_loss: 0.4045 - val_accuracy: 0.8360\n",
      "Epoch 28/60\n",
      "219/219 [==============================] - 5s 22ms/step - loss: 0.4240 - accuracy: 0.8419 - val_loss: 0.4010 - val_accuracy: 0.8380\n",
      "Epoch 29/60\n",
      "219/219 [==============================] - 5s 21ms/step - loss: 0.4156 - accuracy: 0.8416 - val_loss: 0.3964 - val_accuracy: 0.8357\n",
      "Epoch 30/60\n",
      "219/219 [==============================] - 4s 20ms/step - loss: 0.4093 - accuracy: 0.8440 - val_loss: 0.4011 - val_accuracy: 0.8380\n",
      "Epoch 31/60\n",
      "219/219 [==============================] - 4s 20ms/step - loss: 0.4058 - accuracy: 0.8470 - val_loss: 0.3907 - val_accuracy: 0.8443\n",
      "Epoch 32/60\n",
      "219/219 [==============================] - 4s 19ms/step - loss: 0.4005 - accuracy: 0.8453 - val_loss: 0.3911 - val_accuracy: 0.8400\n",
      "Epoch 33/60\n",
      "219/219 [==============================] - 4s 20ms/step - loss: 0.3945 - accuracy: 0.8499 - val_loss: 0.3849 - val_accuracy: 0.8380\n",
      "Epoch 34/60\n",
      "219/219 [==============================] - 4s 19ms/step - loss: 0.3973 - accuracy: 0.8461 - val_loss: 0.3813 - val_accuracy: 0.8400\n",
      "Epoch 35/60\n",
      "219/219 [==============================] - 4s 20ms/step - loss: 0.3970 - accuracy: 0.8493 - val_loss: 0.3840 - val_accuracy: 0.8430\n",
      "Epoch 36/60\n",
      "219/219 [==============================] - 4s 20ms/step - loss: 0.3893 - accuracy: 0.8514 - val_loss: 0.3764 - val_accuracy: 0.8443\n",
      "Epoch 37/60\n",
      "219/219 [==============================] - 4s 20ms/step - loss: 0.3788 - accuracy: 0.8554 - val_loss: 0.3743 - val_accuracy: 0.8470\n",
      "Epoch 38/60\n",
      "219/219 [==============================] - 4s 20ms/step - loss: 0.3805 - accuracy: 0.8523 - val_loss: 0.3751 - val_accuracy: 0.8447\n",
      "Epoch 39/60\n",
      "219/219 [==============================] - 4s 20ms/step - loss: 0.3690 - accuracy: 0.8624 - val_loss: 0.3758 - val_accuracy: 0.8493\n",
      "Epoch 40/60\n",
      "219/219 [==============================] - 4s 20ms/step - loss: 0.3665 - accuracy: 0.8580 - val_loss: 0.3660 - val_accuracy: 0.8480\n",
      "Epoch 41/60\n",
      "219/219 [==============================] - 4s 20ms/step - loss: 0.3729 - accuracy: 0.8557 - val_loss: 0.3664 - val_accuracy: 0.8497\n",
      "Epoch 42/60\n",
      "219/219 [==============================] - 5s 21ms/step - loss: 0.3591 - accuracy: 0.8620 - val_loss: 0.3654 - val_accuracy: 0.8597\n",
      "Epoch 43/60\n",
      "219/219 [==============================] - 4s 20ms/step - loss: 0.3632 - accuracy: 0.8581 - val_loss: 0.3644 - val_accuracy: 0.8503\n",
      "Epoch 44/60\n",
      "219/219 [==============================] - 4s 20ms/step - loss: 0.3546 - accuracy: 0.8657 - val_loss: 0.3611 - val_accuracy: 0.8530\n",
      "Epoch 45/60\n",
      "219/219 [==============================] - 4s 19ms/step - loss: 0.3605 - accuracy: 0.8634 - val_loss: 0.3582 - val_accuracy: 0.8537\n",
      "Epoch 46/60\n",
      "219/219 [==============================] - 4s 19ms/step - loss: 0.3578 - accuracy: 0.8633 - val_loss: 0.3543 - val_accuracy: 0.8577\n",
      "Epoch 47/60\n",
      "219/219 [==============================] - 4s 19ms/step - loss: 0.3427 - accuracy: 0.8749 - val_loss: 0.3545 - val_accuracy: 0.8553\n",
      "Epoch 48/60\n",
      "219/219 [==============================] - 4s 21ms/step - loss: 0.3430 - accuracy: 0.8687 - val_loss: 0.3526 - val_accuracy: 0.8600\n",
      "Epoch 49/60\n",
      "219/219 [==============================] - 5s 21ms/step - loss: 0.3370 - accuracy: 0.8744 - val_loss: 0.3532 - val_accuracy: 0.8563\n",
      "Epoch 50/60\n",
      "219/219 [==============================] - 5s 21ms/step - loss: 0.3419 - accuracy: 0.8699 - val_loss: 0.3499 - val_accuracy: 0.8610\n",
      "Epoch 51/60\n",
      "219/219 [==============================] - 4s 20ms/step - loss: 0.3400 - accuracy: 0.8681 - val_loss: 0.3484 - val_accuracy: 0.8617\n",
      "Epoch 52/60\n",
      "219/219 [==============================] - 4s 20ms/step - loss: 0.3395 - accuracy: 0.8706 - val_loss: 0.3510 - val_accuracy: 0.8563\n",
      "Epoch 53/60\n",
      "219/219 [==============================] - 4s 19ms/step - loss: 0.3337 - accuracy: 0.8751 - val_loss: 0.3537 - val_accuracy: 0.8637\n",
      "Epoch 54/60\n",
      "219/219 [==============================] - 5s 21ms/step - loss: 0.3310 - accuracy: 0.8719 - val_loss: 0.3457 - val_accuracy: 0.8680\n",
      "Epoch 55/60\n",
      "219/219 [==============================] - 5s 24ms/step - loss: 0.3308 - accuracy: 0.8730 - val_loss: 0.3425 - val_accuracy: 0.8687\n",
      "Epoch 56/60\n",
      "219/219 [==============================] - 5s 21ms/step - loss: 0.3270 - accuracy: 0.8756 - val_loss: 0.3390 - val_accuracy: 0.8700\n",
      "Epoch 57/60\n",
      "219/219 [==============================] - 4s 20ms/step - loss: 0.3233 - accuracy: 0.8740 - val_loss: 0.3400 - val_accuracy: 0.8713\n",
      "Epoch 58/60\n",
      "219/219 [==============================] - 5s 21ms/step - loss: 0.3185 - accuracy: 0.8813 - val_loss: 0.3386 - val_accuracy: 0.8703\n",
      "Epoch 59/60\n",
      "219/219 [==============================] - 4s 20ms/step - loss: 0.3181 - accuracy: 0.8794 - val_loss: 0.3352 - val_accuracy: 0.8700\n",
      "Epoch 60/60\n",
      "219/219 [==============================] - 4s 19ms/step - loss: 0.3166 - accuracy: 0.8787 - val_loss: 0.3329 - val_accuracy: 0.8687\n"
     ]
    }
   ],
   "source": [
    "history = CNN.fit(X_train,y_train, epochs=60, validation_data=(X_val, y_val), callbacks=callbacks)"
   ]
  },
  {
   "cell_type": "markdown",
   "id": "5ac3bde8",
   "metadata": {},
   "source": [
    "## Plot the evolution of the training and validation loss"
   ]
  },
  {
   "cell_type": "code",
   "execution_count": 23,
   "id": "1d13a3ff",
   "metadata": {},
   "outputs": [],
   "source": [
    "metrics_df = pd.DataFrame(history.history)"
   ]
  },
  {
   "cell_type": "code",
   "execution_count": 24,
   "id": "b292520a",
   "metadata": {},
   "outputs": [
    {
     "data": {
      "image/png": "[encoded data removed]",
      "text/plain": [
       "<Figure size 640x480 with 1 Axes>"
      ]
     },
     "metadata": {},
     "output_type": "display_data"
    }
   ],
   "source": [
    "metrics_df[[\"loss\",\"val_loss\"]].plot()\n",
    "plt.xticks(list(range(1,60,4)))\n",
    "plt.xlabel(\"Epoch\")\n",
    "plt.ylabel(\"Loss\")\n",
    "plt.title(\"Training loss VS Validation loss\");"
   ]
  },
  {
   "cell_type": "markdown",
   "id": "84f8549b",
   "metadata": {},
   "source": [
    "## Assess model peformance on the training set"
   ]
  },
  {
   "cell_type": "code",
   "execution_count": 25,
   "id": "e567ba62",
   "metadata": {},
   "outputs": [
    {
     "data": {
      "text/plain": [
       "0.905"
      ]
     },
     "execution_count": 25,
     "metadata": {},
     "output_type": "execute_result"
    }
   ],
   "source": [
    "logits_train = CNN(X_train)\n",
    "probs_train = tf.nn.softmax(logits_train)\n",
    "probs_train = tf.make_tensor_proto(probs_train)\n",
    "probs_np = tf.make_ndarray(probs_train)\n",
    "y_pred = np.argmax(probs_np, axis=1)\n",
    "accuracy_score(y_pred, y_train)"
   ]
  },
  {
   "cell_type": "markdown",
   "id": "9021963a",
   "metadata": {},
   "source": [
    "## Assess model peformance on the validation set"
   ]
  },
  {
   "cell_type": "code",
   "execution_count": 26,
   "id": "3110a279",
   "metadata": {},
   "outputs": [
    {
     "data": {
      "text/plain": [
       "0.8686666666666667"
      ]
     },
     "execution_count": 26,
     "metadata": {},
     "output_type": "execute_result"
    }
   ],
   "source": [
    "logits_val = CNN(X_val)\n",
    "probs_val = tf.nn.softmax(logits_val)\n",
    "probs_val = tf.make_tensor_proto(probs_val)\n",
    "probs_np_val = tf.make_ndarray(probs_val)\n",
    "y_pred_val = np.argmax(probs_np_val, axis=1)\n",
    "accuracy_score(y_pred_val, y_val)"
   ]
  },
  {
   "cell_type": "markdown",
   "id": "ec2763c8",
   "metadata": {},
   "source": [
    "## Final performance test on the test set"
   ]
  },
  {
   "cell_type": "code",
   "execution_count": 27,
   "id": "2cbe4760",
   "metadata": {},
   "outputs": [
    {
     "data": {
      "text/plain": [
       "0.8702"
      ]
     },
     "execution_count": 27,
     "metadata": {},
     "output_type": "execute_result"
    }
   ],
   "source": [
    "logits_test = CNN(X_test)\n",
    "probs_test = tf.nn.softmax(logits_test)\n",
    "probs_test = tf.make_tensor_proto(probs_test)\n",
    "probs_np_test = tf.make_ndarray(probs_test)\n",
    "y_pred_test = np.argmax(probs_np_test, axis=1)\n",
    "accuracy_score(y_pred_test, y_test)"
   ]
  }
 ],
 "metadata": {
  "kernelspec": {
   "display_name": "Python 3 (ipykernel)",
   "language": "python",
   "name": "python3"
  },
  "language_info": {
   "codemirror_mode": {
    "name": "ipython",
    "version": 3
   },
   "file_extension": ".py",
   "mimetype": "text/x-python",
   "name": "python",
   "nbconvert_exporter": "python",
   "pygments_lexer": "ipython3",
   "version": "3.9.18"
  }
 },
 "nbformat": 4,
 "nbformat_minor": 5
}
