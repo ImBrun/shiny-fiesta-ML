{
 "cells": [
  {
   "cell_type": "markdown",
   "metadata": {},
   "source": [
    "## Importing own implementations"
   ]
  },
  {
   "cell_type": "code",
   "execution_count": 1,
   "metadata": {},
   "outputs": [],
   "source": [
    "import Classes.LDA as LDA\n",
    "import Classes.NaiveBayes as NaiveBayes"
   ]
  },
  {
   "cell_type": "markdown",
   "metadata": {},
   "source": [
    "## Other imports"
   ]
  },
  {
   "cell_type": "code",
   "execution_count": 2,
   "metadata": {},
   "outputs": [
    {
     "name": "stderr",
     "output_type": "stream",
     "text": [
      "/Users/andrei/Library/Python/3.9/lib/python/site-packages/urllib3/__init__.py:34: NotOpenSSLWarning: urllib3 v2 only supports OpenSSL 1.1.1+, currently the 'ssl' module is compiled with 'LibreSSL 2.8.3'. See: https://github.com/urllib3/urllib3/issues/3020\n",
      "  warnings.warn(\n"
     ]
    }
   ],
   "source": [
    "import numpy as np\n",
    "import matplotlib.pyplot as plt\n",
    "import scipy.stats as stats\n",
    "import scipy.optimize as optimize\n",
    "from sklearn.preprocessing import StandardScaler\n",
    "from sklearn.neighbors import KNeighborsClassifier\n",
    "from sklearn.naive_bayes import GaussianNB\n",
    "from sklearn.naive_bayes import CategoricalNB\n",
    "import math\n",
    "import tensorflow as tf\n",
    "from tensorflow.keras.callbacks import EarlyStopping\n",
    "from tensorflow.keras import Sequential\n",
    "from tensorflow.keras.layers import Dense\n",
    "from tensorflow.keras.layers import Dropout\n",
    "from tensorflow.keras.losses import SparseCategoricalCrossentropy\n",
    "from tensorflow.keras.optimizers import Adam\n",
    "from sklearn.metrics import accuracy_score\n",
    "from sklearn.model_selection import GridSearchCV\n",
    "from sklearn.pipeline import make_pipeline\n",
    "from sklearn.svm import SVC\n",
    "\n",
    "# Ignore unwanted warnings\n",
    "import warnings\n",
    "warnings.filterwarnings('ignore')\n",
    "# ignore some warnings about some scipy function getting changed in the next update\n",
    "warnings.simplefilter(action='ignore', category=FutureWarning)"
   ]
  },
  {
   "cell_type": "markdown",
   "metadata": {},
   "source": [
    "## Reading the dataset"
   ]
  },
  {
   "cell_type": "code",
   "execution_count": 3,
   "metadata": {},
   "outputs": [],
   "source": [
    "path_train = \"Datasets/fashion_train.npy\"\n",
    "path_test = \"Datasets/fashion_test.npy\"\n",
    "\n",
    "train = np.load(path_train)\n",
    "test = np.load(path_test)\n",
    "\n",
    "train_percentage = int((train.shape[0]) * 0.7)\n",
    "train_percentage\n",
    "\n",
    "#Split the training and test data into features and labels\n",
    "X_train = train[:train_percentage,:784]\n",
    "y_train = train[:train_percentage,784]\n",
    "\n",
    "X_val = train[train_percentage:, :784]\n",
    "y_val = train[train_percentage:, 784]\n",
    "\n",
    "X_test = test[:,:784]\n",
    "y_test = test[:,784]\n",
    "\n",
    "X_train = X_train/255\n",
    "X_val = X_val/255\n",
    "X_test = X_test/255"
   ]
  },
  {
   "cell_type": "markdown",
   "metadata": {},
   "source": [
    "## Declaring our own classes"
   ]
  },
  {
   "cell_type": "code",
   "execution_count": 4,
   "metadata": {},
   "outputs": [],
   "source": [
    "ourLDA = LDA.ourLDA()\n",
    "ourNaiveBayes = NaiveBayes.ourNaiveBayes()"
   ]
  },
  {
   "cell_type": "markdown",
   "metadata": {},
   "source": [
    "## Getting the first two liniar discriminants for both the train and the test sets"
   ]
  },
  {
   "cell_type": "code",
   "execution_count": 5,
   "metadata": {},
   "outputs": [],
   "source": [
    "ourLDA.set_lda_components(X_train, y_train)\n",
    "X_lda = ourLDA.get_two_discriminants(X_train)\n",
    "X_lda = X_lda.real\n",
    "X_lda_test = ourLDA.get_two_discriminants(X_test)\n",
    "X_lda_test = X_lda_test.real"
   ]
  },
  {
   "cell_type": "markdown",
   "metadata": {},
   "source": [
    "### Scale"
   ]
  },
  {
   "cell_type": "code",
   "execution_count": 6,
   "metadata": {},
   "outputs": [],
   "source": [
    "scaler = StandardScaler()\n",
    "X_lda_std = scaler.fit_transform(X_lda)\n",
    "X_lda_test_std = scaler.fit_transform(X_lda_test)"
   ]
  },
  {
   "cell_type": "markdown",
   "metadata": {},
   "source": [
    "## Setting up Naive Bayes"
   ]
  },
  {
   "cell_type": "code",
   "execution_count": 7,
   "metadata": {},
   "outputs": [],
   "source": [
    "ourNaiveBayes.set_priors(X_lda, y_train)\n",
    "ourNaiveBayes.set_bin_number(5)\n",
    "ourNaiveBayes.set_conditionals(X_lda, y_train)"
   ]
  },
  {
   "cell_type": "markdown",
   "metadata": {},
   "source": [
    "### Making predictions with Naive Bayes"
   ]
  },
  {
   "cell_type": "code",
   "execution_count": 8,
   "metadata": {},
   "outputs": [
    {
     "name": "stdout",
     "output_type": "stream",
     "text": [
      "Accuracy of: 67.9 %\n"
     ]
    }
   ],
   "source": [
    "predictions_lda = ourNaiveBayes.predict_class(X_lda_test)\n",
    "print(\"Accuracy of:\", (np.sum(predictions_lda == y_test))/(X_lda_test.shape[0])*100, \"%\")"
   ]
  },
  {
   "cell_type": "markdown",
   "metadata": {},
   "source": [
    "# KNN"
   ]
  },
  {
   "cell_type": "markdown",
   "metadata": {},
   "source": [
    "### KNN 5 neighbors"
   ]
  },
  {
   "cell_type": "code",
   "execution_count": 9,
   "metadata": {},
   "outputs": [
    {
     "name": "stdout",
     "output_type": "stream",
     "text": [
      "Accuracy of: 82.75714285714287 %\n"
     ]
    }
   ],
   "source": [
    "knn = KNeighborsClassifier(n_neighbors=5)\n",
    "knn.fit(X_lda, y_train)\n",
    "pred_knn = knn.predict(X_lda)\n",
    "print(\"Accuracy of:\", accuracy_score(pred_knn, y_train)*100, \"%\")"
   ]
  },
  {
   "cell_type": "markdown",
   "metadata": {},
   "source": [
    "### KNN 3 neighbors"
   ]
  },
  {
   "cell_type": "code",
   "execution_count": 10,
   "metadata": {},
   "outputs": [
    {
     "name": "stdout",
     "output_type": "stream",
     "text": [
      "Accuracy of: 84.92857142857143 %\n"
     ]
    }
   ],
   "source": [
    "knn = KNeighborsClassifier(n_neighbors=3)\n",
    "knn.fit(X_lda, y_train)\n",
    "pred_knn = knn.predict(X_lda)\n",
    "print(\"Accuracy of:\", accuracy_score(pred_knn, y_train)*100, \"%\")"
   ]
  },
  {
   "cell_type": "markdown",
   "metadata": {},
   "source": [
    "## Standardized features"
   ]
  },
  {
   "cell_type": "markdown",
   "metadata": {},
   "source": [
    "### KNN 5 neighbors"
   ]
  },
  {
   "cell_type": "code",
   "execution_count": 11,
   "metadata": {},
   "outputs": [
    {
     "name": "stdout",
     "output_type": "stream",
     "text": [
      "Accuracy of: 82.8 %\n"
     ]
    }
   ],
   "source": [
    "knn = KNeighborsClassifier(n_neighbors=5)\n",
    "knn.fit(X_lda_std, y_train)\n",
    "pred_knn = knn.predict(X_lda_std)\n",
    "print(\"Accuracy of:\", accuracy_score(pred_knn, y_train)*100, \"%\")"
   ]
  },
  {
   "cell_type": "markdown",
   "metadata": {},
   "source": [
    "### KNN 3 neighbors"
   ]
  },
  {
   "cell_type": "code",
   "execution_count": 12,
   "metadata": {},
   "outputs": [
    {
     "name": "stdout",
     "output_type": "stream",
     "text": [
      "Accuracy of: 84.61428571428571 %\n"
     ]
    }
   ],
   "source": [
    "knn = KNeighborsClassifier(n_neighbors=3)\n",
    "knn.fit(X_lda_std, y_train)\n",
    "pred_knn = knn.predict(X_lda_std)\n",
    "print(\"Accuracy of:\", accuracy_score(pred_knn, y_train)*100, \"%\")"
   ]
  },
  {
   "cell_type": "markdown",
   "metadata": {},
   "source": [
    "## Using grid search to find optimal parameters"
   ]
  },
  {
   "cell_type": "code",
   "execution_count": 13,
   "metadata": {},
   "outputs": [
    {
     "name": "stdout",
     "output_type": "stream",
     "text": [
      "Best k value: 17\n",
      "Best accuracy: 79.0 %\n"
     ]
    }
   ],
   "source": [
    "knn = KNeighborsClassifier()\n",
    "\n",
    "param_grid = {'n_neighbors': [1,2,3,4,5,6,7,8,9,10,11,12,13,14,15,16,17]}\n",
    "grid_search = GridSearchCV(knn, param_grid, cv=5, scoring=\"accuracy\")\n",
    "grid_search.fit(X_lda, y_train)\n",
    "\n",
    "print(\"Best k value:\", grid_search.best_params_['n_neighbors'])\n",
    "print(\"Best accuracy:\", grid_search.best_score_*100, \"%\")"
   ]
  },
  {
   "cell_type": "code",
   "execution_count": 14,
   "metadata": {},
   "outputs": [
    {
     "name": "stdout",
     "output_type": "stream",
     "text": [
      "Accuracy of: 80.45714285714286 %\n"
     ]
    }
   ],
   "source": [
    "knn = KNeighborsClassifier(n_neighbors=grid_search.best_params_['n_neighbors'])\n",
    "knn.fit(X_lda, y_train)\n",
    "pred_knn = knn.predict(X_lda)\n",
    "print(\"Accuracy of:\", accuracy_score(pred_knn, y_train)*100, \"%\")"
   ]
  },
  {
   "cell_type": "markdown",
   "metadata": {},
   "source": [
    "## Testing accuracy for chosen model on the test set"
   ]
  },
  {
   "cell_type": "code",
   "execution_count": 15,
   "metadata": {},
   "outputs": [
    {
     "name": "stdout",
     "output_type": "stream",
     "text": [
      "Accuracy of: 70.72 %\n"
     ]
    }
   ],
   "source": [
    "knn = KNeighborsClassifier(n_neighbors=5)\n",
    "knn.fit(X_lda_std, y_train)\n",
    "pred_knn = knn.predict(X_lda_test_std)\n",
    "print(\"Accuracy of:\", accuracy_score(pred_knn, y_test)*100, \"%\")"
   ]
  },
  {
   "cell_type": "markdown",
   "metadata": {},
   "source": [
    "## Setting up SVM"
   ]
  },
  {
   "cell_type": "markdown",
   "metadata": {},
   "source": [
    "### RBF kernel"
   ]
  },
  {
   "cell_type": "code",
   "execution_count": 16,
   "metadata": {},
   "outputs": [
    {
     "name": "stdout",
     "output_type": "stream",
     "text": [
      "Accuracy of: 79.81428571428572 %\n"
     ]
    }
   ],
   "source": [
    "svm = make_pipeline(StandardScaler(), SVC(gamma='auto'))\n",
    "svm.fit(X_lda, y_train)\n",
    "pred_svm = svm.predict(X_lda)\n",
    "print(\"Accuracy of:\", accuracy_score(pred_svm, y_train)*100, \"%\")"
   ]
  },
  {
   "cell_type": "markdown",
   "metadata": {},
   "source": [
    "### Polynomial kernel"
   ]
  },
  {
   "cell_type": "code",
   "execution_count": 17,
   "metadata": {},
   "outputs": [
    {
     "name": "stdout",
     "output_type": "stream",
     "text": [
      "Accuracy of: 76.45714285714286 %\n"
     ]
    }
   ],
   "source": [
    "svm = make_pipeline(StandardScaler(), SVC(gamma='auto', kernel='poly', degree=3))\n",
    "svm.fit(X_lda, y_train)\n",
    "pred_svm = svm.predict(X_lda)\n",
    "print(\"Accuracy of:\", accuracy_score(pred_svm, y_train)*100, \"%\")"
   ]
  },
  {
   "cell_type": "markdown",
   "metadata": {},
   "source": [
    "### Finiding optimal parameters with grid search"
   ]
  },
  {
   "cell_type": "code",
   "execution_count": 18,
   "metadata": {},
   "outputs": [
    {
     "name": "stdout",
     "output_type": "stream",
     "text": [
      "Best gamma value: auto\n",
      "Best kernel value: linear\n",
      "Best accuracy: 79.72857142857143 %\n",
      "Accuracy of: 79.85714285714286 %\n"
     ]
    }
   ],
   "source": [
    "svm = SVC(gamma='auto')\n",
    "\n",
    "param_grid_svm = {'gamma': ['auto', 'scale'], 'kernel': ['linear', 'poly', 'rbf', 'sigmoid']}\n",
    "grid_search_svm = GridSearchCV(svm, param_grid_svm, cv=5, scoring=\"accuracy\")\n",
    "grid_search_svm.fit(X_lda_std, y_train)\n",
    "\n",
    "print(\"Best gamma value:\", grid_search_svm.best_params_['gamma'])\n",
    "print(\"Best kernel value:\", grid_search_svm.best_params_['kernel'])\n",
    "print(\"Best accuracy:\", grid_search_svm.best_score_*100, \"%\")\n",
    "\n",
    "svm = make_pipeline(StandardScaler(), SVC(gamma=grid_search_svm.best_params_['gamma'], kernel=grid_search_svm.best_params_['kernel']))\n",
    "svm.fit(X_lda, y_train)\n",
    "pred_svm = svm.predict(X_lda)\n",
    "print(\"Accuracy of:\", accuracy_score(pred_svm, y_train)*100, \"%\")"
   ]
  },
  {
   "cell_type": "markdown",
   "metadata": {},
   "source": [
    "## Testing accuracy for chosen model on the test set"
   ]
  },
  {
   "cell_type": "code",
   "execution_count": 19,
   "metadata": {},
   "outputs": [
    {
     "name": "stdout",
     "output_type": "stream",
     "text": [
      "Accuracy of: 42.32 %\n"
     ]
    }
   ],
   "source": [
    "svm = SVC(gamma='auto')\n",
    "svm.fit(X_lda, y_train)\n",
    "pred_svm = svm.predict(X_lda_test)\n",
    "print(\"Accuracy of:\", accuracy_score(pred_svm, y_test)*100, \"%\")"
   ]
  },
  {
   "cell_type": "markdown",
   "metadata": {},
   "source": [
    "## Setting up Tensorflow"
   ]
  },
  {
   "cell_type": "code",
   "execution_count": 20,
   "metadata": {},
   "outputs": [
    {
     "name": "stderr",
     "output_type": "stream",
     "text": [
      "WARNING:absl:At this time, the v2.11+ optimizer `tf.keras.optimizers.Adam` runs slowly on M1/M2 Macs, please use the legacy Keras optimizer instead, located at `tf.keras.optimizers.legacy.Adam`.\n"
     ]
    },
    {
     "name": "stdout",
     "output_type": "stream",
     "text": [
      "Epoch 1/100\n",
      "219/219 [==============================] - 1s 1ms/step - loss: 0.8168 - accuracy: 0.6650 - val_loss: 0.5992 - val_accuracy: 0.7597\n",
      "Epoch 2/100\n",
      "219/219 [==============================] - 0s 1ms/step - loss: 0.6175 - accuracy: 0.7619 - val_loss: 0.4911 - val_accuracy: 0.8130\n",
      "Epoch 3/100\n",
      "219/219 [==============================] - 0s 1ms/step - loss: 0.5303 - accuracy: 0.8060 - val_loss: 0.4735 - val_accuracy: 0.8173\n",
      "Epoch 4/100\n",
      "219/219 [==============================] - 0s 1ms/step - loss: 0.4928 - accuracy: 0.8190 - val_loss: 0.4391 - val_accuracy: 0.8283\n",
      "Epoch 5/100\n",
      "219/219 [==============================] - 0s 1ms/step - loss: 0.4539 - accuracy: 0.8294 - val_loss: 0.4319 - val_accuracy: 0.8367\n",
      "Epoch 6/100\n",
      "219/219 [==============================] - 0s 1ms/step - loss: 0.4491 - accuracy: 0.8299 - val_loss: 0.4486 - val_accuracy: 0.8327\n",
      "Epoch 7/100\n",
      "219/219 [==============================] - 0s 1ms/step - loss: 0.4217 - accuracy: 0.8444 - val_loss: 0.4052 - val_accuracy: 0.8507\n",
      "Epoch 8/100\n",
      "219/219 [==============================] - 0s 913us/step - loss: 0.4120 - accuracy: 0.8484 - val_loss: 0.4128 - val_accuracy: 0.8353\n",
      "Epoch 9/100\n",
      "219/219 [==============================] - 0s 898us/step - loss: 0.3960 - accuracy: 0.8489 - val_loss: 0.3997 - val_accuracy: 0.8453\n",
      "Epoch 10/100\n",
      "219/219 [==============================] - 0s 1ms/step - loss: 0.3899 - accuracy: 0.8556 - val_loss: 0.3858 - val_accuracy: 0.8557\n",
      "Epoch 11/100\n",
      "219/219 [==============================] - 0s 1ms/step - loss: 0.3679 - accuracy: 0.8601 - val_loss: 0.4009 - val_accuracy: 0.8527\n",
      "Epoch 12/100\n",
      "219/219 [==============================] - 0s 932us/step - loss: 0.3636 - accuracy: 0.8646 - val_loss: 0.3717 - val_accuracy: 0.8557\n",
      "Epoch 13/100\n",
      "219/219 [==============================] - 0s 1ms/step - loss: 0.3589 - accuracy: 0.8657 - val_loss: 0.4077 - val_accuracy: 0.8513\n",
      "Epoch 14/100\n",
      "219/219 [==============================] - 0s 970us/step - loss: 0.3578 - accuracy: 0.8657 - val_loss: 0.3716 - val_accuracy: 0.8540\n",
      "Epoch 15/100\n",
      "219/219 [==============================] - 0s 899us/step - loss: 0.3372 - accuracy: 0.8730 - val_loss: 0.4026 - val_accuracy: 0.8440\n",
      "Epoch 16/100\n",
      "219/219 [==============================] - 0s 1ms/step - loss: 0.3320 - accuracy: 0.8693 - val_loss: 0.3902 - val_accuracy: 0.8520\n",
      "Epoch 17/100\n",
      "219/219 [==============================] - 0s 997us/step - loss: 0.3392 - accuracy: 0.8721 - val_loss: 0.3852 - val_accuracy: 0.8520\n",
      "Epoch 18/100\n",
      "219/219 [==============================] - 0s 938us/step - loss: 0.3216 - accuracy: 0.8801 - val_loss: 0.3811 - val_accuracy: 0.8540\n",
      "Epoch 19/100\n",
      "219/219 [==============================] - 0s 1ms/step - loss: 0.3278 - accuracy: 0.8729 - val_loss: 0.4092 - val_accuracy: 0.8543\n",
      "Epoch 20/100\n",
      "219/219 [==============================] - 0s 968us/step - loss: 0.3186 - accuracy: 0.8773 - val_loss: 0.3789 - val_accuracy: 0.8543\n",
      "Epoch 21/100\n",
      "219/219 [==============================] - 0s 1ms/step - loss: 0.3122 - accuracy: 0.8813 - val_loss: 0.3780 - val_accuracy: 0.8543\n",
      "Epoch 22/100\n",
      "219/219 [==============================] - 0s 1ms/step - loss: 0.3078 - accuracy: 0.8810 - val_loss: 0.4046 - val_accuracy: 0.8497\n",
      "Epoch 23/100\n",
      "219/219 [==============================] - 0s 969us/step - loss: 0.2999 - accuracy: 0.8850 - val_loss: 0.3976 - val_accuracy: 0.8547\n",
      "Epoch 24/100\n",
      "219/219 [==============================] - 0s 970us/step - loss: 0.2979 - accuracy: 0.8819 - val_loss: 0.3853 - val_accuracy: 0.8553\n",
      "Epoch 25/100\n",
      "219/219 [==============================] - 0s 984us/step - loss: 0.3005 - accuracy: 0.8816 - val_loss: 0.3813 - val_accuracy: 0.8603\n",
      "Epoch 26/100\n",
      "219/219 [==============================] - 0s 1ms/step - loss: 0.2934 - accuracy: 0.8876 - val_loss: 0.3724 - val_accuracy: 0.8613\n",
      "Epoch 27/100\n",
      "219/219 [==============================] - 0s 988us/step - loss: 0.3010 - accuracy: 0.8837 - val_loss: 0.4490 - val_accuracy: 0.8517\n",
      "Epoch 28/100\n",
      "219/219 [==============================] - 0s 957us/step - loss: 0.2860 - accuracy: 0.8899 - val_loss: 0.3968 - val_accuracy: 0.8633\n",
      "Epoch 29/100\n",
      "219/219 [==============================] - 0s 911us/step - loss: 0.2827 - accuracy: 0.8893 - val_loss: 0.3899 - val_accuracy: 0.8663\n",
      "Epoch 30/100\n",
      "219/219 [==============================] - 0s 925us/step - loss: 0.2742 - accuracy: 0.8926 - val_loss: 0.3927 - val_accuracy: 0.8607\n",
      "Epoch 31/100\n",
      "219/219 [==============================] - 0s 1ms/step - loss: 0.2637 - accuracy: 0.8967 - val_loss: 0.4179 - val_accuracy: 0.8557\n",
      "Epoch 32/100\n",
      "219/219 [==============================] - 0s 911us/step - loss: 0.2579 - accuracy: 0.9009 - val_loss: 0.3793 - val_accuracy: 0.8670\n",
      "Epoch 33/100\n",
      "219/219 [==============================] - 0s 1ms/step - loss: 0.2566 - accuracy: 0.8997 - val_loss: 0.3964 - val_accuracy: 0.8610\n",
      "Epoch 34/100\n",
      "219/219 [==============================] - 0s 961us/step - loss: 0.2593 - accuracy: 0.8971 - val_loss: 0.3966 - val_accuracy: 0.8663\n",
      "Epoch 35/100\n",
      "219/219 [==============================] - 0s 928us/step - loss: 0.2645 - accuracy: 0.8949 - val_loss: 0.4035 - val_accuracy: 0.8597\n",
      "Epoch 36/100\n",
      "219/219 [==============================] - 0s 913us/step - loss: 0.2495 - accuracy: 0.9014 - val_loss: 0.3986 - val_accuracy: 0.8627\n",
      "Epoch 37/100\n",
      "219/219 [==============================] - 0s 1ms/step - loss: 0.2638 - accuracy: 0.8971 - val_loss: 0.3840 - val_accuracy: 0.8620\n",
      "Epoch 38/100\n",
      "219/219 [==============================] - 0s 905us/step - loss: 0.2525 - accuracy: 0.9034 - val_loss: 0.4249 - val_accuracy: 0.8607\n",
      "Epoch 39/100\n",
      "219/219 [==============================] - 0s 907us/step - loss: 0.2540 - accuracy: 0.8997 - val_loss: 0.4387 - val_accuracy: 0.8503\n",
      "Epoch 40/100\n",
      "219/219 [==============================] - 0s 915us/step - loss: 0.2466 - accuracy: 0.9023 - val_loss: 0.4004 - val_accuracy: 0.8610\n",
      "Epoch 41/100\n",
      "219/219 [==============================] - 0s 903us/step - loss: 0.2470 - accuracy: 0.9043 - val_loss: 0.4055 - val_accuracy: 0.8723\n",
      "Epoch 42/100\n",
      "219/219 [==============================] - 0s 1ms/step - loss: 0.2363 - accuracy: 0.9036 - val_loss: 0.4195 - val_accuracy: 0.8583\n",
      "Epoch 43/100\n",
      "219/219 [==============================] - 0s 927us/step - loss: 0.2370 - accuracy: 0.9061 - val_loss: 0.4207 - val_accuracy: 0.8643\n",
      "Epoch 44/100\n",
      "219/219 [==============================] - 0s 960us/step - loss: 0.2383 - accuracy: 0.9070 - val_loss: 0.4416 - val_accuracy: 0.8627\n",
      "Epoch 45/100\n",
      "219/219 [==============================] - 0s 908us/step - loss: 0.2358 - accuracy: 0.9061 - val_loss: 0.4090 - val_accuracy: 0.8583\n",
      "Epoch 46/100\n",
      "219/219 [==============================] - 0s 909us/step - loss: 0.2463 - accuracy: 0.9020 - val_loss: 0.4384 - val_accuracy: 0.8700\n",
      "Epoch 47/100\n",
      "219/219 [==============================] - 0s 908us/step - loss: 0.2298 - accuracy: 0.9110 - val_loss: 0.4330 - val_accuracy: 0.8650\n",
      "Epoch 48/100\n",
      "219/219 [==============================] - 0s 1ms/step - loss: 0.2242 - accuracy: 0.9103 - val_loss: 0.4587 - val_accuracy: 0.8617\n",
      "Epoch 49/100\n",
      "219/219 [==============================] - 0s 910us/step - loss: 0.2221 - accuracy: 0.9096 - val_loss: 0.4639 - val_accuracy: 0.8570\n",
      "Epoch 50/100\n",
      "219/219 [==============================] - 0s 912us/step - loss: 0.2344 - accuracy: 0.9076 - val_loss: 0.4353 - val_accuracy: 0.8633\n",
      "Epoch 51/100\n",
      "219/219 [==============================] - 0s 908us/step - loss: 0.2325 - accuracy: 0.9106 - val_loss: 0.4013 - val_accuracy: 0.8637\n",
      "Epoch 52/100\n",
      "219/219 [==============================] - 0s 908us/step - loss: 0.2269 - accuracy: 0.9094 - val_loss: 0.4360 - val_accuracy: 0.8673\n",
      "Epoch 53/100\n",
      "219/219 [==============================] - 0s 1ms/step - loss: 0.2301 - accuracy: 0.9070 - val_loss: 0.4839 - val_accuracy: 0.8620\n",
      "Epoch 54/100\n",
      "219/219 [==============================] - 0s 911us/step - loss: 0.2222 - accuracy: 0.9117 - val_loss: 0.4443 - val_accuracy: 0.8673\n",
      "Epoch 55/100\n",
      "219/219 [==============================] - 0s 909us/step - loss: 0.2057 - accuracy: 0.9154 - val_loss: 0.4764 - val_accuracy: 0.8643\n",
      "Epoch 56/100\n",
      "219/219 [==============================] - 0s 899us/step - loss: 0.2109 - accuracy: 0.9136 - val_loss: 0.4188 - val_accuracy: 0.8697\n",
      "Epoch 57/100\n",
      "219/219 [==============================] - 0s 916us/step - loss: 0.2167 - accuracy: 0.9120 - val_loss: 0.4856 - val_accuracy: 0.8650\n",
      "Epoch 58/100\n",
      "219/219 [==============================] - 0s 1ms/step - loss: 0.2073 - accuracy: 0.9190 - val_loss: 0.4330 - val_accuracy: 0.8687\n",
      "Epoch 59/100\n",
      "219/219 [==============================] - 0s 911us/step - loss: 0.2118 - accuracy: 0.9129 - val_loss: 0.4577 - val_accuracy: 0.8643\n",
      "Epoch 60/100\n",
      "219/219 [==============================] - 0s 907us/step - loss: 0.1879 - accuracy: 0.9263 - val_loss: 0.4764 - val_accuracy: 0.8657\n",
      "Epoch 61/100\n",
      "219/219 [==============================] - 0s 902us/step - loss: 0.2150 - accuracy: 0.9166 - val_loss: 0.4495 - val_accuracy: 0.8687\n",
      "Epoch 62/100\n",
      "219/219 [==============================] - 0s 912us/step - loss: 0.2098 - accuracy: 0.9156 - val_loss: 0.4635 - val_accuracy: 0.8607\n",
      "Epoch 63/100\n",
      "219/219 [==============================] - 0s 911us/step - loss: 0.2059 - accuracy: 0.9196 - val_loss: 0.4433 - val_accuracy: 0.8620\n",
      "Epoch 64/100\n",
      "219/219 [==============================] - 0s 1ms/step - loss: 0.1993 - accuracy: 0.9229 - val_loss: 0.4551 - val_accuracy: 0.8630\n",
      "Epoch 65/100\n",
      "219/219 [==============================] - 0s 904us/step - loss: 0.1964 - accuracy: 0.9237 - val_loss: 0.4819 - val_accuracy: 0.8613\n",
      "Epoch 66/100\n",
      "219/219 [==============================] - 0s 910us/step - loss: 0.2038 - accuracy: 0.9231 - val_loss: 0.4439 - val_accuracy: 0.8707\n",
      "Epoch 67/100\n",
      "219/219 [==============================] - 0s 901us/step - loss: 0.1946 - accuracy: 0.9237 - val_loss: 0.4778 - val_accuracy: 0.8670\n",
      "Epoch 68/100\n",
      "219/219 [==============================] - 0s 904us/step - loss: 0.1893 - accuracy: 0.9289 - val_loss: 0.5011 - val_accuracy: 0.8717\n",
      "Epoch 69/100\n",
      "219/219 [==============================] - 0s 1ms/step - loss: 0.1921 - accuracy: 0.9241 - val_loss: 0.4882 - val_accuracy: 0.8710\n",
      "Epoch 70/100\n",
      "219/219 [==============================] - 0s 911us/step - loss: 0.1889 - accuracy: 0.9261 - val_loss: 0.4660 - val_accuracy: 0.8690\n",
      "Epoch 71/100\n",
      "219/219 [==============================] - 0s 905us/step - loss: 0.1862 - accuracy: 0.9244 - val_loss: 0.5038 - val_accuracy: 0.8697\n",
      "Epoch 72/100\n",
      "219/219 [==============================] - 0s 914us/step - loss: 0.1970 - accuracy: 0.9177 - val_loss: 0.4839 - val_accuracy: 0.8653\n",
      "Epoch 73/100\n",
      "219/219 [==============================] - 0s 904us/step - loss: 0.1950 - accuracy: 0.9183 - val_loss: 0.4962 - val_accuracy: 0.8697\n",
      "Epoch 74/100\n",
      "219/219 [==============================] - 0s 1ms/step - loss: 0.1829 - accuracy: 0.9280 - val_loss: 0.4755 - val_accuracy: 0.8687\n",
      "Epoch 75/100\n",
      "219/219 [==============================] - 0s 902us/step - loss: 0.1818 - accuracy: 0.9240 - val_loss: 0.4789 - val_accuracy: 0.8727\n",
      "Epoch 76/100\n",
      "219/219 [==============================] - 0s 907us/step - loss: 0.1916 - accuracy: 0.9270 - val_loss: 0.4734 - val_accuracy: 0.8693\n",
      "Epoch 77/100\n",
      "219/219 [==============================] - 0s 914us/step - loss: 0.1796 - accuracy: 0.9323 - val_loss: 0.5018 - val_accuracy: 0.8757\n",
      "Epoch 78/100\n",
      "219/219 [==============================] - 0s 985us/step - loss: 0.1722 - accuracy: 0.9346 - val_loss: 0.4926 - val_accuracy: 0.8730\n",
      "Epoch 79/100\n",
      "219/219 [==============================] - 0s 1ms/step - loss: 0.1696 - accuracy: 0.9349 - val_loss: 0.5077 - val_accuracy: 0.8663\n",
      "Epoch 80/100\n",
      "219/219 [==============================] - 0s 908us/step - loss: 0.1863 - accuracy: 0.9310 - val_loss: 0.5192 - val_accuracy: 0.8620\n",
      "Epoch 81/100\n",
      "219/219 [==============================] - 0s 914us/step - loss: 0.1766 - accuracy: 0.9306 - val_loss: 0.4847 - val_accuracy: 0.8713\n",
      "Epoch 82/100\n",
      "219/219 [==============================] - 0s 934us/step - loss: 0.1794 - accuracy: 0.9304 - val_loss: 0.5208 - val_accuracy: 0.8707\n",
      "Epoch 83/100\n",
      "219/219 [==============================] - 0s 903us/step - loss: 0.1671 - accuracy: 0.9304 - val_loss: 0.5493 - val_accuracy: 0.8673\n",
      "Epoch 84/100\n",
      "219/219 [==============================] - 0s 904us/step - loss: 0.1774 - accuracy: 0.9310 - val_loss: 0.5211 - val_accuracy: 0.8713\n",
      "Epoch 85/100\n",
      "219/219 [==============================] - 0s 1ms/step - loss: 0.1670 - accuracy: 0.9370 - val_loss: 0.5152 - val_accuracy: 0.8670\n",
      "Epoch 86/100\n",
      "219/219 [==============================] - 0s 911us/step - loss: 0.1732 - accuracy: 0.9349 - val_loss: 0.4748 - val_accuracy: 0.8707\n",
      "Epoch 87/100\n",
      "219/219 [==============================] - 0s 912us/step - loss: 0.1755 - accuracy: 0.9290 - val_loss: 0.4865 - val_accuracy: 0.8687\n",
      "Epoch 88/100\n",
      "219/219 [==============================] - 0s 913us/step - loss: 0.1758 - accuracy: 0.9313 - val_loss: 0.5324 - val_accuracy: 0.8657\n",
      "Epoch 89/100\n",
      "219/219 [==============================] - 0s 915us/step - loss: 0.1641 - accuracy: 0.9346 - val_loss: 0.5423 - val_accuracy: 0.8683\n",
      "Epoch 90/100\n",
      "219/219 [==============================] - 0s 1ms/step - loss: 0.1712 - accuracy: 0.9363 - val_loss: 0.5308 - val_accuracy: 0.8680\n",
      "Epoch 91/100\n",
      "219/219 [==============================] - 0s 1ms/step - loss: 0.1711 - accuracy: 0.9336 - val_loss: 0.5526 - val_accuracy: 0.8663\n",
      "Epoch 92/100\n",
      "219/219 [==============================] - 0s 923us/step - loss: 0.1697 - accuracy: 0.9349 - val_loss: 0.4910 - val_accuracy: 0.8627\n",
      "Epoch 93/100\n",
      "219/219 [==============================] - 0s 1ms/step - loss: 0.1566 - accuracy: 0.9406 - val_loss: 0.5577 - val_accuracy: 0.8660\n",
      "Epoch 94/100\n",
      "219/219 [==============================] - 0s 911us/step - loss: 0.1627 - accuracy: 0.9353 - val_loss: 0.5529 - val_accuracy: 0.8630\n",
      "Epoch 95/100\n",
      "219/219 [==============================] - 0s 887us/step - loss: 0.1606 - accuracy: 0.9374 - val_loss: 0.4958 - val_accuracy: 0.8700\n",
      "Epoch 96/100\n",
      "219/219 [==============================] - 0s 1ms/step - loss: 0.1507 - accuracy: 0.9436 - val_loss: 0.5491 - val_accuracy: 0.8697\n",
      "Epoch 97/100\n",
      "219/219 [==============================] - 0s 907us/step - loss: 0.1618 - accuracy: 0.9350 - val_loss: 0.5863 - val_accuracy: 0.8690\n",
      "Epoch 98/100\n",
      "219/219 [==============================] - 0s 908us/step - loss: 0.1624 - accuracy: 0.9376 - val_loss: 0.5271 - val_accuracy: 0.8623\n",
      "Epoch 99/100\n",
      "219/219 [==============================] - 0s 934us/step - loss: 0.1634 - accuracy: 0.9351 - val_loss: 0.5503 - val_accuracy: 0.8707\n",
      "Epoch 100/100\n",
      "219/219 [==============================] - 0s 904us/step - loss: 0.1563 - accuracy: 0.9411 - val_loss: 0.5898 - val_accuracy: 0.8687\n"
     ]
    },
    {
     "data": {
      "text/plain": [
       "<keras.src.callbacks.History at 0x29c791b50>"
      ]
     },
     "execution_count": 20,
     "metadata": {},
     "output_type": "execute_result"
    }
   ],
   "source": [
    "tensor_model = Sequential([\n",
    "    Dense(units=100, activation=\"relu\"),\n",
    "    Dropout(0.2),\n",
    "    Dense(units=50, activation=\"relu\"),\n",
    "    Dropout(0.2),\n",
    "    Dense(units=25, activation=\"relu\"),\n",
    "    Dropout(0.2),\n",
    "    Dense(units=5, activation=\"linear\")\n",
    "])\n",
    "\n",
    "tensor_model.compile(loss=SparseCategoricalCrossentropy(from_logits=True),\n",
    "              optimizer=Adam(learning_rate=1e-3),\n",
    "              metrics=[\"accuracy\"]\n",
    "             )\n",
    "\n",
    "tensor_model.fit(X_train, y_train, epochs=100, validation_data=(X_val, y_val))"
   ]
  },
  {
   "cell_type": "markdown",
   "metadata": {},
   "source": [
    "### Making predictions with Tesorflow"
   ]
  },
  {
   "cell_type": "code",
   "execution_count": 21,
   "metadata": {},
   "outputs": [
    {
     "name": "stdout",
     "output_type": "stream",
     "text": [
      "Accuracy of: 85.66 %\n"
     ]
    }
   ],
   "source": [
    "logits_test = tensor_model(X_test)\n",
    "probs_test = tf.nn.softmax(logits_test)\n",
    "probs_test = tf.make_tensor_proto(probs_test)\n",
    "probs_np_test = tf.make_ndarray(probs_test)\n",
    "y_pred_test = np.argmax(probs_np_test, axis=1)\n",
    "print(\"Accuracy of:\", accuracy_score(y_pred_test, y_test)*100, \"%\")"
   ]
  }
 ],
 "metadata": {
  "kernelspec": {
   "display_name": "Python 3",
   "language": "python",
   "name": "python3"
  },
  "language_info": {
   "codemirror_mode": {
    "name": "ipython",
    "version": 3
   },
   "file_extension": ".py",
   "mimetype": "text/x-python",
   "name": "python",
   "nbconvert_exporter": "python",
   "pygments_lexer": "ipython3",
   "version": "3.9.6"
  }
 },
 "nbformat": 4,
 "nbformat_minor": 2
}
