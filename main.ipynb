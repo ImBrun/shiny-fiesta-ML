{
 "cells": [
  {
   "cell_type": "markdown",
   "metadata": {},
   "source": [
    "## Importing own implementations"
   ]
  },
  {
   "cell_type": "code",
   "execution_count": 1,
   "metadata": {},
   "outputs": [],
   "source": [
    "import Classes.LDA as LDA\n",
    "import Classes.NaiveBayes as NaiveBayes"
   ]
  },
  {
   "cell_type": "markdown",
   "metadata": {},
   "source": [
    "## Other imports"
   ]
  },
  {
   "cell_type": "code",
   "execution_count": 2,
   "metadata": {},
   "outputs": [
    {
     "name": "stderr",
     "output_type": "stream",
     "text": [
      "/Users/andrei/Library/Python/3.9/lib/python/site-packages/urllib3/__init__.py:34: NotOpenSSLWarning: urllib3 v2 only supports OpenSSL 1.1.1+, currently the 'ssl' module is compiled with 'LibreSSL 2.8.3'. See: https://github.com/urllib3/urllib3/issues/3020\n",
      "  warnings.warn(\n"
     ]
    }
   ],
   "source": [
    "import numpy as np\n",
    "import matplotlib.pyplot as plt\n",
    "import scipy.stats as stats\n",
    "import scipy.optimize as optimize\n",
    "from sklearn.preprocessing import StandardScaler\n",
    "from sklearn.neighbors import KNeighborsClassifier\n",
    "from sklearn.naive_bayes import GaussianNB\n",
    "from sklearn.naive_bayes import CategoricalNB\n",
    "import math\n",
    "import tensorflow as tf\n",
    "from tensorflow.keras import Sequential\n",
    "from tensorflow.keras.layers import Dense\n",
    "from tensorflow.keras.losses import SparseCategoricalCrossentropy\n",
    "from tensorflow.keras.layers import Conv2D\n",
    "from tensorflow.keras.layers import MaxPooling2D\n",
    "from tensorflow.keras.layers import Flatten\n",
    "from tensorflow.keras.callbacks import EarlyStopping\n",
    "from sklearn.metrics import accuracy_score\n",
    "from sklearn.model_selection import GridSearchCV\n",
    "from sklearn.pipeline import make_pipeline\n",
    "from sklearn.svm import SVC\n",
    "\n",
    "# Ignore unwanted warnings\n",
    "import warnings\n",
    "warnings.filterwarnings('ignore')\n",
    "# ignore some warnings about some scipy function getting changed in the next update\n",
    "warnings.simplefilter(action='ignore', category=FutureWarning)"
   ]
  },
  {
   "cell_type": "markdown",
   "metadata": {},
   "source": [
    "## Reading the dataset"
   ]
  },
  {
   "cell_type": "code",
   "execution_count": 3,
   "metadata": {},
   "outputs": [],
   "source": [
    "path_train = \"Datasets/fashion_train.npy\"\n",
    "path_test = \"Datasets/fashion_test.npy\"\n",
    "\n",
    "train = np.load(path_train)\n",
    "test = np.load(path_test)\n",
    "\n",
    "train_percentage = int((train.shape[0]) * 0.7)\n",
    "train_percentage\n",
    "\n",
    "#Split the training and test data into features and labels\n",
    "X_train = train[:train_percentage,:784]\n",
    "y_train = train[:train_percentage,784]\n",
    "\n",
    "X_val = train[train_percentage:, :784]\n",
    "y_val = train[train_percentage:, 784]\n",
    "\n",
    "X_test = test[:,:784]\n",
    "y_test = test[:,784]\n",
    "\n",
    "X_train = X_train/255\n",
    "X_val = X_val/255\n",
    "X_test = X_test/255"
   ]
  },
  {
   "cell_type": "markdown",
   "metadata": {},
   "source": [
    "## Declaring our own classes"
   ]
  },
  {
   "cell_type": "code",
   "execution_count": 4,
   "metadata": {},
   "outputs": [],
   "source": [
    "ourLDA = LDA.ourLDA()\n",
    "ourNaiveBayes = NaiveBayes.ourNaiveBayes()"
   ]
  },
  {
   "cell_type": "markdown",
   "metadata": {},
   "source": [
    "## Getting the first two liniar discriminants for both the train and the test sets"
   ]
  },
  {
   "cell_type": "code",
   "execution_count": 5,
   "metadata": {},
   "outputs": [],
   "source": [
    "ourLDA.set_lda_components(X_train, y_train)\n",
    "X_lda = ourLDA.get_two_discriminants(X_train)\n",
    "X_lda = X_lda.real\n",
    "X_lda_test = ourLDA.get_two_discriminants(X_test)\n",
    "X_lda_test = X_lda_test.real"
   ]
  },
  {
   "cell_type": "markdown",
   "metadata": {},
   "source": [
    "### Scale"
   ]
  },
  {
   "cell_type": "code",
   "execution_count": 6,
   "metadata": {},
   "outputs": [],
   "source": [
    "scaler = StandardScaler()\n",
    "X_lda_std = scaler.fit_transform(X_lda)\n",
    "X_lda_test_std = scaler.fit_transform(X_lda_test)"
   ]
  },
  {
   "cell_type": "markdown",
   "metadata": {},
   "source": [
    "## Setting up Naive Bayes"
   ]
  },
  {
   "cell_type": "code",
   "execution_count": 7,
   "metadata": {},
   "outputs": [],
   "source": [
    "ourNaiveBayes.set_priors(X_lda, y_train)\n",
    "ourNaiveBayes.set_bin_number(5)\n",
    "ourNaiveBayes.set_conditionals(X_lda, y_train)"
   ]
  },
  {
   "cell_type": "markdown",
   "metadata": {},
   "source": [
    "### Making predictions with Naive Bayes"
   ]
  },
  {
   "cell_type": "code",
   "execution_count": 8,
   "metadata": {},
   "outputs": [
    {
     "name": "stdout",
     "output_type": "stream",
     "text": [
      "Accuracy of: 67.9 %\n"
     ]
    }
   ],
   "source": [
    "predictions_lda = ourNaiveBayes.predict_class(X_lda_test)\n",
    "print(\"Accuracy of:\", (np.sum(predictions_lda == y_test))/(X_lda_test.shape[0])*100, \"%\")"
   ]
  },
  {
   "cell_type": "markdown",
   "metadata": {},
   "source": [
    "# KNN"
   ]
  },
  {
   "cell_type": "markdown",
   "metadata": {},
   "source": [
    "### KNN 5 neighbors"
   ]
  },
  {
   "cell_type": "code",
   "execution_count": 9,
   "metadata": {},
   "outputs": [
    {
     "name": "stdout",
     "output_type": "stream",
     "text": [
      "Accuracy of: 82.75714285714287 %\n"
     ]
    }
   ],
   "source": [
    "knn = KNeighborsClassifier(n_neighbors=5)\n",
    "knn.fit(X_lda, y_train)\n",
    "pred_knn = knn.predict(X_lda)\n",
    "print(\"Accuracy of:\", accuracy_score(pred_knn, y_train)*100, \"%\")"
   ]
  },
  {
   "cell_type": "markdown",
   "metadata": {},
   "source": [
    "### KNN 3 neighbors"
   ]
  },
  {
   "cell_type": "code",
   "execution_count": 10,
   "metadata": {},
   "outputs": [
    {
     "name": "stdout",
     "output_type": "stream",
     "text": [
      "Accuracy of: 84.92857142857143 %\n"
     ]
    }
   ],
   "source": [
    "knn = KNeighborsClassifier(n_neighbors=3)\n",
    "knn.fit(X_lda, y_train)\n",
    "pred_knn = knn.predict(X_lda)\n",
    "print(\"Accuracy of:\", accuracy_score(pred_knn, y_train)*100, \"%\")"
   ]
  },
  {
   "cell_type": "markdown",
   "metadata": {},
   "source": [
    "## Standardized features"
   ]
  },
  {
   "cell_type": "markdown",
   "metadata": {},
   "source": [
    "### KNN 5 neighbors"
   ]
  },
  {
   "cell_type": "code",
   "execution_count": 11,
   "metadata": {},
   "outputs": [
    {
     "name": "stdout",
     "output_type": "stream",
     "text": [
      "Accuracy of: 82.8 %\n"
     ]
    }
   ],
   "source": [
    "knn = KNeighborsClassifier(n_neighbors=5)\n",
    "knn.fit(X_lda_std, y_train)\n",
    "pred_knn = knn.predict(X_lda_std)\n",
    "print(\"Accuracy of:\", accuracy_score(pred_knn, y_train)*100, \"%\")"
   ]
  },
  {
   "cell_type": "markdown",
   "metadata": {},
   "source": [
    "### KNN 3 neighbors"
   ]
  },
  {
   "cell_type": "code",
   "execution_count": 12,
   "metadata": {},
   "outputs": [
    {
     "name": "stdout",
     "output_type": "stream",
     "text": [
      "Accuracy of: 84.61428571428571 %\n"
     ]
    }
   ],
   "source": [
    "knn = KNeighborsClassifier(n_neighbors=3)\n",
    "knn.fit(X_lda_std, y_train)\n",
    "pred_knn = knn.predict(X_lda_std)\n",
    "print(\"Accuracy of:\", accuracy_score(pred_knn, y_train)*100, \"%\")"
   ]
  },
  {
   "cell_type": "markdown",
   "metadata": {},
   "source": [
    "## Using grid search to find optimal parameters"
   ]
  },
  {
   "cell_type": "code",
   "execution_count": 13,
   "metadata": {},
   "outputs": [
    {
     "name": "stdout",
     "output_type": "stream",
     "text": [
      "Best k value: 17\n",
      "Best accuracy: 79.0 %\n"
     ]
    }
   ],
   "source": [
    "knn = KNeighborsClassifier()\n",
    "\n",
    "param_grid = {'n_neighbors': [1,2,3,4,5,6,7,8,9,10,11,12,13,14,15,16,17]}\n",
    "grid_search = GridSearchCV(knn, param_grid, cv=5, scoring=\"accuracy\")\n",
    "grid_search.fit(X_lda, y_train)\n",
    "\n",
    "print(\"Best k value:\", grid_search.best_params_['n_neighbors'])\n",
    "print(\"Best accuracy:\", grid_search.best_score_*100, \"%\")"
   ]
  },
  {
   "cell_type": "code",
   "execution_count": 14,
   "metadata": {},
   "outputs": [
    {
     "name": "stdout",
     "output_type": "stream",
     "text": [
      "Accuracy of: 80.45714285714286 %\n"
     ]
    }
   ],
   "source": [
    "knn = KNeighborsClassifier(n_neighbors=grid_search.best_params_['n_neighbors'])\n",
    "knn.fit(X_lda, y_train)\n",
    "pred_knn = knn.predict(X_lda)\n",
    "print(\"Accuracy of:\", accuracy_score(pred_knn, y_train)*100, \"%\")"
   ]
  },
  {
   "cell_type": "markdown",
   "metadata": {},
   "source": [
    "## Testing accuracy for chosen model on the test set"
   ]
  },
  {
   "cell_type": "code",
   "execution_count": 15,
   "metadata": {},
   "outputs": [
    {
     "name": "stdout",
     "output_type": "stream",
     "text": [
      "Accuracy of: 70.72 %\n"
     ]
    }
   ],
   "source": [
    "knn = KNeighborsClassifier(n_neighbors=5)\n",
    "knn.fit(X_lda_std, y_train)\n",
    "pred_knn = knn.predict(X_lda_test_std)\n",
    "print(\"Accuracy of:\", accuracy_score(pred_knn, y_test)*100, \"%\")"
   ]
  },
  {
   "cell_type": "markdown",
   "metadata": {},
   "source": [
    "## Setting up SVM"
   ]
  },
  {
   "cell_type": "markdown",
   "metadata": {},
   "source": [
    "### RBF kernel"
   ]
  },
  {
   "cell_type": "code",
   "execution_count": 16,
   "metadata": {},
   "outputs": [
    {
     "name": "stdout",
     "output_type": "stream",
     "text": [
      "Accuracy of: 79.81428571428572 %\n"
     ]
    }
   ],
   "source": [
    "svm = make_pipeline(StandardScaler(), SVC(gamma='auto'))\n",
    "svm.fit(X_lda, y_train)\n",
    "pred_svm = svm.predict(X_lda)\n",
    "print(\"Accuracy of:\", accuracy_score(pred_svm, y_train)*100, \"%\")"
   ]
  },
  {
   "cell_type": "markdown",
   "metadata": {},
   "source": [
    "### Polynomial kernel"
   ]
  },
  {
   "cell_type": "code",
   "execution_count": 17,
   "metadata": {},
   "outputs": [
    {
     "name": "stdout",
     "output_type": "stream",
     "text": [
      "Accuracy of: 76.45714285714286 %\n"
     ]
    }
   ],
   "source": [
    "svm = make_pipeline(StandardScaler(), SVC(gamma='auto', kernel='poly', degree=3))\n",
    "svm.fit(X_lda, y_train)\n",
    "pred_svm = svm.predict(X_lda)\n",
    "print(\"Accuracy of:\", accuracy_score(pred_svm, y_train)*100, \"%\")"
   ]
  },
  {
   "cell_type": "markdown",
   "metadata": {},
   "source": [
    "### Finiding optimal parameters with grid search"
   ]
  },
  {
   "cell_type": "code",
   "execution_count": 18,
   "metadata": {},
   "outputs": [
    {
     "name": "stdout",
     "output_type": "stream",
     "text": [
      "Best gamma value: auto\n",
      "Best kernel value: linear\n",
      "Best accuracy: 79.72857142857143 %\n",
      "Accuracy of: 79.85714285714286 %\n"
     ]
    }
   ],
   "source": [
    "svm = SVC(gamma='auto')\n",
    "\n",
    "param_grid_svm = {'gamma': ['auto', 'scale'], 'kernel': ['linear', 'poly', 'rbf', 'sigmoid']}\n",
    "grid_search_svm = GridSearchCV(svm, param_grid_svm, cv=5, scoring=\"accuracy\")\n",
    "grid_search_svm.fit(X_lda_std, y_train)\n",
    "\n",
    "print(\"Best gamma value:\", grid_search_svm.best_params_['gamma'])\n",
    "print(\"Best kernel value:\", grid_search_svm.best_params_['kernel'])\n",
    "print(\"Best accuracy:\", grid_search_svm.best_score_*100, \"%\")\n",
    "\n",
    "svm = make_pipeline(StandardScaler(), SVC(gamma=grid_search_svm.best_params_['gamma'], kernel=grid_search_svm.best_params_['kernel']))\n",
    "svm.fit(X_lda, y_train)\n",
    "pred_svm = svm.predict(X_lda)\n",
    "print(\"Accuracy of:\", accuracy_score(pred_svm, y_train)*100, \"%\")"
   ]
  },
  {
   "cell_type": "markdown",
   "metadata": {},
   "source": [
    "## Testing accuracy for chosen model on the test set"
   ]
  },
  {
   "cell_type": "code",
   "execution_count": 19,
   "metadata": {},
   "outputs": [
    {
     "name": "stdout",
     "output_type": "stream",
     "text": [
      "Accuracy of: 42.32 %\n"
     ]
    }
   ],
   "source": [
    "svm = SVC(gamma='auto')\n",
    "svm.fit(X_lda, y_train)\n",
    "pred_svm = svm.predict(X_lda_test)\n",
    "print(\"Accuracy of:\", accuracy_score(pred_svm, y_test)*100, \"%\")"
   ]
  },
  {
   "cell_type": "markdown",
   "metadata": {},
   "source": [
    "## Setting up Tensorflow"
   ]
  },
  {
   "cell_type": "code",
   "execution_count": 21,
   "metadata": {},
   "outputs": [
    {
     "name": "stderr",
     "output_type": "stream",
     "text": [
      "WARNING:absl:At this time, the v2.11+ optimizer `tf.keras.optimizers.Adam` runs slowly on M1/M2 Macs, please use the legacy Keras optimizer instead, located at `tf.keras.optimizers.legacy.Adam`.\n"
     ]
    },
    {
     "name": "stdout",
     "output_type": "stream",
     "text": [
      "Epoch 1/60\n",
      "219/219 [==============================] - 2s 9ms/step - loss: 1.3846 - accuracy: 0.3960 - val_loss: 1.0620 - val_accuracy: 0.6167\n",
      "Epoch 2/60\n",
      "219/219 [==============================] - 2s 10ms/step - loss: 1.0121 - accuracy: 0.5583 - val_loss: 0.8831 - val_accuracy: 0.6470\n",
      "Epoch 3/60\n",
      "219/219 [==============================] - 2s 11ms/step - loss: 0.8990 - accuracy: 0.6261 - val_loss: 0.8162 - val_accuracy: 0.6847\n",
      "Epoch 4/60\n",
      "219/219 [==============================] - 2s 10ms/step - loss: 0.8123 - accuracy: 0.6694 - val_loss: 0.7210 - val_accuracy: 0.7167\n",
      "Epoch 5/60\n",
      "219/219 [==============================] - 2s 11ms/step - loss: 0.7430 - accuracy: 0.6943 - val_loss: 0.6641 - val_accuracy: 0.7283\n",
      "Epoch 6/60\n",
      "219/219 [==============================] - 2s 10ms/step - loss: 0.6909 - accuracy: 0.7159 - val_loss: 0.6313 - val_accuracy: 0.7390\n",
      "Epoch 7/60\n",
      "219/219 [==============================] - 2s 10ms/step - loss: 0.6535 - accuracy: 0.7319 - val_loss: 0.5952 - val_accuracy: 0.7500\n",
      "Epoch 8/60\n",
      "219/219 [==============================] - 2s 9ms/step - loss: 0.6296 - accuracy: 0.7466 - val_loss: 0.5725 - val_accuracy: 0.7663\n",
      "Epoch 9/60\n",
      "219/219 [==============================] - 2s 10ms/step - loss: 0.6057 - accuracy: 0.7540 - val_loss: 0.5531 - val_accuracy: 0.7773\n",
      "Epoch 10/60\n",
      "219/219 [==============================] - 2s 10ms/step - loss: 0.5893 - accuracy: 0.7649 - val_loss: 0.5393 - val_accuracy: 0.7830\n",
      "Epoch 11/60\n",
      "219/219 [==============================] - 2s 10ms/step - loss: 0.5697 - accuracy: 0.7686 - val_loss: 0.5170 - val_accuracy: 0.7950\n",
      "Epoch 12/60\n",
      "219/219 [==============================] - 2s 10ms/step - loss: 0.5463 - accuracy: 0.7817 - val_loss: 0.5024 - val_accuracy: 0.8043\n",
      "Epoch 13/60\n",
      "219/219 [==============================] - 2s 11ms/step - loss: 0.5312 - accuracy: 0.7891 - val_loss: 0.4946 - val_accuracy: 0.8007\n",
      "Epoch 14/60\n",
      "219/219 [==============================] - 2s 11ms/step - loss: 0.5323 - accuracy: 0.7900 - val_loss: 0.4821 - val_accuracy: 0.8083\n",
      "Epoch 15/60\n",
      "219/219 [==============================] - 2s 10ms/step - loss: 0.5088 - accuracy: 0.8054 - val_loss: 0.4696 - val_accuracy: 0.8137\n",
      "Epoch 16/60\n",
      "219/219 [==============================] - 2s 10ms/step - loss: 0.4998 - accuracy: 0.8090 - val_loss: 0.4611 - val_accuracy: 0.8210\n",
      "Epoch 17/60\n",
      "219/219 [==============================] - 2s 10ms/step - loss: 0.4849 - accuracy: 0.8099 - val_loss: 0.4515 - val_accuracy: 0.8257\n",
      "Epoch 18/60\n",
      "219/219 [==============================] - 2s 10ms/step - loss: 0.4741 - accuracy: 0.8169 - val_loss: 0.4384 - val_accuracy: 0.8307\n",
      "Epoch 19/60\n",
      "219/219 [==============================] - 2s 10ms/step - loss: 0.4690 - accuracy: 0.8164 - val_loss: 0.4401 - val_accuracy: 0.8263\n",
      "Epoch 20/60\n",
      "219/219 [==============================] - 2s 10ms/step - loss: 0.4609 - accuracy: 0.8164 - val_loss: 0.4249 - val_accuracy: 0.8363\n",
      "Epoch 21/60\n",
      "219/219 [==============================] - 2s 10ms/step - loss: 0.4506 - accuracy: 0.8271 - val_loss: 0.4217 - val_accuracy: 0.8377\n",
      "Epoch 22/60\n",
      "219/219 [==============================] - 2s 10ms/step - loss: 0.4445 - accuracy: 0.8279 - val_loss: 0.4138 - val_accuracy: 0.8410\n",
      "Epoch 23/60\n",
      "219/219 [==============================] - 2s 10ms/step - loss: 0.4352 - accuracy: 0.8339 - val_loss: 0.4080 - val_accuracy: 0.8397\n",
      "Epoch 24/60\n",
      "219/219 [==============================] - 2s 10ms/step - loss: 0.4285 - accuracy: 0.8394 - val_loss: 0.4002 - val_accuracy: 0.8423\n",
      "Epoch 25/60\n",
      "219/219 [==============================] - 2s 10ms/step - loss: 0.4255 - accuracy: 0.8397 - val_loss: 0.4011 - val_accuracy: 0.8410\n",
      "Epoch 26/60\n",
      "219/219 [==============================] - 2s 10ms/step - loss: 0.4213 - accuracy: 0.8374 - val_loss: 0.3904 - val_accuracy: 0.8400\n",
      "Epoch 27/60\n",
      "219/219 [==============================] - 2s 10ms/step - loss: 0.4085 - accuracy: 0.8477 - val_loss: 0.3861 - val_accuracy: 0.8467\n",
      "Epoch 28/60\n",
      "219/219 [==============================] - 2s 10ms/step - loss: 0.4052 - accuracy: 0.8400 - val_loss: 0.3827 - val_accuracy: 0.8433\n",
      "Epoch 29/60\n",
      "219/219 [==============================] - 2s 10ms/step - loss: 0.3989 - accuracy: 0.8469 - val_loss: 0.3845 - val_accuracy: 0.8490\n",
      "Epoch 30/60\n",
      "219/219 [==============================] - 2s 10ms/step - loss: 0.3921 - accuracy: 0.8504 - val_loss: 0.3737 - val_accuracy: 0.8483\n",
      "Epoch 31/60\n",
      "219/219 [==============================] - 2s 10ms/step - loss: 0.3824 - accuracy: 0.8516 - val_loss: 0.3757 - val_accuracy: 0.8467\n",
      "Epoch 32/60\n",
      "219/219 [==============================] - 2s 11ms/step - loss: 0.3793 - accuracy: 0.8536 - val_loss: 0.3672 - val_accuracy: 0.8530\n",
      "Epoch 33/60\n",
      "219/219 [==============================] - 2s 10ms/step - loss: 0.3820 - accuracy: 0.8533 - val_loss: 0.3639 - val_accuracy: 0.8560\n",
      "Epoch 34/60\n",
      "219/219 [==============================] - 2s 10ms/step - loss: 0.3746 - accuracy: 0.8566 - val_loss: 0.3621 - val_accuracy: 0.8547\n",
      "Epoch 35/60\n",
      "219/219 [==============================] - 2s 10ms/step - loss: 0.3715 - accuracy: 0.8583 - val_loss: 0.3591 - val_accuracy: 0.8563\n",
      "Epoch 36/60\n",
      "219/219 [==============================] - 2s 10ms/step - loss: 0.3690 - accuracy: 0.8593 - val_loss: 0.3603 - val_accuracy: 0.8577\n",
      "Epoch 37/60\n",
      "219/219 [==============================] - 2s 10ms/step - loss: 0.3656 - accuracy: 0.8616 - val_loss: 0.3574 - val_accuracy: 0.8597\n",
      "Epoch 38/60\n",
      "219/219 [==============================] - 2s 10ms/step - loss: 0.3548 - accuracy: 0.8633 - val_loss: 0.3544 - val_accuracy: 0.8580\n",
      "Epoch 39/60\n",
      "219/219 [==============================] - 2s 10ms/step - loss: 0.3660 - accuracy: 0.8564 - val_loss: 0.3535 - val_accuracy: 0.8623\n",
      "Epoch 40/60\n",
      "219/219 [==============================] - 2s 10ms/step - loss: 0.3503 - accuracy: 0.8631 - val_loss: 0.3494 - val_accuracy: 0.8637\n",
      "Epoch 41/60\n",
      "219/219 [==============================] - 2s 10ms/step - loss: 0.3584 - accuracy: 0.8627 - val_loss: 0.3487 - val_accuracy: 0.8650\n",
      "Epoch 42/60\n",
      "219/219 [==============================] - 3s 14ms/step - loss: 0.3556 - accuracy: 0.8626 - val_loss: 0.3506 - val_accuracy: 0.8637\n",
      "Epoch 43/60\n",
      "219/219 [==============================] - 2s 11ms/step - loss: 0.3489 - accuracy: 0.8646 - val_loss: 0.3474 - val_accuracy: 0.8667\n",
      "Epoch 44/60\n",
      "219/219 [==============================] - 3s 13ms/step - loss: 0.3457 - accuracy: 0.8660 - val_loss: 0.3465 - val_accuracy: 0.8643\n",
      "Epoch 45/60\n",
      "219/219 [==============================] - 2s 11ms/step - loss: 0.3396 - accuracy: 0.8707 - val_loss: 0.3452 - val_accuracy: 0.8603\n",
      "Epoch 46/60\n",
      "219/219 [==============================] - 2s 11ms/step - loss: 0.3374 - accuracy: 0.8709 - val_loss: 0.3427 - val_accuracy: 0.8673\n",
      "Epoch 47/60\n",
      "219/219 [==============================] - 3s 12ms/step - loss: 0.3375 - accuracy: 0.8710 - val_loss: 0.3377 - val_accuracy: 0.8693\n",
      "Epoch 48/60\n",
      "219/219 [==============================] - 4s 17ms/step - loss: 0.3318 - accuracy: 0.8704 - val_loss: 0.3403 - val_accuracy: 0.8657\n",
      "Epoch 49/60\n",
      "219/219 [==============================] - 2s 11ms/step - loss: 0.3311 - accuracy: 0.8763 - val_loss: 0.3347 - val_accuracy: 0.8727\n",
      "Epoch 50/60\n",
      "219/219 [==============================] - 3s 12ms/step - loss: 0.3271 - accuracy: 0.8747 - val_loss: 0.3361 - val_accuracy: 0.8703\n",
      "Epoch 51/60\n",
      "219/219 [==============================] - 3s 12ms/step - loss: 0.3212 - accuracy: 0.8787 - val_loss: 0.3376 - val_accuracy: 0.8697\n",
      "Epoch 52/60\n",
      "219/219 [==============================] - 2s 11ms/step - loss: 0.3161 - accuracy: 0.8803 - val_loss: 0.3335 - val_accuracy: 0.8753\n",
      "Epoch 53/60\n",
      "219/219 [==============================] - 3s 12ms/step - loss: 0.3182 - accuracy: 0.8753 - val_loss: 0.3343 - val_accuracy: 0.8740\n",
      "Epoch 54/60\n",
      "219/219 [==============================] - 2s 11ms/step - loss: 0.3214 - accuracy: 0.8799 - val_loss: 0.3335 - val_accuracy: 0.8683\n",
      "Epoch 55/60\n",
      "219/219 [==============================] - 2s 11ms/step - loss: 0.3171 - accuracy: 0.8816 - val_loss: 0.3276 - val_accuracy: 0.8757\n",
      "Epoch 56/60\n",
      "219/219 [==============================] - 2s 10ms/step - loss: 0.3145 - accuracy: 0.8769 - val_loss: 0.3287 - val_accuracy: 0.8727\n",
      "Epoch 57/60\n",
      "219/219 [==============================] - 2s 11ms/step - loss: 0.3065 - accuracy: 0.8833 - val_loss: 0.3269 - val_accuracy: 0.8747\n",
      "Epoch 58/60\n",
      "219/219 [==============================] - 2s 11ms/step - loss: 0.3064 - accuracy: 0.8837 - val_loss: 0.3260 - val_accuracy: 0.8767\n",
      "Epoch 59/60\n",
      "219/219 [==============================] - 2s 11ms/step - loss: 0.3083 - accuracy: 0.8814 - val_loss: 0.3291 - val_accuracy: 0.8757\n",
      "Epoch 60/60\n",
      "219/219 [==============================] - 2s 11ms/step - loss: 0.3085 - accuracy: 0.8804 - val_loss: 0.3260 - val_accuracy: 0.8757\n"
     ]
    },
    {
     "data": {
      "text/plain": [
       "<keras.src.callbacks.History at 0x2a2fb4e50>"
      ]
     },
     "execution_count": 21,
     "metadata": {},
     "output_type": "execute_result"
    }
   ],
   "source": [
    "X_test = X_test.reshape((5000, 28, 28, 1))\n",
    "X_val = X_val.reshape((3000, 28, 28, 1))\n",
    "X_train = X_train.reshape((7000, 28, 28, 1))\n",
    "\n",
    "CNN = tf.keras.Sequential(\n",
    "    [\n",
    "    tf.keras.layers.Conv2D(32, (3,3), padding='same', activation=\"relu\",input_shape=(28, 28, 1)),\n",
    "    tf.keras.layers.MaxPooling2D((2, 2), strides=2),\n",
    "    tf.keras.layers.Dropout(0.3),\n",
    "\n",
    "    tf.keras.layers.Conv2D(48, (3,3), padding='same', activation=\"relu\"),\n",
    "    tf.keras.layers.MaxPooling2D((2, 2), strides=2),\n",
    "    tf.keras.layers.Dropout(0.2),\n",
    "    \n",
    "    tf.keras.layers.Conv2D(64, (3,3), padding='same', activation=\"relu\"),\n",
    "    tf.keras.layers.MaxPooling2D((2, 2), strides=2),\n",
    "    tf.keras.layers.Dropout(0.2),\n",
    "\n",
    "    tf.keras.layers.Flatten(),\n",
    "    tf.keras.layers.Dense(100, activation=\"relu\"),\n",
    "    tf.keras.layers.Dropout(0.3),\n",
    "    tf.keras.layers.Dense(5, activation=\"linear\")\n",
    "]\n",
    ")\n",
    "\n",
    "CNN.compile(optimizer=tf.keras.optimizers.Adam(learning_rate=1e-4),\n",
    "              loss=tf.keras.losses.SparseCategoricalCrossentropy(from_logits=True),\n",
    "              metrics=['accuracy'])\n",
    "\n",
    "callbacks = [EarlyStopping(patience=3, monitor=\"val_loss\")]\n",
    "CNN.fit(X_train,y_train, epochs=60, validation_data=(X_val, y_val), callbacks=callbacks)"
   ]
  },
  {
   "cell_type": "markdown",
   "metadata": {},
   "source": [
    "### Making predictions with Tesorflow"
   ]
  },
  {
   "cell_type": "code",
   "execution_count": 25,
   "metadata": {},
   "outputs": [
    {
     "name": "stdout",
     "output_type": "stream",
     "text": [
      "Accuracy of: 87.2 %\n"
     ]
    }
   ],
   "source": [
    "logits_test = CNN(X_test)\n",
    "probs_test = tf.nn.softmax(logits_test)\n",
    "probs_test = tf.make_tensor_proto(probs_test)\n",
    "probs_np_test = tf.make_ndarray(probs_test)\n",
    "y_pred = np.argmax(probs_np_test, axis=1)\n",
    "print(\"Accuracy of:\", accuracy_score(y_pred, y_test)*100, \"%\")"
   ]
  }
 ],
 "metadata": {
  "kernelspec": {
   "display_name": "Python 3",
   "language": "python",
   "name": "python3"
  },
  "language_info": {
   "codemirror_mode": {
    "name": "ipython",
    "version": 3
   },
   "file_extension": ".py",
   "mimetype": "text/x-python",
   "name": "python",
   "nbconvert_exporter": "python",
   "pygments_lexer": "ipython3",
   "version": "3.9.6"
  }
 },
 "nbformat": 4,
 "nbformat_minor": 2
}
