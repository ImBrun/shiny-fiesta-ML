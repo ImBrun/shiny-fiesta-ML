{
 "cells": [
  {
   "cell_type": "markdown",
   "metadata": {},
   "source": [
    "## Importing own implementations"
   ]
  },
  {
   "cell_type": "code",
   "execution_count": 1,
   "metadata": {},
   "outputs": [],
   "source": [
    "import Classes.LDA as LDA\n",
    "import Classes.NaiveBayes as NaiveBayes"
   ]
  },
  {
   "cell_type": "markdown",
   "metadata": {},
   "source": [
    "## Other imports"
   ]
  },
  {
   "cell_type": "code",
   "execution_count": 2,
   "metadata": {},
   "outputs": [
    {
     "name": "stderr",
     "output_type": "stream",
     "text": [
      "/Users/andrei/Library/Python/3.9/lib/python/site-packages/urllib3/__init__.py:34: NotOpenSSLWarning: urllib3 v2 only supports OpenSSL 1.1.1+, currently the 'ssl' module is compiled with 'LibreSSL 2.8.3'. See: https://github.com/urllib3/urllib3/issues/3020\n",
      "  warnings.warn(\n"
     ]
    }
   ],
   "source": [
    "import numpy as np\n",
    "import matplotlib.pyplot as plt\n",
    "import scipy.stats as stats\n",
    "import scipy.optimize as optimize\n",
    "from sklearn.preprocessing import StandardScaler\n",
    "from sklearn.neighbors import KNeighborsClassifier\n",
    "from sklearn.naive_bayes import GaussianNB\n",
    "from sklearn.naive_bayes import CategoricalNB\n",
    "import math\n",
    "import tensorflow as tf\n",
    "from tensorflow.keras import Sequential\n",
    "from tensorflow.keras.layers import Dense\n",
    "from tensorflow.keras.losses import SparseCategoricalCrossentropy\n",
    "from tensorflow.keras.layers import Conv2D\n",
    "from tensorflow.keras.layers import MaxPooling2D\n",
    "from tensorflow.keras.layers import Flatten\n",
    "from tensorflow.keras.callbacks import EarlyStopping\n",
    "from tensorflow.keras.layers import Dropout\n",
    "from tensorflow.keras.optimizers import Adam\n",
    "from sklearn.metrics import accuracy_score\n",
    "from sklearn.model_selection import GridSearchCV\n",
    "from sklearn.pipeline import make_pipeline\n",
    "from sklearn.svm import SVC\n",
    "\n",
    "# Ignore unwanted warnings\n",
    "import warnings\n",
    "warnings.filterwarnings('ignore')\n",
    "# ignore some warnings about some scipy function getting changed in the next update\n",
    "warnings.simplefilter(action='ignore', category=FutureWarning)"
   ]
  },
  {
   "cell_type": "markdown",
   "metadata": {},
   "source": [
    "## Reading the dataset"
   ]
  },
  {
   "cell_type": "code",
   "execution_count": 3,
   "metadata": {},
   "outputs": [],
   "source": [
    "path_train = \"Datasets/fashion_train.npy\"\n",
    "path_test = \"Datasets/fashion_test.npy\"\n",
    "\n",
    "train = np.load(path_train)\n",
    "test = np.load(path_test)\n",
    "\n",
    "train_percentage = int((train.shape[0]) * 0.7)\n",
    "train_percentage\n",
    "\n",
    "#Split the training and test data into features and labels\n",
    "X_train = train[:train_percentage,:784]\n",
    "y_train = train[:train_percentage,784]\n",
    "\n",
    "X_val = train[train_percentage:, :784]\n",
    "y_val = train[train_percentage:, 784]\n",
    "\n",
    "X_test = test[:,:784]\n",
    "y_test = test[:,784]\n",
    "\n",
    "X_train = X_train/255\n",
    "X_val = X_val/255\n",
    "X_test = X_test/255"
   ]
  },
  {
   "cell_type": "markdown",
   "metadata": {},
   "source": [
    "## Declaring our own classes"
   ]
  },
  {
   "cell_type": "code",
   "execution_count": 4,
   "metadata": {},
   "outputs": [],
   "source": [
    "ourLDA = LDA.ourLDA()\n",
    "ourNaiveBayes = NaiveBayes.ourNaiveBayes()"
   ]
  },
  {
   "cell_type": "markdown",
   "metadata": {},
   "source": [
    "## Getting the first two liniar discriminants for both the train and the test sets"
   ]
  },
  {
   "cell_type": "code",
   "execution_count": 5,
   "metadata": {},
   "outputs": [],
   "source": [
    "ourLDA.set_lda_components(X_train, y_train)\n",
    "X_lda = ourLDA.get_two_discriminants(X_train)\n",
    "X_lda = X_lda.real\n",
    "X_lda_test = ourLDA.get_two_discriminants(X_test)\n",
    "X_lda_test = X_lda_test.real"
   ]
  },
  {
   "cell_type": "markdown",
   "metadata": {},
   "source": [
    "### Scale"
   ]
  },
  {
   "cell_type": "code",
   "execution_count": 6,
   "metadata": {},
   "outputs": [],
   "source": [
    "scaler = StandardScaler()\n",
    "X_lda_std = scaler.fit_transform(X_lda)\n",
    "X_lda_test_std = scaler.fit_transform(X_lda_test)"
   ]
  },
  {
   "cell_type": "markdown",
   "metadata": {},
   "source": [
    "## Setting up Naive Bayes"
   ]
  },
  {
   "cell_type": "code",
   "execution_count": 7,
   "metadata": {},
   "outputs": [],
   "source": [
    "ourNaiveBayes.set_priors(X_lda, y_train)\n",
    "ourNaiveBayes.set_bin_number(5)\n",
    "ourNaiveBayes.set_conditionals(X_lda, y_train)"
   ]
  },
  {
   "cell_type": "markdown",
   "metadata": {},
   "source": [
    "### Making predictions with Naive Bayes"
   ]
  },
  {
   "cell_type": "code",
   "execution_count": 8,
   "metadata": {},
   "outputs": [
    {
     "name": "stdout",
     "output_type": "stream",
     "text": [
      "Accuracy of: 67.9 %\n"
     ]
    }
   ],
   "source": [
    "predictions_lda = ourNaiveBayes.predict_class(X_lda_test)\n",
    "print(\"Accuracy of:\", (np.sum(predictions_lda == y_test))/(X_lda_test.shape[0])*100, \"%\")"
   ]
  },
  {
   "cell_type": "markdown",
   "metadata": {},
   "source": [
    "# KNN"
   ]
  },
  {
   "cell_type": "markdown",
   "metadata": {},
   "source": [
    "### KNN 5 neighbors"
   ]
  },
  {
   "cell_type": "code",
   "execution_count": 9,
   "metadata": {},
   "outputs": [
    {
     "name": "stdout",
     "output_type": "stream",
     "text": [
      "Accuracy of: 82.75714285714287 %\n"
     ]
    }
   ],
   "source": [
    "knn = KNeighborsClassifier(n_neighbors=5)\n",
    "knn.fit(X_lda, y_train)\n",
    "pred_knn = knn.predict(X_lda)\n",
    "print(\"Accuracy of:\", accuracy_score(pred_knn, y_train)*100, \"%\")"
   ]
  },
  {
   "cell_type": "markdown",
   "metadata": {},
   "source": [
    "### KNN 3 neighbors"
   ]
  },
  {
   "cell_type": "code",
   "execution_count": 10,
   "metadata": {},
   "outputs": [
    {
     "name": "stdout",
     "output_type": "stream",
     "text": [
      "Accuracy of: 84.92857142857143 %\n"
     ]
    }
   ],
   "source": [
    "knn = KNeighborsClassifier(n_neighbors=3)\n",
    "knn.fit(X_lda, y_train)\n",
    "pred_knn = knn.predict(X_lda)\n",
    "print(\"Accuracy of:\", accuracy_score(pred_knn, y_train)*100, \"%\")"
   ]
  },
  {
   "cell_type": "markdown",
   "metadata": {},
   "source": [
    "## Standardized features"
   ]
  },
  {
   "cell_type": "markdown",
   "metadata": {},
   "source": [
    "### KNN 5 neighbors"
   ]
  },
  {
   "cell_type": "code",
   "execution_count": 11,
   "metadata": {},
   "outputs": [
    {
     "name": "stdout",
     "output_type": "stream",
     "text": [
      "Accuracy of: 82.8 %\n"
     ]
    }
   ],
   "source": [
    "knn = KNeighborsClassifier(n_neighbors=5)\n",
    "knn.fit(X_lda_std, y_train)\n",
    "pred_knn = knn.predict(X_lda_std)\n",
    "print(\"Accuracy of:\", accuracy_score(pred_knn, y_train)*100, \"%\")"
   ]
  },
  {
   "cell_type": "markdown",
   "metadata": {},
   "source": [
    "### KNN 3 neighbors"
   ]
  },
  {
   "cell_type": "code",
   "execution_count": 12,
   "metadata": {},
   "outputs": [
    {
     "name": "stdout",
     "output_type": "stream",
     "text": [
      "Accuracy of: 84.61428571428571 %\n"
     ]
    }
   ],
   "source": [
    "knn = KNeighborsClassifier(n_neighbors=3)\n",
    "knn.fit(X_lda_std, y_train)\n",
    "pred_knn = knn.predict(X_lda_std)\n",
    "print(\"Accuracy of:\", accuracy_score(pred_knn, y_train)*100, \"%\")"
   ]
  },
  {
   "cell_type": "markdown",
   "metadata": {},
   "source": [
    "## Using grid search to find optimal parameters"
   ]
  },
  {
   "cell_type": "code",
   "execution_count": 13,
   "metadata": {},
   "outputs": [
    {
     "name": "stdout",
     "output_type": "stream",
     "text": [
      "Best k value: 17\n",
      "Best accuracy: 79.0 %\n"
     ]
    }
   ],
   "source": [
    "knn = KNeighborsClassifier()\n",
    "\n",
    "param_grid = {'n_neighbors': [1,2,3,4,5,6,7,8,9,10,11,12,13,14,15,16,17]}\n",
    "grid_search = GridSearchCV(knn, param_grid, cv=5, scoring=\"accuracy\")\n",
    "grid_search.fit(X_lda, y_train)\n",
    "\n",
    "print(\"Best k value:\", grid_search.best_params_['n_neighbors'])\n",
    "print(\"Best accuracy:\", grid_search.best_score_*100, \"%\")"
   ]
  },
  {
   "cell_type": "code",
   "execution_count": 14,
   "metadata": {},
   "outputs": [
    {
     "name": "stdout",
     "output_type": "stream",
     "text": [
      "Accuracy of: 80.45714285714286 %\n"
     ]
    }
   ],
   "source": [
    "knn = KNeighborsClassifier(n_neighbors=grid_search.best_params_['n_neighbors'])\n",
    "knn.fit(X_lda, y_train)\n",
    "pred_knn = knn.predict(X_lda)\n",
    "print(\"Accuracy of:\", accuracy_score(pred_knn, y_train)*100, \"%\")"
   ]
  },
  {
   "cell_type": "markdown",
   "metadata": {},
   "source": [
    "## Testing accuracy for chosen model on the test set"
   ]
  },
  {
   "cell_type": "code",
   "execution_count": 15,
   "metadata": {},
   "outputs": [
    {
     "name": "stdout",
     "output_type": "stream",
     "text": [
      "Accuracy of: 70.72 %\n"
     ]
    }
   ],
   "source": [
    "knn = KNeighborsClassifier(n_neighbors=5)\n",
    "knn.fit(X_lda_std, y_train)\n",
    "pred_knn = knn.predict(X_lda_test_std)\n",
    "print(\"Accuracy of:\", accuracy_score(pred_knn, y_test)*100, \"%\")"
   ]
  },
  {
   "cell_type": "markdown",
   "metadata": {},
   "source": [
    "## Setting up SVM"
   ]
  },
  {
   "cell_type": "markdown",
   "metadata": {},
   "source": [
    "### RBF kernel"
   ]
  },
  {
   "cell_type": "code",
   "execution_count": 16,
   "metadata": {},
   "outputs": [
    {
     "name": "stdout",
     "output_type": "stream",
     "text": [
      "Accuracy of: 79.81428571428572 %\n"
     ]
    }
   ],
   "source": [
    "svm = make_pipeline(StandardScaler(), SVC(gamma='auto'))\n",
    "svm.fit(X_lda, y_train)\n",
    "pred_svm = svm.predict(X_lda)\n",
    "print(\"Accuracy of:\", accuracy_score(pred_svm, y_train)*100, \"%\")"
   ]
  },
  {
   "cell_type": "markdown",
   "metadata": {},
   "source": [
    "### Polynomial kernel"
   ]
  },
  {
   "cell_type": "code",
   "execution_count": 17,
   "metadata": {},
   "outputs": [
    {
     "name": "stdout",
     "output_type": "stream",
     "text": [
      "Accuracy of: 76.45714285714286 %\n"
     ]
    }
   ],
   "source": [
    "svm = make_pipeline(StandardScaler(), SVC(gamma='auto', kernel='poly', degree=3))\n",
    "svm.fit(X_lda, y_train)\n",
    "pred_svm = svm.predict(X_lda)\n",
    "print(\"Accuracy of:\", accuracy_score(pred_svm, y_train)*100, \"%\")"
   ]
  },
  {
   "cell_type": "markdown",
   "metadata": {},
   "source": [
    "### Finiding optimal parameters with grid search"
   ]
  },
  {
   "cell_type": "code",
   "execution_count": 18,
   "metadata": {},
   "outputs": [
    {
     "name": "stdout",
     "output_type": "stream",
     "text": [
      "Best gamma value: auto\n",
      "Best kernel value: linear\n",
      "Best accuracy: 79.72857142857143 %\n",
      "Accuracy of: 79.85714285714286 %\n"
     ]
    }
   ],
   "source": [
    "svm = SVC(gamma='auto')\n",
    "\n",
    "param_grid_svm = {'gamma': ['auto', 'scale'], 'kernel': ['linear', 'poly', 'rbf', 'sigmoid']}\n",
    "grid_search_svm = GridSearchCV(svm, param_grid_svm, cv=5, scoring=\"accuracy\")\n",
    "grid_search_svm.fit(X_lda_std, y_train)\n",
    "\n",
    "print(\"Best gamma value:\", grid_search_svm.best_params_['gamma'])\n",
    "print(\"Best kernel value:\", grid_search_svm.best_params_['kernel'])\n",
    "print(\"Best accuracy:\", grid_search_svm.best_score_*100, \"%\")\n",
    "\n",
    "svm = make_pipeline(StandardScaler(), SVC(gamma=grid_search_svm.best_params_['gamma'], kernel=grid_search_svm.best_params_['kernel']))\n",
    "svm.fit(X_lda, y_train)\n",
    "pred_svm = svm.predict(X_lda)\n",
    "print(\"Accuracy of:\", accuracy_score(pred_svm, y_train)*100, \"%\")"
   ]
  },
  {
   "cell_type": "markdown",
   "metadata": {},
   "source": [
    "## Testing accuracy for chosen model on the test set"
   ]
  },
  {
   "cell_type": "code",
   "execution_count": 19,
   "metadata": {},
   "outputs": [
    {
     "name": "stdout",
     "output_type": "stream",
     "text": [
      "Accuracy of: 42.32 %\n"
     ]
    }
   ],
   "source": [
    "svm = SVC(gamma='auto')\n",
    "svm.fit(X_lda, y_train)\n",
    "pred_svm = svm.predict(X_lda_test)\n",
    "print(\"Accuracy of:\", accuracy_score(pred_svm, y_test)*100, \"%\")"
   ]
  },
  {
   "cell_type": "markdown",
   "metadata": {},
   "source": [
    "## Setting up the Fully Connected Neural Network"
   ]
  },
  {
   "cell_type": "code",
   "execution_count": 20,
   "metadata": {},
   "outputs": [
    {
     "name": "stderr",
     "output_type": "stream",
     "text": [
      "WARNING:absl:At this time, the v2.11+ optimizer `tf.keras.optimizers.Adam` runs slowly on M1/M2 Macs, please use the legacy Keras optimizer instead, located at `tf.keras.optimizers.legacy.Adam`.\n"
     ]
    },
    {
     "name": "stdout",
     "output_type": "stream",
     "text": [
      "Epoch 1/100\n",
      "219/219 [==============================] - 1s 1ms/step - loss: 1.5040 - accuracy: 0.3201 - val_loss: 1.2980 - val_accuracy: 0.6027\n",
      "Epoch 2/100\n",
      "219/219 [==============================] - 0s 881us/step - loss: 1.2775 - accuracy: 0.4766 - val_loss: 1.0872 - val_accuracy: 0.6973\n",
      "Epoch 3/100\n",
      "219/219 [==============================] - 0s 882us/step - loss: 1.1269 - accuracy: 0.5680 - val_loss: 0.9507 - val_accuracy: 0.7133\n",
      "Epoch 4/100\n",
      "219/219 [==============================] - 0s 1ms/step - loss: 1.0298 - accuracy: 0.6256 - val_loss: 0.8589 - val_accuracy: 0.7223\n",
      "Epoch 5/100\n",
      "219/219 [==============================] - 0s 1ms/step - loss: 0.9545 - accuracy: 0.6530 - val_loss: 0.7974 - val_accuracy: 0.7247\n",
      "Epoch 6/100\n",
      "219/219 [==============================] - 0s 879us/step - loss: 0.9036 - accuracy: 0.6673 - val_loss: 0.7528 - val_accuracy: 0.7323\n",
      "Epoch 7/100\n",
      "219/219 [==============================] - 0s 920us/step - loss: 0.8536 - accuracy: 0.6834 - val_loss: 0.7155 - val_accuracy: 0.7370\n",
      "Epoch 8/100\n",
      "219/219 [==============================] - 0s 978us/step - loss: 0.8152 - accuracy: 0.6961 - val_loss: 0.6768 - val_accuracy: 0.7453\n",
      "Epoch 9/100\n",
      "219/219 [==============================] - 0s 884us/step - loss: 0.7839 - accuracy: 0.7101 - val_loss: 0.6548 - val_accuracy: 0.7517\n",
      "Epoch 10/100\n",
      "219/219 [==============================] - 0s 880us/step - loss: 0.7591 - accuracy: 0.7194 - val_loss: 0.6369 - val_accuracy: 0.7590\n",
      "Epoch 11/100\n",
      "219/219 [==============================] - 0s 881us/step - loss: 0.7421 - accuracy: 0.7226 - val_loss: 0.6134 - val_accuracy: 0.7770\n",
      "Epoch 12/100\n",
      "219/219 [==============================] - 0s 889us/step - loss: 0.7203 - accuracy: 0.7357 - val_loss: 0.5989 - val_accuracy: 0.7830\n",
      "Epoch 13/100\n",
      "219/219 [==============================] - 0s 948us/step - loss: 0.6984 - accuracy: 0.7430 - val_loss: 0.5863 - val_accuracy: 0.7857\n",
      "Epoch 14/100\n",
      "219/219 [==============================] - 0s 883us/step - loss: 0.6837 - accuracy: 0.7520 - val_loss: 0.5761 - val_accuracy: 0.7917\n",
      "Epoch 15/100\n",
      "219/219 [==============================] - 0s 995us/step - loss: 0.6616 - accuracy: 0.7586 - val_loss: 0.5618 - val_accuracy: 0.8007\n",
      "Epoch 16/100\n",
      "219/219 [==============================] - 0s 899us/step - loss: 0.6465 - accuracy: 0.7681 - val_loss: 0.5568 - val_accuracy: 0.7980\n",
      "Epoch 17/100\n",
      "219/219 [==============================] - 0s 884us/step - loss: 0.6389 - accuracy: 0.7670 - val_loss: 0.5410 - val_accuracy: 0.8047\n",
      "Epoch 18/100\n",
      "219/219 [==============================] - 0s 875us/step - loss: 0.6283 - accuracy: 0.7721 - val_loss: 0.5328 - val_accuracy: 0.8130\n",
      "Epoch 19/100\n",
      "219/219 [==============================] - 0s 880us/step - loss: 0.6131 - accuracy: 0.7779 - val_loss: 0.5298 - val_accuracy: 0.8087\n",
      "Epoch 20/100\n",
      "219/219 [==============================] - 0s 886us/step - loss: 0.6142 - accuracy: 0.7797 - val_loss: 0.5169 - val_accuracy: 0.8160\n",
      "Epoch 21/100\n",
      "219/219 [==============================] - 0s 876us/step - loss: 0.5838 - accuracy: 0.7929 - val_loss: 0.5108 - val_accuracy: 0.8163\n",
      "Epoch 22/100\n",
      "219/219 [==============================] - 0s 904us/step - loss: 0.5842 - accuracy: 0.7876 - val_loss: 0.5059 - val_accuracy: 0.8187\n",
      "Epoch 23/100\n",
      "219/219 [==============================] - 0s 918us/step - loss: 0.5780 - accuracy: 0.7920 - val_loss: 0.4998 - val_accuracy: 0.8177\n",
      "Epoch 24/100\n",
      "219/219 [==============================] - 0s 886us/step - loss: 0.5693 - accuracy: 0.7996 - val_loss: 0.4954 - val_accuracy: 0.8243\n",
      "Epoch 25/100\n",
      "219/219 [==============================] - 0s 927us/step - loss: 0.5635 - accuracy: 0.7944 - val_loss: 0.4930 - val_accuracy: 0.8250\n",
      "Epoch 26/100\n",
      "219/219 [==============================] - 0s 1ms/step - loss: 0.5611 - accuracy: 0.7977 - val_loss: 0.4863 - val_accuracy: 0.8263\n",
      "Epoch 27/100\n",
      "219/219 [==============================] - 0s 1ms/step - loss: 0.5491 - accuracy: 0.8033 - val_loss: 0.4809 - val_accuracy: 0.8277\n",
      "Epoch 28/100\n",
      "219/219 [==============================] - 0s 963us/step - loss: 0.5438 - accuracy: 0.8026 - val_loss: 0.4761 - val_accuracy: 0.8293\n",
      "Epoch 29/100\n",
      "219/219 [==============================] - 0s 1ms/step - loss: 0.5357 - accuracy: 0.8090 - val_loss: 0.4743 - val_accuracy: 0.8297\n",
      "Epoch 30/100\n",
      "219/219 [==============================] - 0s 1ms/step - loss: 0.5357 - accuracy: 0.8103 - val_loss: 0.4677 - val_accuracy: 0.8320\n",
      "Epoch 31/100\n",
      "219/219 [==============================] - 0s 921us/step - loss: 0.5209 - accuracy: 0.8126 - val_loss: 0.4631 - val_accuracy: 0.8310\n",
      "Epoch 32/100\n",
      "219/219 [==============================] - 0s 879us/step - loss: 0.5247 - accuracy: 0.8099 - val_loss: 0.4608 - val_accuracy: 0.8327\n",
      "Epoch 33/100\n",
      "219/219 [==============================] - 0s 880us/step - loss: 0.5160 - accuracy: 0.8151 - val_loss: 0.4578 - val_accuracy: 0.8313\n",
      "Epoch 34/100\n",
      "219/219 [==============================] - 0s 933us/step - loss: 0.5050 - accuracy: 0.8226 - val_loss: 0.4533 - val_accuracy: 0.8343\n",
      "Epoch 35/100\n",
      "219/219 [==============================] - 0s 913us/step - loss: 0.5032 - accuracy: 0.8216 - val_loss: 0.4482 - val_accuracy: 0.8370\n",
      "Epoch 36/100\n",
      "219/219 [==============================] - 0s 876us/step - loss: 0.5031 - accuracy: 0.8229 - val_loss: 0.4450 - val_accuracy: 0.8370\n",
      "Epoch 37/100\n",
      "219/219 [==============================] - 0s 879us/step - loss: 0.5003 - accuracy: 0.8201 - val_loss: 0.4420 - val_accuracy: 0.8373\n",
      "Epoch 38/100\n",
      "219/219 [==============================] - 0s 889us/step - loss: 0.4916 - accuracy: 0.8216 - val_loss: 0.4400 - val_accuracy: 0.8383\n",
      "Epoch 39/100\n",
      "219/219 [==============================] - 0s 1ms/step - loss: 0.4897 - accuracy: 0.8233 - val_loss: 0.4347 - val_accuracy: 0.8383\n",
      "Epoch 40/100\n",
      "219/219 [==============================] - 0s 887us/step - loss: 0.4803 - accuracy: 0.8301 - val_loss: 0.4338 - val_accuracy: 0.8407\n",
      "Epoch 41/100\n",
      "219/219 [==============================] - 0s 884us/step - loss: 0.4825 - accuracy: 0.8276 - val_loss: 0.4312 - val_accuracy: 0.8433\n",
      "Epoch 42/100\n",
      "219/219 [==============================] - 0s 881us/step - loss: 0.4673 - accuracy: 0.8337 - val_loss: 0.4335 - val_accuracy: 0.8403\n",
      "Epoch 43/100\n",
      "219/219 [==============================] - 0s 888us/step - loss: 0.4740 - accuracy: 0.8307 - val_loss: 0.4323 - val_accuracy: 0.8417\n",
      "Epoch 44/100\n",
      "219/219 [==============================] - 0s 882us/step - loss: 0.4630 - accuracy: 0.8336 - val_loss: 0.4267 - val_accuracy: 0.8447\n",
      "Epoch 45/100\n",
      "219/219 [==============================] - 0s 884us/step - loss: 0.4661 - accuracy: 0.8327 - val_loss: 0.4229 - val_accuracy: 0.8447\n",
      "Epoch 46/100\n",
      "219/219 [==============================] - 0s 878us/step - loss: 0.4635 - accuracy: 0.8339 - val_loss: 0.4193 - val_accuracy: 0.8423\n",
      "Epoch 47/100\n",
      "219/219 [==============================] - 0s 884us/step - loss: 0.4586 - accuracy: 0.8330 - val_loss: 0.4176 - val_accuracy: 0.8457\n",
      "Epoch 48/100\n",
      "219/219 [==============================] - 0s 891us/step - loss: 0.4476 - accuracy: 0.8411 - val_loss: 0.4153 - val_accuracy: 0.8477\n",
      "Epoch 49/100\n",
      "219/219 [==============================] - 0s 2ms/step - loss: 0.4474 - accuracy: 0.8443 - val_loss: 0.4152 - val_accuracy: 0.8470\n",
      "Epoch 50/100\n",
      "219/219 [==============================] - 0s 1ms/step - loss: 0.4466 - accuracy: 0.8404 - val_loss: 0.4120 - val_accuracy: 0.8457\n",
      "Epoch 51/100\n",
      "219/219 [==============================] - 0s 936us/step - loss: 0.4423 - accuracy: 0.8451 - val_loss: 0.4104 - val_accuracy: 0.8487\n",
      "Epoch 52/100\n",
      "219/219 [==============================] - 0s 983us/step - loss: 0.4378 - accuracy: 0.8444 - val_loss: 0.4110 - val_accuracy: 0.8440\n",
      "Epoch 53/100\n",
      "219/219 [==============================] - 0s 917us/step - loss: 0.4395 - accuracy: 0.8421 - val_loss: 0.4077 - val_accuracy: 0.8477\n",
      "Epoch 54/100\n",
      "219/219 [==============================] - 0s 941us/step - loss: 0.4274 - accuracy: 0.8460 - val_loss: 0.4070 - val_accuracy: 0.8490\n",
      "Epoch 55/100\n",
      "219/219 [==============================] - 0s 927us/step - loss: 0.4348 - accuracy: 0.8430 - val_loss: 0.4052 - val_accuracy: 0.8497\n",
      "Epoch 56/100\n",
      "219/219 [==============================] - 0s 940us/step - loss: 0.4230 - accuracy: 0.8487 - val_loss: 0.4046 - val_accuracy: 0.8507\n",
      "Epoch 57/100\n",
      "219/219 [==============================] - 0s 961us/step - loss: 0.4191 - accuracy: 0.8543 - val_loss: 0.4043 - val_accuracy: 0.8433\n",
      "Epoch 58/100\n",
      "219/219 [==============================] - 0s 1ms/step - loss: 0.4213 - accuracy: 0.8459 - val_loss: 0.4002 - val_accuracy: 0.8490\n",
      "Epoch 59/100\n",
      "219/219 [==============================] - 0s 930us/step - loss: 0.4231 - accuracy: 0.8473 - val_loss: 0.3999 - val_accuracy: 0.8500\n",
      "Epoch 60/100\n",
      "219/219 [==============================] - 0s 1ms/step - loss: 0.4218 - accuracy: 0.8484 - val_loss: 0.3987 - val_accuracy: 0.8540\n",
      "Epoch 61/100\n",
      "219/219 [==============================] - 0s 945us/step - loss: 0.4202 - accuracy: 0.8473 - val_loss: 0.3962 - val_accuracy: 0.8530\n",
      "Epoch 62/100\n",
      "219/219 [==============================] - 0s 968us/step - loss: 0.4168 - accuracy: 0.8491 - val_loss: 0.3957 - val_accuracy: 0.8537\n",
      "Epoch 63/100\n",
      "219/219 [==============================] - 0s 945us/step - loss: 0.4113 - accuracy: 0.8544 - val_loss: 0.3944 - val_accuracy: 0.8540\n",
      "Epoch 64/100\n",
      "219/219 [==============================] - 0s 931us/step - loss: 0.4094 - accuracy: 0.8534 - val_loss: 0.3943 - val_accuracy: 0.8520\n",
      "Epoch 65/100\n",
      "219/219 [==============================] - 0s 898us/step - loss: 0.4062 - accuracy: 0.8544 - val_loss: 0.3946 - val_accuracy: 0.8523\n",
      "Epoch 66/100\n",
      "219/219 [==============================] - 0s 944us/step - loss: 0.4079 - accuracy: 0.8559 - val_loss: 0.3917 - val_accuracy: 0.8570\n",
      "Epoch 67/100\n",
      "219/219 [==============================] - 0s 1ms/step - loss: 0.4062 - accuracy: 0.8573 - val_loss: 0.3922 - val_accuracy: 0.8520\n",
      "Epoch 68/100\n",
      "219/219 [==============================] - 0s 1ms/step - loss: 0.4009 - accuracy: 0.8596 - val_loss: 0.3902 - val_accuracy: 0.8540\n",
      "Epoch 69/100\n",
      "219/219 [==============================] - 0s 1ms/step - loss: 0.3980 - accuracy: 0.8543 - val_loss: 0.3892 - val_accuracy: 0.8573\n",
      "Epoch 70/100\n",
      "219/219 [==============================] - 0s 959us/step - loss: 0.3855 - accuracy: 0.8630 - val_loss: 0.3895 - val_accuracy: 0.8530\n",
      "Epoch 71/100\n",
      "219/219 [==============================] - 0s 909us/step - loss: 0.3891 - accuracy: 0.8570 - val_loss: 0.3873 - val_accuracy: 0.8590\n",
      "Epoch 72/100\n",
      "219/219 [==============================] - 0s 1ms/step - loss: 0.3885 - accuracy: 0.8630 - val_loss: 0.3869 - val_accuracy: 0.8590\n",
      "Epoch 73/100\n",
      "219/219 [==============================] - 0s 948us/step - loss: 0.3787 - accuracy: 0.8656 - val_loss: 0.3862 - val_accuracy: 0.8570\n",
      "Epoch 74/100\n",
      "219/219 [==============================] - 0s 936us/step - loss: 0.3859 - accuracy: 0.8647 - val_loss: 0.3839 - val_accuracy: 0.8583\n",
      "Epoch 75/100\n",
      "219/219 [==============================] - 0s 896us/step - loss: 0.3802 - accuracy: 0.8649 - val_loss: 0.3833 - val_accuracy: 0.8570\n",
      "Epoch 76/100\n",
      "219/219 [==============================] - 0s 932us/step - loss: 0.3828 - accuracy: 0.8600 - val_loss: 0.3843 - val_accuracy: 0.8557\n",
      "Epoch 77/100\n",
      "219/219 [==============================] - 0s 949us/step - loss: 0.3772 - accuracy: 0.8673 - val_loss: 0.3842 - val_accuracy: 0.8573\n",
      "Epoch 78/100\n",
      "219/219 [==============================] - 0s 1ms/step - loss: 0.3815 - accuracy: 0.8603 - val_loss: 0.3820 - val_accuracy: 0.8583\n",
      "Epoch 79/100\n",
      "219/219 [==============================] - 0s 961us/step - loss: 0.3754 - accuracy: 0.8629 - val_loss: 0.3812 - val_accuracy: 0.8593\n",
      "Epoch 80/100\n",
      "219/219 [==============================] - 0s 1ms/step - loss: 0.3743 - accuracy: 0.8606 - val_loss: 0.3843 - val_accuracy: 0.8563\n",
      "Epoch 81/100\n",
      "219/219 [==============================] - 0s 1ms/step - loss: 0.3740 - accuracy: 0.8653 - val_loss: 0.3806 - val_accuracy: 0.8593\n",
      "Epoch 82/100\n",
      "219/219 [==============================] - 0s 933us/step - loss: 0.3742 - accuracy: 0.8643 - val_loss: 0.3794 - val_accuracy: 0.8623\n",
      "Epoch 83/100\n",
      "219/219 [==============================] - 0s 932us/step - loss: 0.3722 - accuracy: 0.8680 - val_loss: 0.3796 - val_accuracy: 0.8617\n",
      "Epoch 84/100\n",
      "219/219 [==============================] - 0s 1ms/step - loss: 0.3646 - accuracy: 0.8711 - val_loss: 0.3786 - val_accuracy: 0.8603\n",
      "Epoch 85/100\n",
      "219/219 [==============================] - 0s 995us/step - loss: 0.3662 - accuracy: 0.8650 - val_loss: 0.3799 - val_accuracy: 0.8593\n",
      "Epoch 86/100\n",
      "219/219 [==============================] - 0s 967us/step - loss: 0.3702 - accuracy: 0.8650 - val_loss: 0.3773 - val_accuracy: 0.8583\n",
      "Epoch 87/100\n",
      "219/219 [==============================] - 0s 925us/step - loss: 0.3685 - accuracy: 0.8694 - val_loss: 0.3794 - val_accuracy: 0.8627\n",
      "Epoch 88/100\n",
      "219/219 [==============================] - 0s 934us/step - loss: 0.3592 - accuracy: 0.8699 - val_loss: 0.3779 - val_accuracy: 0.8647\n",
      "Epoch 89/100\n",
      "219/219 [==============================] - 0s 974us/step - loss: 0.3623 - accuracy: 0.8734 - val_loss: 0.3763 - val_accuracy: 0.8593\n",
      "Epoch 90/100\n",
      "219/219 [==============================] - 0s 924us/step - loss: 0.3524 - accuracy: 0.8764 - val_loss: 0.3766 - val_accuracy: 0.8640\n",
      "Epoch 91/100\n",
      "219/219 [==============================] - 0s 920us/step - loss: 0.3568 - accuracy: 0.8680 - val_loss: 0.3774 - val_accuracy: 0.8610\n",
      "Epoch 92/100\n",
      "219/219 [==============================] - 0s 881us/step - loss: 0.3523 - accuracy: 0.8713 - val_loss: 0.3761 - val_accuracy: 0.8597\n",
      "Epoch 93/100\n",
      "219/219 [==============================] - 0s 948us/step - loss: 0.3446 - accuracy: 0.8733 - val_loss: 0.3775 - val_accuracy: 0.8600\n",
      "Epoch 94/100\n",
      "219/219 [==============================] - 0s 928us/step - loss: 0.3499 - accuracy: 0.8731 - val_loss: 0.3749 - val_accuracy: 0.8623\n",
      "Epoch 95/100\n",
      "219/219 [==============================] - 0s 968us/step - loss: 0.3438 - accuracy: 0.8759 - val_loss: 0.3742 - val_accuracy: 0.8613\n",
      "Epoch 96/100\n",
      "219/219 [==============================] - 0s 951us/step - loss: 0.3486 - accuracy: 0.8720 - val_loss: 0.3743 - val_accuracy: 0.8617\n",
      "Epoch 97/100\n",
      "219/219 [==============================] - 0s 1ms/step - loss: 0.3449 - accuracy: 0.8769 - val_loss: 0.3775 - val_accuracy: 0.8630\n",
      "Epoch 98/100\n",
      "219/219 [==============================] - 0s 911us/step - loss: 0.3514 - accuracy: 0.8743 - val_loss: 0.3726 - val_accuracy: 0.8610\n",
      "Epoch 99/100\n",
      "219/219 [==============================] - 0s 990us/step - loss: 0.3471 - accuracy: 0.8780 - val_loss: 0.3726 - val_accuracy: 0.8617\n",
      "Epoch 100/100\n",
      "219/219 [==============================] - 0s 948us/step - loss: 0.3389 - accuracy: 0.8796 - val_loss: 0.3724 - val_accuracy: 0.8623\n"
     ]
    },
    {
     "data": {
      "text/plain": [
       "<keras.src.callbacks.History at 0x29d68dac0>"
      ]
     },
     "execution_count": 20,
     "metadata": {},
     "output_type": "execute_result"
    }
   ],
   "source": [
    "nn_model = Sequential([\n",
    "    Dense(units=100, activation=\"relu\"),\n",
    "    Dropout(0.2),\n",
    "    Dense(units=50, activation=\"relu\"),\n",
    "    Dropout(0.2),\n",
    "    Dense(units=25, activation=\"relu\"),\n",
    "    Dropout(0.2),\n",
    "    Dense(units=5, activation=\"linear\")\n",
    "])\n",
    "\n",
    "nn_model.compile(loss=SparseCategoricalCrossentropy(from_logits=True),\n",
    "              optimizer=Adam(learning_rate=(1e-5)*3),\n",
    "              metrics=[\"accuracy\"]\n",
    "             )\n",
    "\n",
    "nn_callbacks = [EarlyStopping(patience=3, monitor=\"val_loss\", restore_best_weights=True)]\n",
    "\n",
    "nn_model.fit(X_train, y_train, epochs=100, validation_data=(X_val, y_val), callbacks=nn_callbacks)"
   ]
  },
  {
   "cell_type": "markdown",
   "metadata": {},
   "source": [
    "### Making predictions with Fully Connected Neural Network"
   ]
  },
  {
   "cell_type": "code",
   "execution_count": 21,
   "metadata": {},
   "outputs": [
    {
     "name": "stdout",
     "output_type": "stream",
     "text": [
      "Accuracy of: 85.02 %\n"
     ]
    }
   ],
   "source": [
    "logits_test_nn = nn_model(X_test)\n",
    "probs_test_nn = tf.nn.softmax(logits_test_nn)\n",
    "probs_test_nn = tf.make_tensor_proto(probs_test_nn)\n",
    "probs_np_test_nn = tf.make_ndarray(probs_test_nn)\n",
    "y_pred_nn = np.argmax(probs_np_test_nn, axis=1)\n",
    "print(\"Accuracy of:\", accuracy_score(y_pred_nn, y_test)*100, \"%\")"
   ]
  },
  {
   "cell_type": "markdown",
   "metadata": {},
   "source": [
    "## Setting up the Convolutional Neural Network"
   ]
  },
  {
   "cell_type": "code",
   "execution_count": 22,
   "metadata": {},
   "outputs": [
    {
     "name": "stderr",
     "output_type": "stream",
     "text": [
      "WARNING:absl:At this time, the v2.11+ optimizer `tf.keras.optimizers.Adam` runs slowly on M1/M2 Macs, please use the legacy Keras optimizer instead, located at `tf.keras.optimizers.legacy.Adam`.\n"
     ]
    },
    {
     "name": "stdout",
     "output_type": "stream",
     "text": [
      "Epoch 1/60\n",
      "219/219 [==============================] - 3s 10ms/step - loss: 1.4049 - accuracy: 0.3776 - val_loss: 1.0751 - val_accuracy: 0.6263\n",
      "Epoch 2/60\n",
      "219/219 [==============================] - 2s 10ms/step - loss: 0.9971 - accuracy: 0.5613 - val_loss: 0.8435 - val_accuracy: 0.6603\n",
      "Epoch 3/60\n",
      "219/219 [==============================] - 2s 10ms/step - loss: 0.8434 - accuracy: 0.6540 - val_loss: 0.7368 - val_accuracy: 0.7080\n",
      "Epoch 4/60\n",
      "219/219 [==============================] - 2s 10ms/step - loss: 0.7491 - accuracy: 0.6911 - val_loss: 0.6770 - val_accuracy: 0.7177\n",
      "Epoch 5/60\n",
      "219/219 [==============================] - 2s 10ms/step - loss: 0.7035 - accuracy: 0.7070 - val_loss: 0.6435 - val_accuracy: 0.7353\n",
      "Epoch 6/60\n",
      "219/219 [==============================] - 2s 11ms/step - loss: 0.6654 - accuracy: 0.7226 - val_loss: 0.6136 - val_accuracy: 0.7483\n",
      "Epoch 7/60\n",
      "219/219 [==============================] - 3s 12ms/step - loss: 0.6395 - accuracy: 0.7400 - val_loss: 0.5964 - val_accuracy: 0.7550\n",
      "Epoch 8/60\n",
      "219/219 [==============================] - 2s 11ms/step - loss: 0.6165 - accuracy: 0.7469 - val_loss: 0.5638 - val_accuracy: 0.7740\n",
      "Epoch 9/60\n",
      "219/219 [==============================] - 2s 11ms/step - loss: 0.5942 - accuracy: 0.7596 - val_loss: 0.5500 - val_accuracy: 0.7760\n",
      "Epoch 10/60\n",
      "219/219 [==============================] - 2s 10ms/step - loss: 0.5790 - accuracy: 0.7657 - val_loss: 0.5325 - val_accuracy: 0.7813\n",
      "Epoch 11/60\n",
      "219/219 [==============================] - 2s 10ms/step - loss: 0.5603 - accuracy: 0.7759 - val_loss: 0.5233 - val_accuracy: 0.7917\n",
      "Epoch 12/60\n",
      "219/219 [==============================] - 2s 11ms/step - loss: 0.5374 - accuracy: 0.7887 - val_loss: 0.4961 - val_accuracy: 0.8140\n",
      "Epoch 13/60\n",
      "219/219 [==============================] - 2s 11ms/step - loss: 0.5212 - accuracy: 0.7960 - val_loss: 0.4775 - val_accuracy: 0.8190\n",
      "Epoch 14/60\n",
      "219/219 [==============================] - 2s 11ms/step - loss: 0.5122 - accuracy: 0.8031 - val_loss: 0.4686 - val_accuracy: 0.8267\n",
      "Epoch 15/60\n",
      "219/219 [==============================] - 2s 10ms/step - loss: 0.5031 - accuracy: 0.8064 - val_loss: 0.4642 - val_accuracy: 0.8260\n",
      "Epoch 16/60\n",
      "219/219 [==============================] - 2s 10ms/step - loss: 0.4879 - accuracy: 0.8123 - val_loss: 0.4506 - val_accuracy: 0.8277\n",
      "Epoch 17/60\n",
      "219/219 [==============================] - 2s 10ms/step - loss: 0.4837 - accuracy: 0.8184 - val_loss: 0.4409 - val_accuracy: 0.8350\n",
      "Epoch 18/60\n",
      "219/219 [==============================] - 2s 10ms/step - loss: 0.4680 - accuracy: 0.8239 - val_loss: 0.4309 - val_accuracy: 0.8370\n",
      "Epoch 19/60\n",
      "219/219 [==============================] - 2s 10ms/step - loss: 0.4585 - accuracy: 0.8281 - val_loss: 0.4273 - val_accuracy: 0.8417\n",
      "Epoch 20/60\n",
      "219/219 [==============================] - 2s 10ms/step - loss: 0.4468 - accuracy: 0.8307 - val_loss: 0.4220 - val_accuracy: 0.8403\n",
      "Epoch 21/60\n",
      "219/219 [==============================] - 2s 10ms/step - loss: 0.4447 - accuracy: 0.8293 - val_loss: 0.4195 - val_accuracy: 0.8437\n",
      "Epoch 22/60\n",
      "219/219 [==============================] - 2s 10ms/step - loss: 0.4300 - accuracy: 0.8351 - val_loss: 0.4187 - val_accuracy: 0.8403\n",
      "Epoch 23/60\n",
      "219/219 [==============================] - 2s 10ms/step - loss: 0.4324 - accuracy: 0.8346 - val_loss: 0.4015 - val_accuracy: 0.8447\n",
      "Epoch 24/60\n",
      "219/219 [==============================] - 3s 12ms/step - loss: 0.4245 - accuracy: 0.8457 - val_loss: 0.3996 - val_accuracy: 0.8490\n",
      "Epoch 25/60\n",
      "219/219 [==============================] - 3s 12ms/step - loss: 0.4140 - accuracy: 0.8426 - val_loss: 0.3931 - val_accuracy: 0.8490\n",
      "Epoch 26/60\n",
      "219/219 [==============================] - 3s 14ms/step - loss: 0.4154 - accuracy: 0.8416 - val_loss: 0.3950 - val_accuracy: 0.8467\n",
      "Epoch 27/60\n",
      "219/219 [==============================] - 2s 11ms/step - loss: 0.4015 - accuracy: 0.8500 - val_loss: 0.3905 - val_accuracy: 0.8533\n",
      "Epoch 28/60\n",
      "219/219 [==============================] - 2s 10ms/step - loss: 0.4024 - accuracy: 0.8443 - val_loss: 0.3832 - val_accuracy: 0.8487\n",
      "Epoch 29/60\n",
      "219/219 [==============================] - 2s 10ms/step - loss: 0.3982 - accuracy: 0.8464 - val_loss: 0.3877 - val_accuracy: 0.8493\n",
      "Epoch 30/60\n",
      "219/219 [==============================] - 2s 10ms/step - loss: 0.3878 - accuracy: 0.8504 - val_loss: 0.3824 - val_accuracy: 0.8483\n",
      "Epoch 31/60\n",
      "219/219 [==============================] - 2s 10ms/step - loss: 0.3872 - accuracy: 0.8474 - val_loss: 0.3761 - val_accuracy: 0.8563\n",
      "Epoch 32/60\n",
      "219/219 [==============================] - 2s 11ms/step - loss: 0.3790 - accuracy: 0.8571 - val_loss: 0.3723 - val_accuracy: 0.8500\n",
      "Epoch 33/60\n",
      "219/219 [==============================] - 2s 10ms/step - loss: 0.3724 - accuracy: 0.8579 - val_loss: 0.3669 - val_accuracy: 0.8573\n",
      "Epoch 34/60\n",
      "219/219 [==============================] - 2s 10ms/step - loss: 0.3711 - accuracy: 0.8573 - val_loss: 0.3636 - val_accuracy: 0.8577\n",
      "Epoch 35/60\n",
      "219/219 [==============================] - 2s 11ms/step - loss: 0.3757 - accuracy: 0.8617 - val_loss: 0.3659 - val_accuracy: 0.8600\n",
      "Epoch 36/60\n",
      "219/219 [==============================] - 2s 10ms/step - loss: 0.3652 - accuracy: 0.8604 - val_loss: 0.3586 - val_accuracy: 0.8623\n",
      "Epoch 37/60\n",
      "219/219 [==============================] - 2s 10ms/step - loss: 0.3613 - accuracy: 0.8614 - val_loss: 0.3588 - val_accuracy: 0.8613\n",
      "Epoch 38/60\n",
      "219/219 [==============================] - 2s 10ms/step - loss: 0.3613 - accuracy: 0.8673 - val_loss: 0.3561 - val_accuracy: 0.8617\n",
      "Epoch 39/60\n",
      "219/219 [==============================] - 2s 10ms/step - loss: 0.3578 - accuracy: 0.8683 - val_loss: 0.3594 - val_accuracy: 0.8597\n",
      "Epoch 40/60\n",
      "219/219 [==============================] - 2s 10ms/step - loss: 0.3548 - accuracy: 0.8670 - val_loss: 0.3573 - val_accuracy: 0.8630\n",
      "Epoch 41/60\n",
      "219/219 [==============================] - 2s 10ms/step - loss: 0.3548 - accuracy: 0.8629 - val_loss: 0.3492 - val_accuracy: 0.8640\n",
      "Epoch 42/60\n",
      "219/219 [==============================] - 2s 11ms/step - loss: 0.3514 - accuracy: 0.8651 - val_loss: 0.3516 - val_accuracy: 0.8650\n",
      "Epoch 43/60\n",
      "219/219 [==============================] - 2s 10ms/step - loss: 0.3461 - accuracy: 0.8694 - val_loss: 0.3470 - val_accuracy: 0.8640\n",
      "Epoch 44/60\n",
      "219/219 [==============================] - 2s 10ms/step - loss: 0.3430 - accuracy: 0.8684 - val_loss: 0.3449 - val_accuracy: 0.8677\n",
      "Epoch 45/60\n",
      "219/219 [==============================] - 2s 10ms/step - loss: 0.3394 - accuracy: 0.8684 - val_loss: 0.3487 - val_accuracy: 0.8653\n",
      "Epoch 46/60\n",
      "219/219 [==============================] - 2s 11ms/step - loss: 0.3385 - accuracy: 0.8703 - val_loss: 0.3470 - val_accuracy: 0.8630\n",
      "Epoch 47/60\n",
      "219/219 [==============================] - 2s 10ms/step - loss: 0.3340 - accuracy: 0.8750 - val_loss: 0.3390 - val_accuracy: 0.8680\n",
      "Epoch 48/60\n",
      "219/219 [==============================] - 2s 10ms/step - loss: 0.3339 - accuracy: 0.8710 - val_loss: 0.3421 - val_accuracy: 0.8663\n",
      "Epoch 49/60\n",
      "219/219 [==============================] - 2s 10ms/step - loss: 0.3323 - accuracy: 0.8709 - val_loss: 0.3359 - val_accuracy: 0.8683\n",
      "Epoch 50/60\n",
      "219/219 [==============================] - 3s 12ms/step - loss: 0.3262 - accuracy: 0.8747 - val_loss: 0.3369 - val_accuracy: 0.8717\n",
      "Epoch 51/60\n",
      "219/219 [==============================] - 2s 10ms/step - loss: 0.3245 - accuracy: 0.8764 - val_loss: 0.3408 - val_accuracy: 0.8730\n",
      "Epoch 52/60\n",
      "219/219 [==============================] - 2s 11ms/step - loss: 0.3244 - accuracy: 0.8744 - val_loss: 0.3336 - val_accuracy: 0.8710\n",
      "Epoch 53/60\n",
      "219/219 [==============================] - 2s 10ms/step - loss: 0.3178 - accuracy: 0.8773 - val_loss: 0.3442 - val_accuracy: 0.8657\n",
      "Epoch 54/60\n",
      "219/219 [==============================] - 2s 10ms/step - loss: 0.3204 - accuracy: 0.8811 - val_loss: 0.3328 - val_accuracy: 0.8723\n",
      "Epoch 55/60\n",
      "219/219 [==============================] - 2s 10ms/step - loss: 0.3173 - accuracy: 0.8794 - val_loss: 0.3319 - val_accuracy: 0.8720\n",
      "Epoch 56/60\n",
      "219/219 [==============================] - 2s 10ms/step - loss: 0.3132 - accuracy: 0.8801 - val_loss: 0.3318 - val_accuracy: 0.8690\n",
      "Epoch 57/60\n",
      "219/219 [==============================] - 2s 10ms/step - loss: 0.3075 - accuracy: 0.8794 - val_loss: 0.3282 - val_accuracy: 0.8750\n",
      "Epoch 58/60\n",
      "219/219 [==============================] - 2s 10ms/step - loss: 0.3048 - accuracy: 0.8846 - val_loss: 0.3306 - val_accuracy: 0.8727\n",
      "Epoch 59/60\n",
      "219/219 [==============================] - 2s 10ms/step - loss: 0.3001 - accuracy: 0.8864 - val_loss: 0.3260 - val_accuracy: 0.8777\n",
      "Epoch 60/60\n",
      "219/219 [==============================] - 2s 10ms/step - loss: 0.3086 - accuracy: 0.8787 - val_loss: 0.3326 - val_accuracy: 0.8753\n"
     ]
    },
    {
     "data": {
      "text/plain": [
       "<keras.src.callbacks.History at 0x29fb34d00>"
      ]
     },
     "execution_count": 22,
     "metadata": {},
     "output_type": "execute_result"
    }
   ],
   "source": [
    "X_test_reshaped = X_test.reshape((5000, 28, 28, 1))\n",
    "X_val_reshaped = X_val.reshape((3000, 28, 28, 1))\n",
    "X_train_reshaped = X_train.reshape((7000, 28, 28, 1))\n",
    "\n",
    "CNN = tf.keras.Sequential(\n",
    "    [\n",
    "    tf.keras.layers.Conv2D(32, (3,3), padding='same', activation=\"relu\",input_shape=(28, 28, 1)),\n",
    "    tf.keras.layers.MaxPooling2D((2, 2), strides=2),\n",
    "    tf.keras.layers.Dropout(0.3),\n",
    "\n",
    "    tf.keras.layers.Conv2D(48, (3,3), padding='same', activation=\"relu\"),\n",
    "    tf.keras.layers.MaxPooling2D((2, 2), strides=2),\n",
    "    tf.keras.layers.Dropout(0.2),\n",
    "    \n",
    "    tf.keras.layers.Conv2D(64, (3,3), padding='same', activation=\"relu\"),\n",
    "    tf.keras.layers.MaxPooling2D((2, 2), strides=2),\n",
    "    tf.keras.layers.Dropout(0.2),\n",
    "\n",
    "    tf.keras.layers.Flatten(),\n",
    "    tf.keras.layers.Dense(100, activation=\"relu\"),\n",
    "    tf.keras.layers.Dropout(0.3),\n",
    "    tf.keras.layers.Dense(5, activation=\"linear\")\n",
    "]\n",
    ")\n",
    "\n",
    "CNN.compile(optimizer=tf.keras.optimizers.Adam(learning_rate=1e-4),\n",
    "              loss=tf.keras.losses.SparseCategoricalCrossentropy(from_logits=True),\n",
    "              metrics=['accuracy'])\n",
    "\n",
    "callbacks = [EarlyStopping(patience=3, monitor=\"val_loss\")]\n",
    "CNN.fit(X_train_reshaped,y_train, epochs=60, validation_data=(X_val_reshaped, y_val), callbacks=callbacks)"
   ]
  },
  {
   "cell_type": "markdown",
   "metadata": {},
   "source": [
    "### Making predictions with Convolutional Neural Network"
   ]
  },
  {
   "cell_type": "code",
   "execution_count": 23,
   "metadata": {},
   "outputs": [
    {
     "name": "stdout",
     "output_type": "stream",
     "text": [
      "Accuracy of: 87.32 %\n"
     ]
    }
   ],
   "source": [
    "logits_test_cnn = CNN(X_test_reshaped)\n",
    "probs_test_cnn = tf.nn.softmax(logits_test_cnn)\n",
    "probs_test_cnn = tf.make_tensor_proto(probs_test_cnn)\n",
    "probs_np_test_cnn = tf.make_ndarray(probs_test_cnn)\n",
    "y_pred_cnn = np.argmax(probs_np_test_cnn, axis=1)\n",
    "print(\"Accuracy of:\", accuracy_score(y_pred_cnn, y_test)*100, \"%\")"
   ]
  }
 ],
 "metadata": {
  "kernelspec": {
   "display_name": "Python 3",
   "language": "python",
   "name": "python3"
  },
  "language_info": {
   "codemirror_mode": {
    "name": "ipython",
    "version": 3
   },
   "file_extension": ".py",
   "mimetype": "text/x-python",
   "name": "python",
   "nbconvert_exporter": "python",
   "pygments_lexer": "ipython3",
   "version": "3.9.6"
  }
 },
 "nbformat": 4,
 "nbformat_minor": 2
}
