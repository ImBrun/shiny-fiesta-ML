{
 "cells": [
  {
   "cell_type": "markdown",
   "metadata": {},
   "source": [
    "## Importing own implementations"
   ]
  },
  {
   "cell_type": "code",
   "execution_count": 1,
   "metadata": {},
   "outputs": [],
   "source": [
    "import Classes.LDA as LDA\n",
    "import Classes.NaiveBayes as NaiveBayes"
   ]
  },
  {
   "cell_type": "markdown",
   "metadata": {},
   "source": [
    "## Other imports"
   ]
  },
  {
   "cell_type": "code",
   "execution_count": 2,
   "metadata": {},
   "outputs": [],
   "source": [
    "import numpy as np\n",
    "import matplotlib.pyplot as plt\n",
    "import scipy.stats as stats\n",
    "import scipy.optimize as optimize\n",
    "from sklearn.preprocessing import StandardScaler\n",
    "import math\n",
    "\n",
    "# Ignore unwanted warnings\n",
    "import warnings\n",
    "warnings.filterwarnings('ignore')"
   ]
  },
  {
   "cell_type": "markdown",
   "metadata": {},
   "source": [
    "## Reading the dataset"
   ]
  },
  {
   "cell_type": "code",
   "execution_count": 3,
   "metadata": {},
   "outputs": [],
   "source": [
    "path_train = \"Datasets/fashion_train.npy\"\n",
    "path_test = \"Datasets/fashion_test.npy\"\n",
    "\n",
    "train = np.load(path_train)\n",
    "test = np.load(path_test)\n",
    "\n",
    "#Split the training and test data into features and labels\n",
    "X_train = train[:,:784]\n",
    "y_train = train[:,784]\n",
    "\n",
    "X_test = test[:,:784]\n",
    "y_test = test[:,784]"
   ]
  },
  {
   "cell_type": "markdown",
   "metadata": {},
   "source": [
    "## Declaring our own classes"
   ]
  },
  {
   "cell_type": "code",
   "execution_count": 4,
   "metadata": {},
   "outputs": [],
   "source": [
    "ourLDA = LDA.ourLDA()\n",
    "ourNaiveBayes = NaiveBayes.ourNaiveBayes()"
   ]
  },
  {
   "cell_type": "markdown",
   "metadata": {},
   "source": [
    "## Getting the first two liniar discriminants for both the train and the test sets"
   ]
  },
  {
   "cell_type": "code",
   "execution_count": 5,
   "metadata": {},
   "outputs": [],
   "source": [
    "ourLDA.set_lda_components(X_train, y_train)\n",
    "X_lda = ourLDA.get_two_discriminants(X_train)\n",
    "X_lda_test = ourLDA.get_two_discriminants(X_test)"
   ]
  },
  {
   "cell_type": "markdown",
   "metadata": {},
   "source": [
    "## Setting up Naive Bayes"
   ]
  },
  {
   "cell_type": "code",
   "execution_count": 6,
   "metadata": {},
   "outputs": [],
   "source": [
    "ourNaiveBayes.set_priors(X_lda, y_train)\n",
    "ourNaiveBayes.set_bin_number(5)\n",
    "ourNaiveBayes.set_conditionals(X_lda, y_train)"
   ]
  },
  {
   "cell_type": "markdown",
   "metadata": {},
   "source": [
    "## Making predictions with Naive Bayes"
   ]
  },
  {
   "cell_type": "code",
   "execution_count": 7,
   "metadata": {},
   "outputs": [
    {
     "name": "stdout",
     "output_type": "stream",
     "text": [
      "Accuracy of:  70.98 %\n"
     ]
    }
   ],
   "source": [
    "predictions_lda = ourNaiveBayes.predict_class(X_lda_test)\n",
    "print(\"Accuracy of: \", (np.sum(predictions_lda == y_test))/(X_lda_test.shape[0])*100, \"%\")"
   ]
  }
 ],
 "metadata": {
  "kernelspec": {
   "display_name": "Python 3",
   "language": "python",
   "name": "python3"
  },
  "language_info": {
   "codemirror_mode": {
    "name": "ipython",
    "version": 3
   },
   "file_extension": ".py",
   "mimetype": "text/x-python",
   "name": "python",
   "nbconvert_exporter": "python",
   "pygments_lexer": "ipython3",
   "version": "3.9.6"
  }
 },
 "nbformat": 4,
 "nbformat_minor": 2
}
