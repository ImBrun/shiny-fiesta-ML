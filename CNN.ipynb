{
 "cells": [
  {
   "cell_type": "code",
   "execution_count": 2,
   "id": "fa52ad57",
   "metadata": {},
   "outputs": [
    {
     "name": "stderr",
     "output_type": "stream",
     "text": [
      "/Users/andrei/Library/Python/3.9/lib/python/site-packages/urllib3/__init__.py:34: NotOpenSSLWarning: urllib3 v2 only supports OpenSSL 1.1.1+, currently the 'ssl' module is compiled with 'LibreSSL 2.8.3'. See: https://github.com/urllib3/urllib3/issues/3020\n",
      "  warnings.warn(\n"
     ]
    }
   ],
   "source": [
    "#-------------Imports--------------\n",
    "import numpy as np\n",
    "import matplotlib.pyplot as plt\n",
    "import tensorflow as tf\n",
    "from tensorflow.keras import Sequential\n",
    "from tensorflow.keras.layers import Dense\n",
    "from tensorflow.keras.losses import SparseCategoricalCrossentropy\n",
    "from tensorflow.keras.layers import Conv2D\n",
    "from tensorflow.keras.layers import MaxPooling2D\n",
    "from tensorflow.keras.layers import Flatten\n",
    "from sklearn.metrics import accuracy_score"
   ]
  },
  {
   "cell_type": "markdown",
   "id": "ea8599cb",
   "metadata": {},
   "source": [
    "## Don't mind the code below, it is not 100% correct and I still have to work on this one after CNN is done :D"
   ]
  },
  {
   "cell_type": "code",
   "execution_count": 4,
   "id": "3a65de86",
   "metadata": {},
   "outputs": [],
   "source": [
    "# class ourCNN:\n",
    "#     def __init__(self):\n",
    "#         self.CNN = tf.keras.Sequential([\n",
    "#             tf.keras.layers.Conv2D(32, (3,3), padding='same', activation=\"relu\",input_shape=(28, 28, 1)),\n",
    "#             tf.keras.layers.MaxPooling2D((2, 2), strides=2),\n",
    "\n",
    "#             tf.keras.layers.Conv2D(64, (3,3), padding='same', activation=\"relu\"),\n",
    "#             tf.keras.layers.MaxPooling2D((2, 2), strides=2),\n",
    "\n",
    "#             tf.keras.layers.Flatten(),\n",
    "#             tf.keras.layers.Dense(100, activation=\"relu\"),\n",
    "#             tf.keras.layers.Dropout(0.2),\n",
    "#             tf.keras.layers.Dense(5, activation=\"linear\")\n",
    "#         ])\n",
    "#         self.CNN.compile(optimizer=tf.keras.optimizers.Adam(learning_rate=1e-3),\n",
    "#             loss=tf.keras.losses.SparseCategoricalCrossentropy(from_logits=True),\n",
    "#             metrics=['accuracy'])\n",
    "#     def train(self, X_train, y_train):\n",
    "#         self.CNN.fit(X_train,y_train, epochs=50)\n",
    "#     def predict(self, X):\n",
    "#         logits_test = self.CNN(X)\n",
    "#         probs_test = tf.nn.softmax(logits_test)\n",
    "#         probs_test = tf.make_tensor_proto(probs_test)\n",
    "#         probs_np_test = tf.make_ndarray(probs_test)\n",
    "#         return np.argmax(probs_np_test, axis=1)\n",
    "#     def accuracy(y_pred, y_test):\n",
    "#         return accuracy_score(y_pred, y_test)\n"
   ]
  },
  {
   "cell_type": "code",
   "execution_count": 3,
   "id": "5af90213",
   "metadata": {},
   "outputs": [
    {
     "name": "stdout",
     "output_type": "stream",
     "text": [
      "(10000, 28, 28, 1)\n",
      "(10000,)\n",
      "(5000, 28, 28, 1)\n",
      "(5000,)\n"
     ]
    }
   ],
   "source": [
    "#-----------Load Dataset-----------\n",
    "\n",
    "path_train = \"fashion_train.npy\"\n",
    "path_test = \"fashion_test.npy\"\n",
    "\n",
    "train = np.load(path_train)\n",
    "test = np.load(path_test)\n",
    "\n",
    "#Split the training and test data into features and labels\n",
    "X = train[:,:784]\n",
    "y = train[:,784]\n",
    "\n",
    "X = X / 255 # scale the pixels to be between 0 and 1\n",
    "\n",
    "X_test = test[:,:784]\n",
    "y_test = test[:,784]\n",
    "\n",
    "X_test = X_test / 255 # scale the pixels to be between 0 and 1\n",
    "\n",
    "X = X.reshape((10000, 28, 28, 1))\n",
    "\n",
    "X_test = X_test.reshape((5000, 28, 28, 1))\n",
    "\n",
    "print(X.shape)\n",
    "print(y.shape)\n",
    "print(X_test.shape)\n",
    "print(y_test.shape)"
   ]
  },
  {
   "cell_type": "markdown",
   "id": "fbe2ab28",
   "metadata": {},
   "source": [
    "### Split training set into training and validation set"
   ]
  },
  {
   "cell_type": "code",
   "execution_count": 13,
   "id": "0ed511df",
   "metadata": {},
   "outputs": [
    {
     "name": "stdout",
     "output_type": "stream",
     "text": [
      "(7000, 28, 28, 1)\n",
      "(7000,)\n"
     ]
    }
   ],
   "source": [
    "train_percentage = int((X.shape[0]) * 0.7)\n",
    "train_percentage\n",
    "\n",
    "X_train = X[:train_percentage, :]\n",
    "y_train = y[:train_percentage]\n",
    "\n",
    "print(X_train.shape)\n",
    "print(y_train.shape)"
   ]
  },
  {
   "cell_type": "code",
   "execution_count": 14,
   "id": "78746d70",
   "metadata": {},
   "outputs": [
    {
     "name": "stdout",
     "output_type": "stream",
     "text": [
      "(3000, 28, 28, 1)\n",
      "(3000,)\n"
     ]
    }
   ],
   "source": [
    "X_val = X[train_percentage:, :]\n",
    "y_val = y[train_percentage:]\n",
    "\n",
    "print(X_val.shape)\n",
    "print(y_val.shape)"
   ]
  },
  {
   "cell_type": "markdown",
   "id": "26eff422",
   "metadata": {},
   "source": [
    "### Create network architecture"
   ]
  },
  {
   "cell_type": "code",
   "execution_count": 25,
   "id": "bf253029",
   "metadata": {},
   "outputs": [],
   "source": [
    "CNN = tf.keras.Sequential(\n",
    "    [\n",
    "    tf.keras.layers.Conv2D(32, (3,3), padding='same', activation=\"relu\",input_shape=(28, 28, 1)),\n",
    "    tf.keras.layers.MaxPooling2D((2, 2), strides=2),\n",
    "\n",
    "    tf.keras.layers.Conv2D(64, (3,3), padding='same', activation=\"relu\"),\n",
    "    tf.keras.layers.MaxPooling2D((2, 2), strides=2),\n",
    "\n",
    "    tf.keras.layers.Flatten(),\n",
    "    tf.keras.layers.Dense(100, activation=\"relu\"),\n",
    "    tf.keras.layers.Dropout(0.2),\n",
    "    tf.keras.layers.Dense(5, activation=\"linear\")\n",
    "]\n",
    ")"
   ]
  },
  {
   "cell_type": "markdown",
   "id": "3295808d",
   "metadata": {},
   "source": [
    "### Visualize the model"
   ]
  },
  {
   "cell_type": "code",
   "execution_count": 26,
   "id": "e14fd17e",
   "metadata": {},
   "outputs": [
    {
     "name": "stdout",
     "output_type": "stream",
     "text": [
      "Model: \"sequential_4\"\n",
      "_________________________________________________________________\n",
      " Layer (type)                Output Shape              Param #   \n",
      "=================================================================\n",
      " conv2d_8 (Conv2D)           (None, 28, 28, 32)        320       \n",
      "                                                                 \n",
      " max_pooling2d_8 (MaxPooling  (None, 14, 14, 32)       0         \n",
      " 2D)                                                             \n",
      "                                                                 \n",
      " conv2d_9 (Conv2D)           (None, 14, 14, 64)        18496     \n",
      "                                                                 \n",
      " max_pooling2d_9 (MaxPooling  (None, 7, 7, 64)         0         \n",
      " 2D)                                                             \n",
      "                                                                 \n",
      " flatten_4 (Flatten)         (None, 3136)              0         \n",
      "                                                                 \n",
      " dense_8 (Dense)             (None, 100)               313700    \n",
      "                                                                 \n",
      " dropout_1 (Dropout)         (None, 100)               0         \n",
      "                                                                 \n",
      " dense_9 (Dense)             (None, 5)                 505       \n",
      "                                                                 \n",
      "=================================================================\n",
      "Total params: 333,021\n",
      "Trainable params: 333,021\n",
      "Non-trainable params: 0\n",
      "_________________________________________________________________\n"
     ]
    }
   ],
   "source": [
    "CNN.summary()"
   ]
  },
  {
   "cell_type": "code",
   "execution_count": null,
   "id": "4719947d",
   "metadata": {},
   "outputs": [],
   "source": [
    "tf.keras.utils.plot_model(\n",
    "    CNN,\n",
    "    show_shapes=True,\n",
    "    show_layer_names=True,\n",
    "    rankdir=\"TB\",\n",
    "    expand_nested=True,\n",
    "    dpi=96,\n",
    ")"
   ]
  },
  {
   "cell_type": "markdown",
   "id": "15f698c0",
   "metadata": {},
   "source": [
    "### Compile the model"
   ]
  },
  {
   "cell_type": "code",
   "execution_count": 27,
   "id": "92898f31",
   "metadata": {},
   "outputs": [],
   "source": [
    "CNN.compile(optimizer=tf.keras.optimizers.Adam(learning_rate=1e-3),\n",
    "              loss=tf.keras.losses.SparseCategoricalCrossentropy(from_logits=True),\n",
    "              metrics=['accuracy'])"
   ]
  },
  {
   "cell_type": "markdown",
   "id": "a2f39edc",
   "metadata": {},
   "source": [
    "### Train the model"
   ]
  },
  {
   "cell_type": "code",
   "execution_count": 28,
   "id": "5c60f6de",
   "metadata": {},
   "outputs": [
    {
     "name": "stdout",
     "output_type": "stream",
     "text": [
      "Epoch 1/50\n",
      "219/219 [==============================] - 4s 14ms/step - loss: 0.6221 - accuracy: 0.7573\n",
      "Epoch 2/50\n",
      "219/219 [==============================] - 3s 14ms/step - loss: 0.3991 - accuracy: 0.8501\n",
      "Epoch 3/50\n",
      "219/219 [==============================] - 3s 14ms/step - loss: 0.3454 - accuracy: 0.8720\n",
      "Epoch 4/50\n",
      "219/219 [==============================] - 3s 14ms/step - loss: 0.3123 - accuracy: 0.8831\n",
      "Epoch 5/50\n",
      "219/219 [==============================] - 3s 14ms/step - loss: 0.2773 - accuracy: 0.8963\n",
      "Epoch 6/50\n",
      "219/219 [==============================] - 3s 13ms/step - loss: 0.2534 - accuracy: 0.9021\n",
      "Epoch 7/50\n",
      "219/219 [==============================] - 3s 14ms/step - loss: 0.2318 - accuracy: 0.9087\n",
      "Epoch 8/50\n",
      "219/219 [==============================] - 3s 14ms/step - loss: 0.2101 - accuracy: 0.9181\n",
      "Epoch 9/50\n",
      "219/219 [==============================] - 3s 14ms/step - loss: 0.1822 - accuracy: 0.9270\n",
      "Epoch 10/50\n",
      "219/219 [==============================] - 3s 13ms/step - loss: 0.1718 - accuracy: 0.9330\n",
      "Epoch 11/50\n",
      "219/219 [==============================] - 3s 13ms/step - loss: 0.1594 - accuracy: 0.9404\n",
      "Epoch 12/50\n",
      "219/219 [==============================] - 3s 13ms/step - loss: 0.1391 - accuracy: 0.9484\n",
      "Epoch 13/50\n",
      "219/219 [==============================] - 3s 14ms/step - loss: 0.1253 - accuracy: 0.9566\n",
      "Epoch 14/50\n",
      "219/219 [==============================] - 3s 13ms/step - loss: 0.1138 - accuracy: 0.9534\n",
      "Epoch 15/50\n",
      "219/219 [==============================] - 3s 13ms/step - loss: 0.0966 - accuracy: 0.9627\n",
      "Epoch 16/50\n",
      "219/219 [==============================] - 3s 13ms/step - loss: 0.0908 - accuracy: 0.9650\n",
      "Epoch 17/50\n",
      "219/219 [==============================] - 3s 13ms/step - loss: 0.0895 - accuracy: 0.9659\n",
      "Epoch 18/50\n",
      "219/219 [==============================] - 3s 14ms/step - loss: 0.0702 - accuracy: 0.9726\n",
      "Epoch 19/50\n",
      "219/219 [==============================] - 3s 14ms/step - loss: 0.0666 - accuracy: 0.9741\n",
      "Epoch 20/50\n",
      "219/219 [==============================] - 3s 14ms/step - loss: 0.0589 - accuracy: 0.9781\n",
      "Epoch 21/50\n",
      "219/219 [==============================] - 3s 13ms/step - loss: 0.0548 - accuracy: 0.9801\n",
      "Epoch 22/50\n",
      "219/219 [==============================] - 3s 13ms/step - loss: 0.0509 - accuracy: 0.9813\n",
      "Epoch 23/50\n",
      "219/219 [==============================] - 3s 13ms/step - loss: 0.0585 - accuracy: 0.9786\n",
      "Epoch 24/50\n",
      "219/219 [==============================] - 3s 14ms/step - loss: 0.0397 - accuracy: 0.9869\n",
      "Epoch 25/50\n",
      "219/219 [==============================] - 3s 15ms/step - loss: 0.0422 - accuracy: 0.9846\n",
      "Epoch 26/50\n",
      "219/219 [==============================] - 3s 13ms/step - loss: 0.0520 - accuracy: 0.9811\n",
      "Epoch 27/50\n",
      "219/219 [==============================] - 3s 13ms/step - loss: 0.0364 - accuracy: 0.9869\n",
      "Epoch 28/50\n",
      "219/219 [==============================] - 3s 13ms/step - loss: 0.0266 - accuracy: 0.9904\n",
      "Epoch 29/50\n",
      "219/219 [==============================] - 3s 14ms/step - loss: 0.0321 - accuracy: 0.9873\n",
      "Epoch 30/50\n",
      "219/219 [==============================] - 3s 14ms/step - loss: 0.0239 - accuracy: 0.9916\n",
      "Epoch 31/50\n",
      "219/219 [==============================] - 3s 14ms/step - loss: 0.0263 - accuracy: 0.9899\n",
      "Epoch 32/50\n",
      "219/219 [==============================] - 3s 13ms/step - loss: 0.0207 - accuracy: 0.9924\n",
      "Epoch 33/50\n",
      "219/219 [==============================] - 3s 14ms/step - loss: 0.0387 - accuracy: 0.9873\n",
      "Epoch 34/50\n",
      "219/219 [==============================] - 3s 14ms/step - loss: 0.0262 - accuracy: 0.9910\n",
      "Epoch 35/50\n",
      "219/219 [==============================] - 3s 14ms/step - loss: 0.0245 - accuracy: 0.9920\n",
      "Epoch 36/50\n",
      "219/219 [==============================] - 3s 14ms/step - loss: 0.0298 - accuracy: 0.9893\n",
      "Epoch 37/50\n",
      "219/219 [==============================] - 3s 13ms/step - loss: 0.0237 - accuracy: 0.9911\n",
      "Epoch 38/50\n",
      "219/219 [==============================] - 3s 14ms/step - loss: 0.0211 - accuracy: 0.9926\n",
      "Epoch 39/50\n",
      "219/219 [==============================] - 3s 14ms/step - loss: 0.0189 - accuracy: 0.9929\n",
      "Epoch 40/50\n",
      "219/219 [==============================] - 3s 13ms/step - loss: 0.0267 - accuracy: 0.9913\n",
      "Epoch 41/50\n",
      "219/219 [==============================] - 3s 13ms/step - loss: 0.0222 - accuracy: 0.9923\n",
      "Epoch 42/50\n",
      "219/219 [==============================] - 3s 14ms/step - loss: 0.0227 - accuracy: 0.9921\n",
      "Epoch 43/50\n",
      "219/219 [==============================] - 3s 14ms/step - loss: 0.0188 - accuracy: 0.9920\n",
      "Epoch 44/50\n",
      "219/219 [==============================] - 3s 14ms/step - loss: 0.0193 - accuracy: 0.9941\n",
      "Epoch 45/50\n",
      "219/219 [==============================] - 3s 14ms/step - loss: 0.0158 - accuracy: 0.9941\n",
      "Epoch 46/50\n",
      "219/219 [==============================] - 3s 14ms/step - loss: 0.0160 - accuracy: 0.9947\n",
      "Epoch 47/50\n",
      "219/219 [==============================] - 3s 14ms/step - loss: 0.0162 - accuracy: 0.9949\n",
      "Epoch 48/50\n",
      "219/219 [==============================] - 3s 13ms/step - loss: 0.0144 - accuracy: 0.9954\n",
      "Epoch 49/50\n",
      "219/219 [==============================] - 3s 13ms/step - loss: 0.0206 - accuracy: 0.9937\n",
      "Epoch 50/50\n",
      "219/219 [==============================] - 3s 14ms/step - loss: 0.0195 - accuracy: 0.9934\n"
     ]
    }
   ],
   "source": [
    "history = CNN.fit(X_train,y_train, epochs=50)"
   ]
  },
  {
   "cell_type": "markdown",
   "id": "3728a939",
   "metadata": {},
   "source": [
    "### Make predictions and test accuracy on training set"
   ]
  },
  {
   "cell_type": "code",
   "execution_count": 30,
   "id": "55ffd941",
   "metadata": {},
   "outputs": [],
   "source": [
    "logits_train = CNN(X_train)\n",
    "probs_train = tf.nn.softmax(logits_train)\n",
    "probs_train = tf.make_tensor_proto(probs_train)\n",
    "probs_np = tf.make_ndarray(probs_train)\n",
    "y_pred = np.argmax(probs_np, axis=1)"
   ]
  },
  {
   "cell_type": "code",
   "execution_count": 31,
   "id": "2f8e2cd2",
   "metadata": {},
   "outputs": [
    {
     "data": {
      "text/plain": [
       "array([0, 1, 0, ..., 1, 3, 1], dtype=int64)"
      ]
     },
     "execution_count": 31,
     "metadata": {},
     "output_type": "execute_result"
    }
   ],
   "source": [
    "y_pred"
   ]
  },
  {
   "cell_type": "code",
   "execution_count": 32,
   "id": "0fa365c5",
   "metadata": {},
   "outputs": [
    {
     "data": {
      "text/plain": [
       "0.9992857142857143"
      ]
     },
     "execution_count": 32,
     "metadata": {},
     "output_type": "execute_result"
    }
   ],
   "source": [
    "accuracy_score(y_pred, y_train)"
   ]
  },
  {
   "cell_type": "markdown",
   "id": "fcd44f51",
   "metadata": {},
   "source": [
    "### Make predictions and test accuracy on validation set"
   ]
  },
  {
   "cell_type": "code",
   "execution_count": 33,
   "id": "c624f00a",
   "metadata": {},
   "outputs": [],
   "source": [
    "logits_val = CNN(X_val)\n",
    "probs_val = tf.nn.softmax(logits_val)\n",
    "probs_val = tf.make_tensor_proto(probs_val)\n",
    "probs_np_val = tf.make_ndarray(probs_val)\n",
    "y_pred_val = np.argmax(probs_np_val, axis=1)"
   ]
  },
  {
   "cell_type": "code",
   "execution_count": 34,
   "id": "9f2deb7e",
   "metadata": {},
   "outputs": [
    {
     "data": {
      "text/plain": [
       "0.897"
      ]
     },
     "execution_count": 34,
     "metadata": {},
     "output_type": "execute_result"
    }
   ],
   "source": [
    "accuracy_score(y_pred_val, y_val)"
   ]
  },
  {
   "cell_type": "markdown",
   "id": "d7cfb228",
   "metadata": {},
   "source": [
    "### Make predictions and test accuracy on test set"
   ]
  },
  {
   "cell_type": "code",
   "execution_count": 36,
   "id": "4f8738e3",
   "metadata": {},
   "outputs": [],
   "source": [
    "logits_test = CNN(X_test)\n",
    "probs_test = tf.nn.softmax(logits_test)\n",
    "probs_test = tf.make_tensor_proto(probs_test)\n",
    "probs_np_test = tf.make_ndarray(probs_test)\n",
    "y_pred_test = np.argmax(probs_np_test, axis=1)"
   ]
  },
  {
   "cell_type": "code",
   "execution_count": 37,
   "id": "f449cb2f",
   "metadata": {},
   "outputs": [
    {
     "data": {
      "text/plain": [
       "0.8864"
      ]
     },
     "execution_count": 37,
     "metadata": {},
     "output_type": "execute_result"
    }
   ],
   "source": [
    "accuracy_score(y_pred_test, y_test)"
   ]
  }
 ],
 "metadata": {
  "kernelspec": {
   "display_name": "Python 3 (ipykernel)",
   "language": "python",
   "name": "python3"
  },
  "language_info": {
   "codemirror_mode": {
    "name": "ipython",
    "version": 3
   },
   "file_extension": ".py",
   "mimetype": "text/x-python",
   "name": "python",
   "nbconvert_exporter": "python",
   "pygments_lexer": "ipython3",
   "version": "3.9.6"
  }
 },
 "nbformat": 4,
 "nbformat_minor": 5
}
